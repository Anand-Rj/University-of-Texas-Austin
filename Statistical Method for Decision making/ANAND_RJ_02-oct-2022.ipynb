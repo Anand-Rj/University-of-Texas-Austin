{
 "cells": [
  {
   "cell_type": "code",
   "execution_count": 1,
   "id": "a2af4c1c",
   "metadata": {},
   "outputs": [],
   "source": [
    "import numpy as np\n",
    "import pandas as pd\n",
    "import matplotlib.pyplot as plt\n",
    "import seaborn as sns"
   ]
  },
  {
   "cell_type": "code",
   "execution_count": 2,
   "id": "6e6a7fb7",
   "metadata": {},
   "outputs": [
    {
     "name": "stdout",
     "output_type": "stream",
     "text": [
      "1.21.5\n",
      "1.4.2\n",
      "0.11.2\n"
     ]
    }
   ],
   "source": [
    "print(np.__version__)\n",
    "print(pd.__version__)\n",
    "print(sns.__version__)"
   ]
  },
  {
   "cell_type": "code",
   "execution_count": 3,
   "id": "0fd1920b",
   "metadata": {},
   "outputs": [],
   "source": [
    "#Load Data Set\n",
    "df = pd.read_csv(\"austo_automobile+%282%29+%281%29.csv\")"
   ]
  },
  {
   "cell_type": "markdown",
   "id": "2e34959c",
   "metadata": {},
   "source": [
    "A. What is the important technical information about the dataset that a database administrator would be interested in? (Hint: Information about the size of the dataset and the nature of the variables)\n"
   ]
  },
  {
   "cell_type": "code",
   "execution_count": 4,
   "id": "724ea7bc",
   "metadata": {},
   "outputs": [
    {
     "data": {
      "text/html": [
       "<div>\n",
       "<style scoped>\n",
       "    .dataframe tbody tr th:only-of-type {\n",
       "        vertical-align: middle;\n",
       "    }\n",
       "\n",
       "    .dataframe tbody tr th {\n",
       "        vertical-align: top;\n",
       "    }\n",
       "\n",
       "    .dataframe thead th {\n",
       "        text-align: right;\n",
       "    }\n",
       "</style>\n",
       "<table border=\"1\" class=\"dataframe\">\n",
       "  <thead>\n",
       "    <tr style=\"text-align: right;\">\n",
       "      <th></th>\n",
       "      <th>Age</th>\n",
       "      <th>Gender</th>\n",
       "      <th>Profession</th>\n",
       "      <th>Marital_status</th>\n",
       "      <th>Education</th>\n",
       "      <th>No_of_Dependents</th>\n",
       "      <th>Personal_loan</th>\n",
       "      <th>House_loan</th>\n",
       "      <th>Partner_working</th>\n",
       "      <th>Salary</th>\n",
       "      <th>Partner_salary</th>\n",
       "      <th>Total_salary</th>\n",
       "      <th>Price</th>\n",
       "      <th>Make</th>\n",
       "    </tr>\n",
       "  </thead>\n",
       "  <tbody>\n",
       "    <tr>\n",
       "      <th>0</th>\n",
       "      <td>53</td>\n",
       "      <td>Male</td>\n",
       "      <td>Business</td>\n",
       "      <td>Married</td>\n",
       "      <td>Post Graduate</td>\n",
       "      <td>4</td>\n",
       "      <td>No</td>\n",
       "      <td>No</td>\n",
       "      <td>Yes</td>\n",
       "      <td>99300</td>\n",
       "      <td>70700.0</td>\n",
       "      <td>170000</td>\n",
       "      <td>61000</td>\n",
       "      <td>SUV</td>\n",
       "    </tr>\n",
       "    <tr>\n",
       "      <th>1</th>\n",
       "      <td>53</td>\n",
       "      <td>Femal</td>\n",
       "      <td>Salaried</td>\n",
       "      <td>Married</td>\n",
       "      <td>Post Graduate</td>\n",
       "      <td>4</td>\n",
       "      <td>Yes</td>\n",
       "      <td>No</td>\n",
       "      <td>Yes</td>\n",
       "      <td>95500</td>\n",
       "      <td>70300.0</td>\n",
       "      <td>165800</td>\n",
       "      <td>61000</td>\n",
       "      <td>SUV</td>\n",
       "    </tr>\n",
       "    <tr>\n",
       "      <th>2</th>\n",
       "      <td>53</td>\n",
       "      <td>Female</td>\n",
       "      <td>Salaried</td>\n",
       "      <td>Married</td>\n",
       "      <td>Post Graduate</td>\n",
       "      <td>3</td>\n",
       "      <td>No</td>\n",
       "      <td>No</td>\n",
       "      <td>Yes</td>\n",
       "      <td>97300</td>\n",
       "      <td>60700.0</td>\n",
       "      <td>158000</td>\n",
       "      <td>57000</td>\n",
       "      <td>SUV</td>\n",
       "    </tr>\n",
       "    <tr>\n",
       "      <th>3</th>\n",
       "      <td>53</td>\n",
       "      <td>Female</td>\n",
       "      <td>Salaried</td>\n",
       "      <td>Married</td>\n",
       "      <td>Graduate</td>\n",
       "      <td>2</td>\n",
       "      <td>Yes</td>\n",
       "      <td>No</td>\n",
       "      <td>Yes</td>\n",
       "      <td>72500</td>\n",
       "      <td>70300.0</td>\n",
       "      <td>142800</td>\n",
       "      <td>61000</td>\n",
       "      <td>SUV</td>\n",
       "    </tr>\n",
       "    <tr>\n",
       "      <th>4</th>\n",
       "      <td>53</td>\n",
       "      <td>Male</td>\n",
       "      <td>Salaried</td>\n",
       "      <td>Married</td>\n",
       "      <td>Post Graduate</td>\n",
       "      <td>3</td>\n",
       "      <td>No</td>\n",
       "      <td>No</td>\n",
       "      <td>Yes</td>\n",
       "      <td>79700</td>\n",
       "      <td>60200.0</td>\n",
       "      <td>139900</td>\n",
       "      <td>57000</td>\n",
       "      <td>SUV</td>\n",
       "    </tr>\n",
       "  </tbody>\n",
       "</table>\n",
       "</div>"
      ],
      "text/plain": [
       "   Age  Gender Profession Marital_status      Education  No_of_Dependents  \\\n",
       "0   53    Male   Business        Married  Post Graduate                 4   \n",
       "1   53   Femal   Salaried        Married  Post Graduate                 4   \n",
       "2   53  Female   Salaried        Married  Post Graduate                 3   \n",
       "3   53  Female   Salaried        Married       Graduate                 2   \n",
       "4   53    Male   Salaried        Married  Post Graduate                 3   \n",
       "\n",
       "  Personal_loan House_loan Partner_working  Salary  Partner_salary  \\\n",
       "0            No         No             Yes   99300         70700.0   \n",
       "1           Yes         No             Yes   95500         70300.0   \n",
       "2            No         No             Yes   97300         60700.0   \n",
       "3           Yes         No             Yes   72500         70300.0   \n",
       "4            No         No             Yes   79700         60200.0   \n",
       "\n",
       "   Total_salary  Price Make  \n",
       "0        170000  61000  SUV  \n",
       "1        165800  61000  SUV  \n",
       "2        158000  57000  SUV  \n",
       "3        142800  61000  SUV  \n",
       "4        139900  57000  SUV  "
      ]
     },
     "execution_count": 4,
     "metadata": {},
     "output_type": "execute_result"
    }
   ],
   "source": [
    "df.head()"
   ]
  },
  {
   "cell_type": "code",
   "execution_count": 5,
   "id": "bfc4c2d1",
   "metadata": {},
   "outputs": [
    {
     "data": {
      "text/html": [
       "<div>\n",
       "<style scoped>\n",
       "    .dataframe tbody tr th:only-of-type {\n",
       "        vertical-align: middle;\n",
       "    }\n",
       "\n",
       "    .dataframe tbody tr th {\n",
       "        vertical-align: top;\n",
       "    }\n",
       "\n",
       "    .dataframe thead th {\n",
       "        text-align: right;\n",
       "    }\n",
       "</style>\n",
       "<table border=\"1\" class=\"dataframe\">\n",
       "  <thead>\n",
       "    <tr style=\"text-align: right;\">\n",
       "      <th></th>\n",
       "      <th>Age</th>\n",
       "      <th>Gender</th>\n",
       "      <th>Profession</th>\n",
       "      <th>Marital_status</th>\n",
       "      <th>Education</th>\n",
       "      <th>No_of_Dependents</th>\n",
       "      <th>Personal_loan</th>\n",
       "      <th>House_loan</th>\n",
       "      <th>Partner_working</th>\n",
       "      <th>Salary</th>\n",
       "      <th>Partner_salary</th>\n",
       "      <th>Total_salary</th>\n",
       "      <th>Price</th>\n",
       "      <th>Make</th>\n",
       "    </tr>\n",
       "  </thead>\n",
       "  <tbody>\n",
       "    <tr>\n",
       "      <th>1576</th>\n",
       "      <td>22</td>\n",
       "      <td>Male</td>\n",
       "      <td>Salaried</td>\n",
       "      <td>Single</td>\n",
       "      <td>Graduate</td>\n",
       "      <td>2</td>\n",
       "      <td>No</td>\n",
       "      <td>Yes</td>\n",
       "      <td>No</td>\n",
       "      <td>33300</td>\n",
       "      <td>0.0</td>\n",
       "      <td>33300</td>\n",
       "      <td>27000</td>\n",
       "      <td>Hatchback</td>\n",
       "    </tr>\n",
       "    <tr>\n",
       "      <th>1577</th>\n",
       "      <td>22</td>\n",
       "      <td>Male</td>\n",
       "      <td>Business</td>\n",
       "      <td>Married</td>\n",
       "      <td>Graduate</td>\n",
       "      <td>4</td>\n",
       "      <td>No</td>\n",
       "      <td>No</td>\n",
       "      <td>No</td>\n",
       "      <td>32000</td>\n",
       "      <td>NaN</td>\n",
       "      <td>32000</td>\n",
       "      <td>31000</td>\n",
       "      <td>Hatchback</td>\n",
       "    </tr>\n",
       "    <tr>\n",
       "      <th>1578</th>\n",
       "      <td>22</td>\n",
       "      <td>Male</td>\n",
       "      <td>Business</td>\n",
       "      <td>Single</td>\n",
       "      <td>Graduate</td>\n",
       "      <td>2</td>\n",
       "      <td>No</td>\n",
       "      <td>Yes</td>\n",
       "      <td>No</td>\n",
       "      <td>32900</td>\n",
       "      <td>0.0</td>\n",
       "      <td>32900</td>\n",
       "      <td>30000</td>\n",
       "      <td>Hatchback</td>\n",
       "    </tr>\n",
       "    <tr>\n",
       "      <th>1579</th>\n",
       "      <td>22</td>\n",
       "      <td>Male</td>\n",
       "      <td>Business</td>\n",
       "      <td>Married</td>\n",
       "      <td>Graduate</td>\n",
       "      <td>3</td>\n",
       "      <td>Yes</td>\n",
       "      <td>Yes</td>\n",
       "      <td>No</td>\n",
       "      <td>32200</td>\n",
       "      <td>NaN</td>\n",
       "      <td>32200</td>\n",
       "      <td>24000</td>\n",
       "      <td>Hatchback</td>\n",
       "    </tr>\n",
       "    <tr>\n",
       "      <th>1580</th>\n",
       "      <td>22</td>\n",
       "      <td>Male</td>\n",
       "      <td>Salaried</td>\n",
       "      <td>Married</td>\n",
       "      <td>Graduate</td>\n",
       "      <td>4</td>\n",
       "      <td>No</td>\n",
       "      <td>No</td>\n",
       "      <td>No</td>\n",
       "      <td>31600</td>\n",
       "      <td>0.0</td>\n",
       "      <td>31600</td>\n",
       "      <td>31000</td>\n",
       "      <td>Hatchback</td>\n",
       "    </tr>\n",
       "  </tbody>\n",
       "</table>\n",
       "</div>"
      ],
      "text/plain": [
       "      Age Gender Profession Marital_status Education  No_of_Dependents  \\\n",
       "1576   22   Male   Salaried         Single  Graduate                 2   \n",
       "1577   22   Male   Business        Married  Graduate                 4   \n",
       "1578   22   Male   Business         Single  Graduate                 2   \n",
       "1579   22   Male   Business        Married  Graduate                 3   \n",
       "1580   22   Male   Salaried        Married  Graduate                 4   \n",
       "\n",
       "     Personal_loan House_loan Partner_working  Salary  Partner_salary  \\\n",
       "1576            No        Yes              No   33300             0.0   \n",
       "1577            No         No              No   32000             NaN   \n",
       "1578            No        Yes              No   32900             0.0   \n",
       "1579           Yes        Yes              No   32200             NaN   \n",
       "1580            No         No              No   31600             0.0   \n",
       "\n",
       "      Total_salary  Price       Make  \n",
       "1576         33300  27000  Hatchback  \n",
       "1577         32000  31000  Hatchback  \n",
       "1578         32900  30000  Hatchback  \n",
       "1579         32200  24000  Hatchback  \n",
       "1580         31600  31000  Hatchback  "
      ]
     },
     "execution_count": 5,
     "metadata": {},
     "output_type": "execute_result"
    }
   ],
   "source": [
    "df.tail()"
   ]
  },
  {
   "cell_type": "code",
   "execution_count": 6,
   "id": "0c632b78",
   "metadata": {},
   "outputs": [
    {
     "data": {
      "text/html": [
       "<div>\n",
       "<style scoped>\n",
       "    .dataframe tbody tr th:only-of-type {\n",
       "        vertical-align: middle;\n",
       "    }\n",
       "\n",
       "    .dataframe tbody tr th {\n",
       "        vertical-align: top;\n",
       "    }\n",
       "\n",
       "    .dataframe thead th {\n",
       "        text-align: right;\n",
       "    }\n",
       "</style>\n",
       "<table border=\"1\" class=\"dataframe\">\n",
       "  <thead>\n",
       "    <tr style=\"text-align: right;\">\n",
       "      <th></th>\n",
       "      <th>count</th>\n",
       "      <th>mean</th>\n",
       "      <th>std</th>\n",
       "      <th>min</th>\n",
       "      <th>25%</th>\n",
       "      <th>50%</th>\n",
       "      <th>75%</th>\n",
       "      <th>max</th>\n",
       "    </tr>\n",
       "  </thead>\n",
       "  <tbody>\n",
       "    <tr>\n",
       "      <th>Age</th>\n",
       "      <td>1581.0</td>\n",
       "      <td>31.922201</td>\n",
       "      <td>8.425978</td>\n",
       "      <td>22.0</td>\n",
       "      <td>25.0</td>\n",
       "      <td>29.0</td>\n",
       "      <td>38.0</td>\n",
       "      <td>54.0</td>\n",
       "    </tr>\n",
       "    <tr>\n",
       "      <th>No_of_Dependents</th>\n",
       "      <td>1581.0</td>\n",
       "      <td>2.457938</td>\n",
       "      <td>0.943483</td>\n",
       "      <td>0.0</td>\n",
       "      <td>2.0</td>\n",
       "      <td>2.0</td>\n",
       "      <td>3.0</td>\n",
       "      <td>4.0</td>\n",
       "    </tr>\n",
       "    <tr>\n",
       "      <th>Salary</th>\n",
       "      <td>1581.0</td>\n",
       "      <td>60392.220114</td>\n",
       "      <td>14674.825044</td>\n",
       "      <td>30000.0</td>\n",
       "      <td>51900.0</td>\n",
       "      <td>59500.0</td>\n",
       "      <td>71800.0</td>\n",
       "      <td>99300.0</td>\n",
       "    </tr>\n",
       "    <tr>\n",
       "      <th>Partner_salary</th>\n",
       "      <td>1475.0</td>\n",
       "      <td>20225.559322</td>\n",
       "      <td>19573.149277</td>\n",
       "      <td>0.0</td>\n",
       "      <td>0.0</td>\n",
       "      <td>25600.0</td>\n",
       "      <td>38300.0</td>\n",
       "      <td>80500.0</td>\n",
       "    </tr>\n",
       "    <tr>\n",
       "      <th>Total_salary</th>\n",
       "      <td>1581.0</td>\n",
       "      <td>79625.996205</td>\n",
       "      <td>25545.857768</td>\n",
       "      <td>30000.0</td>\n",
       "      <td>60500.0</td>\n",
       "      <td>78000.0</td>\n",
       "      <td>95900.0</td>\n",
       "      <td>171000.0</td>\n",
       "    </tr>\n",
       "    <tr>\n",
       "      <th>Price</th>\n",
       "      <td>1581.0</td>\n",
       "      <td>35597.722960</td>\n",
       "      <td>13633.636545</td>\n",
       "      <td>18000.0</td>\n",
       "      <td>25000.0</td>\n",
       "      <td>31000.0</td>\n",
       "      <td>47000.0</td>\n",
       "      <td>70000.0</td>\n",
       "    </tr>\n",
       "  </tbody>\n",
       "</table>\n",
       "</div>"
      ],
      "text/plain": [
       "                   count          mean           std      min      25%  \\\n",
       "Age               1581.0     31.922201      8.425978     22.0     25.0   \n",
       "No_of_Dependents  1581.0      2.457938      0.943483      0.0      2.0   \n",
       "Salary            1581.0  60392.220114  14674.825044  30000.0  51900.0   \n",
       "Partner_salary    1475.0  20225.559322  19573.149277      0.0      0.0   \n",
       "Total_salary      1581.0  79625.996205  25545.857768  30000.0  60500.0   \n",
       "Price             1581.0  35597.722960  13633.636545  18000.0  25000.0   \n",
       "\n",
       "                      50%      75%       max  \n",
       "Age                  29.0     38.0      54.0  \n",
       "No_of_Dependents      2.0      3.0       4.0  \n",
       "Salary            59500.0  71800.0   99300.0  \n",
       "Partner_salary    25600.0  38300.0   80500.0  \n",
       "Total_salary      78000.0  95900.0  171000.0  \n",
       "Price             31000.0  47000.0   70000.0  "
      ]
     },
     "execution_count": 6,
     "metadata": {},
     "output_type": "execute_result"
    }
   ],
   "source": [
    "df.describe().T"
   ]
  },
  {
   "cell_type": "code",
   "execution_count": 7,
   "id": "185d8d26",
   "metadata": {},
   "outputs": [
    {
     "name": "stdout",
     "output_type": "stream",
     "text": [
      "no of rows:  1581 \n",
      "no of columns:  14\n"
     ]
    }
   ],
   "source": [
    "print(\"no of rows: \",df.shape[0],\"\\n\"\"no of columns: \",df.shape[1])"
   ]
  },
  {
   "cell_type": "code",
   "execution_count": 8,
   "id": "5768351a",
   "metadata": {},
   "outputs": [
    {
     "name": "stdout",
     "output_type": "stream",
     "text": [
      "<class 'pandas.core.frame.DataFrame'>\n",
      "RangeIndex: 1581 entries, 0 to 1580\n",
      "Data columns (total 14 columns):\n",
      " #   Column            Non-Null Count  Dtype  \n",
      "---  ------            --------------  -----  \n",
      " 0   Age               1581 non-null   int64  \n",
      " 1   Gender            1528 non-null   object \n",
      " 2   Profession        1581 non-null   object \n",
      " 3   Marital_status    1581 non-null   object \n",
      " 4   Education         1581 non-null   object \n",
      " 5   No_of_Dependents  1581 non-null   int64  \n",
      " 6   Personal_loan     1581 non-null   object \n",
      " 7   House_loan        1581 non-null   object \n",
      " 8   Partner_working   1581 non-null   object \n",
      " 9   Salary            1581 non-null   int64  \n",
      " 10  Partner_salary    1475 non-null   float64\n",
      " 11  Total_salary      1581 non-null   int64  \n",
      " 12  Price             1581 non-null   int64  \n",
      " 13  Make              1581 non-null   object \n",
      "dtypes: float64(1), int64(5), object(8)\n",
      "memory usage: 173.0+ KB\n"
     ]
    }
   ],
   "source": [
    "df.info()"
   ]
  },
  {
   "cell_type": "code",
   "execution_count": 9,
   "id": "09172602",
   "metadata": {},
   "outputs": [
    {
     "data": {
      "text/plain": [
       "array(['Business', 'Salaried'], dtype=object)"
      ]
     },
     "execution_count": 9,
     "metadata": {},
     "output_type": "execute_result"
    }
   ],
   "source": [
    "df['Profession'].unique()"
   ]
  },
  {
   "cell_type": "code",
   "execution_count": 10,
   "id": "afe5d1b1",
   "metadata": {},
   "outputs": [
    {
     "data": {
      "text/plain": [
       "array(['Married', 'Single'], dtype=object)"
      ]
     },
     "execution_count": 10,
     "metadata": {},
     "output_type": "execute_result"
    }
   ],
   "source": [
    "df['Marital_status'].unique()"
   ]
  },
  {
   "cell_type": "code",
   "execution_count": 11,
   "id": "56365539",
   "metadata": {},
   "outputs": [
    {
     "data": {
      "text/plain": [
       "array(['Post Graduate', 'Graduate'], dtype=object)"
      ]
     },
     "execution_count": 11,
     "metadata": {},
     "output_type": "execute_result"
    }
   ],
   "source": [
    "df['Education'].unique()"
   ]
  },
  {
   "cell_type": "code",
   "execution_count": 12,
   "id": "34572df7",
   "metadata": {},
   "outputs": [
    {
     "data": {
      "text/plain": [
       "array(['No', 'Yes'], dtype=object)"
      ]
     },
     "execution_count": 12,
     "metadata": {},
     "output_type": "execute_result"
    }
   ],
   "source": [
    "df['Personal_loan'].unique()"
   ]
  },
  {
   "cell_type": "code",
   "execution_count": 13,
   "id": "cca3954e",
   "metadata": {},
   "outputs": [
    {
     "data": {
      "text/plain": [
       "array(['No', 'Yes'], dtype=object)"
      ]
     },
     "execution_count": 13,
     "metadata": {},
     "output_type": "execute_result"
    }
   ],
   "source": [
    "df['House_loan'].unique()"
   ]
  },
  {
   "cell_type": "code",
   "execution_count": 14,
   "id": "9271ad8e",
   "metadata": {},
   "outputs": [
    {
     "data": {
      "text/plain": [
       "array(['Yes', 'No'], dtype=object)"
      ]
     },
     "execution_count": 14,
     "metadata": {},
     "output_type": "execute_result"
    }
   ],
   "source": [
    "df[\"Partner_working\"].unique()"
   ]
  },
  {
   "cell_type": "code",
   "execution_count": 15,
   "id": "60a7ff1a",
   "metadata": {},
   "outputs": [
    {
     "data": {
      "text/plain": [
       "array(['SUV', 'Sedan', 'Hatchback'], dtype=object)"
      ]
     },
     "execution_count": 15,
     "metadata": {},
     "output_type": "execute_result"
    }
   ],
   "source": [
    "df['Make'].unique()"
   ]
  },
  {
   "cell_type": "code",
   "execution_count": 16,
   "id": "49fe9825",
   "metadata": {},
   "outputs": [
    {
     "data": {
      "text/plain": [
       "array(['Male', 'Femal', 'Female', nan, 'Femle'], dtype=object)"
      ]
     },
     "execution_count": 16,
     "metadata": {},
     "output_type": "execute_result"
    }
   ],
   "source": [
    "df['Gender'].unique()"
   ]
  },
  {
   "cell_type": "markdown",
   "id": "4943da6f",
   "metadata": {},
   "source": [
    "B. Take a critical look at the data and do a preliminary analysis of the variables. Do a quality check of the data so that the variables are consistent. Are there any discrepancies present in the data?"
   ]
  },
  {
   "cell_type": "code",
   "execution_count": 17,
   "id": "4877e8e8",
   "metadata": {},
   "outputs": [
    {
     "data": {
      "text/plain": [
       "array([70700., 70300., 60700., 60200., 60500., 50800., 40400.,     0.,\n",
       "       70600., 60600., 60300., 45500., 40200., 40700.,   600.,   700.,\n",
       "       27800., 70000., 40100., 40900., 27000.,    nan, 40500., 50400.,\n",
       "       80400., 60900., 60100., 70200., 30000., 40300., 40800., 70800.,\n",
       "         900., 45000., 40600., 50700., 80500., 27700., 35800., 26600.,\n",
       "       60000., 27900., 60800., 40000., 70100., 38100., 38200., 30200.,\n",
       "       38500., 50900., 35100., 38700., 38300., 38900., 23200., 24700.,\n",
       "       30800., 28100., 38400., 38000., 23100., 30100., 25700., 70400.,\n",
       "         200., 30900., 26100., 45700.,   400., 28200., 70900., 38800.,\n",
       "       45200., 26800., 60400., 30300., 25800.,   800., 38600., 24500.,\n",
       "       30700., 28500., 24900., 70500., 35900., 30500., 28900., 27200.,\n",
       "       45900., 25300., 35600., 25000., 25200., 26300., 35700., 23800.,\n",
       "       32700., 30600., 45600., 28000., 32600., 28600., 25100., 26700.,\n",
       "       24200., 25900., 22100., 25400., 28400., 28300., 25500., 24000.,\n",
       "       32400., 28800., 32300., 32900., 27600., 35500., 23500., 45400.,\n",
       "       28700., 32800., 23700., 32500., 35300., 45800., 27300., 22900.,\n",
       "       29800., 30400., 35400., 24300., 29200., 24600.,   100., 50300.,\n",
       "       32000., 32200., 24400., 32100., 22600., 26900.,   300., 20000.,\n",
       "       26200., 22300., 25600.,   500., 35200., 35000.])"
      ]
     },
     "execution_count": 17,
     "metadata": {},
     "output_type": "execute_result"
    }
   ],
   "source": [
    "df['Partner_salary'].unique()"
   ]
  },
  {
   "cell_type": "code",
   "execution_count": 19,
   "id": "dd159375",
   "metadata": {},
   "outputs": [
    {
     "data": {
      "text/plain": [
       "array(['Male', 'Femal', 'Female', nan, 'Femle'], dtype=object)"
      ]
     },
     "execution_count": 19,
     "metadata": {},
     "output_type": "execute_result"
    }
   ],
   "source": [
    "df['Gender'].unique()"
   ]
  },
  {
   "cell_type": "code",
   "execution_count": 20,
   "id": "16e308d5",
   "metadata": {},
   "outputs": [
    {
     "data": {
      "text/plain": [
       "Male      1199\n",
       "Female     327\n",
       "Femal        1\n",
       "Femle        1\n",
       "Name: Gender, dtype: int64"
      ]
     },
     "execution_count": 20,
     "metadata": {},
     "output_type": "execute_result"
    }
   ],
   "source": [
    "df['Gender'].value_counts()"
   ]
  },
  {
   "cell_type": "code",
   "execution_count": 21,
   "id": "62edb072",
   "metadata": {},
   "outputs": [
    {
     "data": {
      "text/html": [
       "<div>\n",
       "<style scoped>\n",
       "    .dataframe tbody tr th:only-of-type {\n",
       "        vertical-align: middle;\n",
       "    }\n",
       "\n",
       "    .dataframe tbody tr th {\n",
       "        vertical-align: top;\n",
       "    }\n",
       "\n",
       "    .dataframe thead th {\n",
       "        text-align: right;\n",
       "    }\n",
       "</style>\n",
       "<table border=\"1\" class=\"dataframe\">\n",
       "  <thead>\n",
       "    <tr style=\"text-align: right;\">\n",
       "      <th></th>\n",
       "      <th>Age</th>\n",
       "      <th>Gender</th>\n",
       "      <th>Profession</th>\n",
       "      <th>Marital_status</th>\n",
       "      <th>Education</th>\n",
       "      <th>No_of_Dependents</th>\n",
       "      <th>Personal_loan</th>\n",
       "      <th>House_loan</th>\n",
       "      <th>Partner_working</th>\n",
       "      <th>Salary</th>\n",
       "      <th>Partner_salary</th>\n",
       "      <th>Total_salary</th>\n",
       "      <th>Price</th>\n",
       "      <th>Make</th>\n",
       "    </tr>\n",
       "  </thead>\n",
       "  <tbody>\n",
       "    <tr>\n",
       "      <th>1</th>\n",
       "      <td>53</td>\n",
       "      <td>Femal</td>\n",
       "      <td>Salaried</td>\n",
       "      <td>Married</td>\n",
       "      <td>Post Graduate</td>\n",
       "      <td>4</td>\n",
       "      <td>Yes</td>\n",
       "      <td>No</td>\n",
       "      <td>Yes</td>\n",
       "      <td>95500</td>\n",
       "      <td>70300.0</td>\n",
       "      <td>165800</td>\n",
       "      <td>61000</td>\n",
       "      <td>SUV</td>\n",
       "    </tr>\n",
       "  </tbody>\n",
       "</table>\n",
       "</div>"
      ],
      "text/plain": [
       "   Age Gender Profession Marital_status      Education  No_of_Dependents  \\\n",
       "1   53  Femal   Salaried        Married  Post Graduate                 4   \n",
       "\n",
       "  Personal_loan House_loan Partner_working  Salary  Partner_salary  \\\n",
       "1           Yes         No             Yes   95500         70300.0   \n",
       "\n",
       "   Total_salary  Price Make  \n",
       "1        165800  61000  SUV  "
      ]
     },
     "execution_count": 21,
     "metadata": {},
     "output_type": "execute_result"
    }
   ],
   "source": [
    "df[df['Gender'] == \"Femal\"]"
   ]
  },
  {
   "cell_type": "code",
   "execution_count": 22,
   "id": "f1ebf3b1",
   "metadata": {},
   "outputs": [
    {
     "data": {
      "text/html": [
       "<div>\n",
       "<style scoped>\n",
       "    .dataframe tbody tr th:only-of-type {\n",
       "        vertical-align: middle;\n",
       "    }\n",
       "\n",
       "    .dataframe tbody tr th {\n",
       "        vertical-align: top;\n",
       "    }\n",
       "\n",
       "    .dataframe thead th {\n",
       "        text-align: right;\n",
       "    }\n",
       "</style>\n",
       "<table border=\"1\" class=\"dataframe\">\n",
       "  <thead>\n",
       "    <tr style=\"text-align: right;\">\n",
       "      <th></th>\n",
       "      <th>Age</th>\n",
       "      <th>Gender</th>\n",
       "      <th>Profession</th>\n",
       "      <th>Marital_status</th>\n",
       "      <th>Education</th>\n",
       "      <th>No_of_Dependents</th>\n",
       "      <th>Personal_loan</th>\n",
       "      <th>House_loan</th>\n",
       "      <th>Partner_working</th>\n",
       "      <th>Salary</th>\n",
       "      <th>Partner_salary</th>\n",
       "      <th>Total_salary</th>\n",
       "      <th>Price</th>\n",
       "      <th>Make</th>\n",
       "    </tr>\n",
       "  </thead>\n",
       "  <tbody>\n",
       "    <tr>\n",
       "      <th>305</th>\n",
       "      <td>40</td>\n",
       "      <td>Femle</td>\n",
       "      <td>Business</td>\n",
       "      <td>Married</td>\n",
       "      <td>Post Graduate</td>\n",
       "      <td>4</td>\n",
       "      <td>No</td>\n",
       "      <td>No</td>\n",
       "      <td>Yes</td>\n",
       "      <td>70000</td>\n",
       "      <td>70800.0</td>\n",
       "      <td>140800</td>\n",
       "      <td>65000</td>\n",
       "      <td>SUV</td>\n",
       "    </tr>\n",
       "  </tbody>\n",
       "</table>\n",
       "</div>"
      ],
      "text/plain": [
       "     Age Gender Profession Marital_status      Education  No_of_Dependents  \\\n",
       "305   40  Femle   Business        Married  Post Graduate                 4   \n",
       "\n",
       "    Personal_loan House_loan Partner_working  Salary  Partner_salary  \\\n",
       "305            No         No             Yes   70000         70800.0   \n",
       "\n",
       "     Total_salary  Price Make  \n",
       "305        140800  65000  SUV  "
      ]
     },
     "execution_count": 22,
     "metadata": {},
     "output_type": "execute_result"
    }
   ],
   "source": [
    "df[df['Gender'] == \"Femle\"]"
   ]
  },
  {
   "cell_type": "code",
   "execution_count": 24,
   "id": "cf03e7df",
   "metadata": {},
   "outputs": [],
   "source": [
    "df['Gender']=df['Gender'].replace(to_replace=\"Femal\",value=\"Female\")"
   ]
  },
  {
   "cell_type": "code",
   "execution_count": 25,
   "id": "4bead414",
   "metadata": {},
   "outputs": [],
   "source": [
    "df['Gender']=df['Gender'].replace(to_replace=\"Femle\",value=\"Female\")"
   ]
  },
  {
   "cell_type": "code",
   "execution_count": 26,
   "id": "9ebe5a46",
   "metadata": {},
   "outputs": [
    {
     "data": {
      "text/plain": [
       "array(['Male', 'Female', nan], dtype=object)"
      ]
     },
     "execution_count": 26,
     "metadata": {},
     "output_type": "execute_result"
    }
   ],
   "source": [
    "df['Gender'].unique()"
   ]
  },
  {
   "cell_type": "code",
   "execution_count": 27,
   "id": "f9fa1a5d",
   "metadata": {},
   "outputs": [
    {
     "data": {
      "text/plain": [
       "Age                   0\n",
       "Gender               53\n",
       "Profession            0\n",
       "Marital_status        0\n",
       "Education             0\n",
       "No_of_Dependents      0\n",
       "Personal_loan         0\n",
       "House_loan            0\n",
       "Partner_working       0\n",
       "Salary                0\n",
       "Partner_salary      106\n",
       "Total_salary          0\n",
       "Price                 0\n",
       "Make                  0\n",
       "dtype: int64"
      ]
     },
     "execution_count": 27,
     "metadata": {},
     "output_type": "execute_result"
    }
   ],
   "source": [
    "df.isnull().sum()"
   ]
  },
  {
   "cell_type": "code",
   "execution_count": 28,
   "id": "42ce203f",
   "metadata": {},
   "outputs": [
    {
     "data": {
      "text/plain": [
       "<AxesSubplot:xlabel='Partner_salary'>"
      ]
     },
     "execution_count": 28,
     "metadata": {},
     "output_type": "execute_result"
    },
    {
     "data": {
      "image/png": "[encoded data removed]",
      "text/plain": [
       "<Figure size 432x288 with 1 Axes>"
      ]
     },
     "metadata": {
      "needs_background": "light"
     },
     "output_type": "display_data"
    }
   ],
   "source": [
    "#Checking for outliers in partner salary\n",
    "sns.boxplot(x='Partner_salary',data=df)"
   ]
  },
  {
   "cell_type": "code",
   "execution_count": 29,
   "id": "8ee8df77",
   "metadata": {},
   "outputs": [
    {
     "data": {
      "text/plain": [
       "count     1475.000000\n",
       "mean     20225.559322\n",
       "std      19573.149277\n",
       "min          0.000000\n",
       "25%          0.000000\n",
       "50%      25600.000000\n",
       "75%      38300.000000\n",
       "max      80500.000000\n",
       "Name: Partner_salary, dtype: float64"
      ]
     },
     "execution_count": 29,
     "metadata": {},
     "output_type": "execute_result"
    }
   ],
   "source": [
    "df.Partner_salary.describe()"
   ]
  },
  {
   "cell_type": "code",
   "execution_count": 30,
   "id": "90b8afc9",
   "metadata": {},
   "outputs": [],
   "source": [
    "df.Partner_salary=df.Partner_salary.fillna(df.Partner_salary.mean())"
   ]
  },
  {
   "cell_type": "code",
   "execution_count": 31,
   "id": "8f1f233e",
   "metadata": {},
   "outputs": [
    {
     "data": {
      "text/plain": [
       "Age                  0\n",
       "Gender              53\n",
       "Profession           0\n",
       "Marital_status       0\n",
       "Education            0\n",
       "No_of_Dependents     0\n",
       "Personal_loan        0\n",
       "House_loan           0\n",
       "Partner_working      0\n",
       "Salary               0\n",
       "Partner_salary       0\n",
       "Total_salary         0\n",
       "Price                0\n",
       "Make                 0\n",
       "dtype: int64"
      ]
     },
     "execution_count": 31,
     "metadata": {},
     "output_type": "execute_result"
    }
   ],
   "source": [
    "df.isnull().sum()"
   ]
  },
  {
   "cell_type": "code",
   "execution_count": 32,
   "id": "5b7a4706",
   "metadata": {},
   "outputs": [],
   "source": [
    "#Chgin gender null values\n",
    "mode1=df['Gender'].mode().values[0]"
   ]
  },
  {
   "cell_type": "code",
   "execution_count": 33,
   "id": "e05fc451",
   "metadata": {},
   "outputs": [],
   "source": [
    "df['Gender']=df['Gender'].replace(np.nan,mode1)"
   ]
  },
  {
   "cell_type": "code",
   "execution_count": 34,
   "id": "e6ee68ac",
   "metadata": {},
   "outputs": [
    {
     "data": {
      "text/plain": [
       "Age                 0\n",
       "Gender              0\n",
       "Profession          0\n",
       "Marital_status      0\n",
       "Education           0\n",
       "No_of_Dependents    0\n",
       "Personal_loan       0\n",
       "House_loan          0\n",
       "Partner_working     0\n",
       "Salary              0\n",
       "Partner_salary      0\n",
       "Total_salary        0\n",
       "Price               0\n",
       "Make                0\n",
       "dtype: int64"
      ]
     },
     "execution_count": 34,
     "metadata": {},
     "output_type": "execute_result"
    }
   ],
   "source": [
    "df.isnull().sum()"
   ]
  },
  {
   "cell_type": "code",
   "execution_count": 35,
   "id": "b8dd0467",
   "metadata": {},
   "outputs": [
    {
     "data": {
      "text/plain": [
       "(1581, 14)"
      ]
     },
     "execution_count": 35,
     "metadata": {},
     "output_type": "execute_result"
    }
   ],
   "source": [
    "df.shape"
   ]
  },
  {
   "cell_type": "code",
   "execution_count": 36,
   "id": "f45b04c5",
   "metadata": {},
   "outputs": [
    {
     "data": {
      "text/plain": [
       "0"
      ]
     },
     "execution_count": 36,
     "metadata": {},
     "output_type": "execute_result"
    }
   ],
   "source": [
    "#Checking for duplicates\n",
    "dups = df.duplicated()\n",
    "dups.sum()"
   ]
  },
  {
   "cell_type": "markdown",
   "id": "261806f8",
   "metadata": {},
   "source": [
    "C. Explore all the features of the data separately by using appropriate visualizations and draw insights that can be utilized by the business."
   ]
  },
  {
   "cell_type": "code",
   "execution_count": 37,
   "id": "fcbac817",
   "metadata": {},
   "outputs": [
    {
     "data": {
      "image/png": "[encoded data removed]",
      "text/plain": [
       "<Figure size 2520x1080 with 15 Axes>"
      ]
     },
     "metadata": {
      "needs_background": "light"
     },
     "output_type": "display_data"
    }
   ],
   "source": [
    "fig, axes = plt.subplots(nrows=3,ncols=5)\n",
    "fig.set_size_inches(35,15)\n",
    "sns.histplot(df['Age'], kde=True,ax=axes[0][0])\n",
    "sns.countplot(x='Gender', data=df, palette='pastel', ax=axes[0][1])\n",
    "sns.countplot(x='Profession', data=df, palette='pastel', ax=axes[0][2])\n",
    "sns.countplot(x='Marital_status', data=df, palette='pastel', ax=axes[0][3])\n",
    "sns.countplot(x='Education', data=df, palette='pastel', ax=axes[0][4])\n",
    "sns.histplot(df['No_of_Dependents'], kde=True, ax=axes[1][0])\n",
    "sns.countplot(x='Personal_loan', data=df, palette='pastel', ax=axes[1][1])\n",
    "sns.countplot(x='House_loan', data=df, palette='pastel', ax=axes[1][2])\n",
    "sns.countplot(x='Partner_working', data=df, palette='pastel', ax=axes[1][3])\n",
    "sns.histplot(df['Salary'], kde=True, ax=axes[1][4])\n",
    "sns.histplot(df['Partner_salary'], kde=True, ax=axes[2][0])\n",
    "sns.histplot(df['Total_salary'], kde=True, ax=axes[2][1])\n",
    "sns.histplot(df['Price'], kde=True, ax=axes[2][2])\n",
    "sns.countplot(x='Make', data=df, palette='pastel', ax=axes[2][3])\n",
    "\n",
    "\n",
    "\n",
    "plt.show()"
   ]
  },
  {
   "cell_type": "markdown",
   "id": "1f90f29b",
   "metadata": {},
   "source": [
    "D. Understanding the relationships among the variables in the dataset is crucial for every analytical project. Perform analysis on the data fields to gain deeper insights. Comment on your understanding of the data. "
   ]
  },
  {
   "cell_type": "code",
   "execution_count": 38,
   "id": "cf2cf13b",
   "metadata": {},
   "outputs": [
    {
     "data": {
      "image/png": "[encoded data removed]",
      "text/plain": [
       "<Figure size 720x720 with 2 Axes>"
      ]
     },
     "metadata": {
      "needs_background": "light"
     },
     "output_type": "display_data"
    }
   ],
   "source": [
    "plt.figure(figsize=(10,10))\n",
    "sns.heatmap(df.corr(),annot=True,fmt=\".2f\");"
   ]
  },
  {
   "cell_type": "markdown",
   "id": "1fd90459",
   "metadata": {},
   "source": [
    "E. Employees working on the existing marketing campaign have made the following remarks. Based on the data and your analysis state whether you agree or disagree with their observations. Justify your answer Based on the data available.\n",
    "\n",
    "E1) Steve Roger says “Men prefer SUV by a large margin, compared to the women”\n",
    "\n",
    "E2) Ned Stark believes that a salaried person is more likely to buy a Sedan.\n",
    "\n",
    "E3) Sheldon Cooper does not believe any of them; he claims that a salaried male is an easier target for a SUV sale over a Sedan Sale."
   ]
  },
  {
   "cell_type": "code",
   "execution_count": 39,
   "id": "d5334023",
   "metadata": {},
   "outputs": [
    {
     "data": {
      "text/plain": [
       "Male      1252\n",
       "Female     329\n",
       "Name: Gender, dtype: int64"
      ]
     },
     "execution_count": 39,
     "metadata": {},
     "output_type": "execute_result"
    },
    {
     "data": {
      "image/png": "[encoded data removed]",
      "text/plain": [
       "<Figure size 432x288 with 1 Axes>"
      ]
     },
     "metadata": {
      "needs_background": "light"
     },
     "output_type": "display_data"
    }
   ],
   "source": [
    "#Answer for E1\n",
    "ax=sns.histplot(x='Make', hue='Gender', data=df,discrete=True, kde=False, stat='percent')\n",
    "df['Gender'].value_counts()"
   ]
  },
  {
   "cell_type": "code",
   "execution_count": 40,
   "id": "8afe4102",
   "metadata": {},
   "outputs": [
    {
     "data": {
      "text/plain": [
       "Salaried    896\n",
       "Business    685\n",
       "Name: Profession, dtype: int64"
      ]
     },
     "execution_count": 40,
     "metadata": {},
     "output_type": "execute_result"
    },
    {
     "data": {
      "image/png": "[encoded data removed]",
      "text/plain": [
       "<Figure size 432x288 with 1 Axes>"
      ]
     },
     "metadata": {
      "needs_background": "light"
     },
     "output_type": "display_data"
    }
   ],
   "source": [
    "#Answer for E2\n",
    "sns.histplot(x='Make', hue='Profession', data=df,discrete=True, kde=False, stat='percent')\n",
    "df['Profession'].value_counts()\n"
   ]
  },
  {
   "cell_type": "code",
   "execution_count": 41,
   "id": "b4a40fb2",
   "metadata": {},
   "outputs": [
    {
     "data": {
      "text/plain": [
       "<AxesSubplot:xlabel='Make', ylabel='Salary'>"
      ]
     },
     "execution_count": 41,
     "metadata": {},
     "output_type": "execute_result"
    },
    {
     "data": {
      "image/png": "[encoded data removed]",
      "text/plain": [
       "<Figure size 864x432 with 1 Axes>"
      ]
     },
     "metadata": {
      "needs_background": "light"
     },
     "output_type": "display_data"
    }
   ],
   "source": [
    "#Answer for E3\n",
    "fig_dims =(12,6)\n",
    "fig = plt.subplots(figsize=fig_dims)\n",
    "sns.boxplot(x='Make', y='Salary', hue='Gender', data=df)"
   ]
  },
  {
   "cell_type": "markdown",
   "id": "ea23d701",
   "metadata": {},
   "source": [
    "F. From the given data, comment on the amount spent on purchasing automobiles across the following categories. Comment on how a Business can utilize the results from this exercise. Give justification along with presenting metrics/charts used for arriving at the conclusions.\n",
    "\n",
    "Give justification along with presenting metrics/charts used for arriving at the conclusions.\n",
    "\n",
    "F1) Gender\n",
    "\n",
    "F2) Personal_loan"
   ]
  },
  {
   "cell_type": "code",
   "execution_count": 42,
   "id": "45e6a64f",
   "metadata": {},
   "outputs": [
    {
     "data": {
      "text/plain": [
       "Male      1252\n",
       "Female     329\n",
       "Name: Gender, dtype: int64"
      ]
     },
     "execution_count": 42,
     "metadata": {},
     "output_type": "execute_result"
    },
    {
     "data": {
      "image/png": "[encoded data removed]",
      "text/plain": [
       "<Figure size 432x288 with 1 Axes>"
      ]
     },
     "metadata": {
      "needs_background": "light"
     },
     "output_type": "display_data"
    }
   ],
   "source": [
    "#Answer for F1\n",
    "figs_dims=(12, 12)\n",
    "ax = sns.boxplot(x='Gender',y='Price', data=df)\n",
    "\n",
    "df['Gender'].value_counts()"
   ]
  },
  {
   "cell_type": "code",
   "execution_count": 43,
   "id": "a462cd85",
   "metadata": {},
   "outputs": [
    {
     "data": {
      "text/plain": [
       "Yes    792\n",
       "No     789\n",
       "Name: Personal_loan, dtype: int64"
      ]
     },
     "execution_count": 43,
     "metadata": {},
     "output_type": "execute_result"
    },
    {
     "data": {
      "image/png": "[encoded data removed]",
      "text/plain": [
       "<Figure size 432x288 with 1 Axes>"
      ]
     },
     "metadata": {
      "needs_background": "light"
     },
     "output_type": "display_data"
    }
   ],
   "source": [
    "#Answer for F2\n",
    "figs_dims=(12, 12)\n",
    "sns.boxplot(x='Personal_loan',y='Price', data=df)\n",
    "\n",
    "df['Personal_loan'].value_counts()"
   ]
  },
  {
   "cell_type": "markdown",
   "id": "00100a98",
   "metadata": {},
   "source": [
    "G. From the current data set comment if having a working partner leads to the purchase of a higher-priced car."
   ]
  },
  {
   "cell_type": "code",
   "execution_count": 44,
   "id": "9b81b48f",
   "metadata": {},
   "outputs": [
    {
     "data": {
      "text/plain": [
       "<AxesSubplot:xlabel='Partner_working', ylabel='Price'>"
      ]
     },
     "execution_count": 44,
     "metadata": {},
     "output_type": "execute_result"
    },
    {
     "data": {
      "image/png": "[encoded data removed]",
      "text/plain": [
       "<Figure size 432x288 with 1 Axes>"
      ]
     },
     "metadata": {
      "needs_background": "light"
     },
     "output_type": "display_data"
    }
   ],
   "source": [
    "figs_dims=(12, 12)\n",
    "sns.boxplot(x='Partner_working',y='Price', data=df)"
   ]
  },
  {
   "cell_type": "markdown",
   "id": "6550cbab",
   "metadata": {},
   "source": [
    "H. The main objective of this analysis is to devise an improved marketing strategy to send targeted information to different groups of potential buyers present in the data. For the current analysis use the Gender and Marital_status - fields to arrive at groups with similar purchase history."
   ]
  },
  {
   "cell_type": "code",
   "execution_count": 45,
   "id": "8af7d4f1",
   "metadata": {},
   "outputs": [
    {
     "data": {
      "text/plain": [
       "<AxesSubplot:xlabel='Marital_status', ylabel='Price'>"
      ]
     },
     "execution_count": 45,
     "metadata": {},
     "output_type": "execute_result"
    },
    {
     "data": {
      "image/png": "[encoded data removed]",
      "text/plain": [
       "<Figure size 864x432 with 1 Axes>"
      ]
     },
     "metadata": {
      "needs_background": "light"
     },
     "output_type": "display_data"
    }
   ],
   "source": [
    "fig_dims =(12,6)\n",
    "fig = plt.subplots(figsize=fig_dims)\n",
    "sns.boxplot(x='Marital_status', y='Price', hue='Gender', data=df)"
   ]
  },
  {
   "cell_type": "markdown",
   "id": "84b6768a",
   "metadata": {},
   "source": [
    "***Framing An Analytics Problem*** Analyse the dataset and list down the top 5 important variables, along with the business justifications."
   ]
  },
  {
   "cell_type": "code",
   "execution_count": 46,
   "id": "d7c6c842",
   "metadata": {},
   "outputs": [],
   "source": [
    "df1 = pd.read_excel(\"godigt_cc_data-1.xlsx\")"
   ]
  },
  {
   "cell_type": "code",
   "execution_count": 47,
   "id": "175a0828",
   "metadata": {},
   "outputs": [
    {
     "data": {
      "text/html": [
       "<div>\n",
       "<style scoped>\n",
       "    .dataframe tbody tr th:only-of-type {\n",
       "        vertical-align: middle;\n",
       "    }\n",
       "\n",
       "    .dataframe tbody tr th {\n",
       "        vertical-align: top;\n",
       "    }\n",
       "\n",
       "    .dataframe thead th {\n",
       "        text-align: right;\n",
       "    }\n",
       "</style>\n",
       "<table border=\"1\" class=\"dataframe\">\n",
       "  <thead>\n",
       "    <tr style=\"text-align: right;\">\n",
       "      <th></th>\n",
       "      <th>userid</th>\n",
       "      <th>card_no</th>\n",
       "      <th>card_bin_no</th>\n",
       "      <th>Issuer</th>\n",
       "      <th>card_type</th>\n",
       "      <th>card_source_date</th>\n",
       "      <th>high_networth</th>\n",
       "      <th>active_30</th>\n",
       "      <th>active_60</th>\n",
       "      <th>active_90</th>\n",
       "      <th>...</th>\n",
       "      <th>bank_vintage</th>\n",
       "      <th>T+1_month_activity</th>\n",
       "      <th>T+2_month_activity</th>\n",
       "      <th>T+3_month_activity</th>\n",
       "      <th>T+6_month_activity</th>\n",
       "      <th>T+12_month_activity</th>\n",
       "      <th>Transactor_revolver</th>\n",
       "      <th>avg_spends_l3m</th>\n",
       "      <th>Occupation_at_source</th>\n",
       "      <th>cc_limit</th>\n",
       "    </tr>\n",
       "  </thead>\n",
       "  <tbody>\n",
       "    <tr>\n",
       "      <th>0</th>\n",
       "      <td>1</td>\n",
       "      <td>4384 39XX XXXX XXXX</td>\n",
       "      <td>438439</td>\n",
       "      <td>Visa</td>\n",
       "      <td>edge</td>\n",
       "      <td>2019-09-29</td>\n",
       "      <td>B</td>\n",
       "      <td>0</td>\n",
       "      <td>1</td>\n",
       "      <td>1</td>\n",
       "      <td>...</td>\n",
       "      <td>27</td>\n",
       "      <td>0</td>\n",
       "      <td>0</td>\n",
       "      <td>0</td>\n",
       "      <td>0</td>\n",
       "      <td>0</td>\n",
       "      <td>T</td>\n",
       "      <td>27729</td>\n",
       "      <td>Self Employed</td>\n",
       "      <td>290000</td>\n",
       "    </tr>\n",
       "    <tr>\n",
       "      <th>1</th>\n",
       "      <td>2</td>\n",
       "      <td>4377 48XX XXXX XXXX</td>\n",
       "      <td>437748</td>\n",
       "      <td>Visa</td>\n",
       "      <td>prosperity</td>\n",
       "      <td>2002-10-30</td>\n",
       "      <td>A</td>\n",
       "      <td>1</td>\n",
       "      <td>1</td>\n",
       "      <td>1</td>\n",
       "      <td>...</td>\n",
       "      <td>52</td>\n",
       "      <td>0</td>\n",
       "      <td>0</td>\n",
       "      <td>0</td>\n",
       "      <td>0</td>\n",
       "      <td>0</td>\n",
       "      <td>R</td>\n",
       "      <td>280854</td>\n",
       "      <td>0</td>\n",
       "      <td>950000</td>\n",
       "    </tr>\n",
       "    <tr>\n",
       "      <th>2</th>\n",
       "      <td>3</td>\n",
       "      <td>4377 48XX XXXX XXXX</td>\n",
       "      <td>437748</td>\n",
       "      <td>Visa</td>\n",
       "      <td>rewards</td>\n",
       "      <td>2013-10-05</td>\n",
       "      <td>C</td>\n",
       "      <td>0</td>\n",
       "      <td>0</td>\n",
       "      <td>0</td>\n",
       "      <td>...</td>\n",
       "      <td>23</td>\n",
       "      <td>1</td>\n",
       "      <td>0</td>\n",
       "      <td>0</td>\n",
       "      <td>0</td>\n",
       "      <td>0</td>\n",
       "      <td>R</td>\n",
       "      <td>70587</td>\n",
       "      <td>Student</td>\n",
       "      <td>210000</td>\n",
       "    </tr>\n",
       "    <tr>\n",
       "      <th>3</th>\n",
       "      <td>4</td>\n",
       "      <td>4258 06XX XXXX XXXX</td>\n",
       "      <td>425806</td>\n",
       "      <td>Visa</td>\n",
       "      <td>indianoil</td>\n",
       "      <td>1999-06-01</td>\n",
       "      <td>E</td>\n",
       "      <td>0</td>\n",
       "      <td>1</td>\n",
       "      <td>1</td>\n",
       "      <td>...</td>\n",
       "      <td>49</td>\n",
       "      <td>0</td>\n",
       "      <td>0</td>\n",
       "      <td>1</td>\n",
       "      <td>0</td>\n",
       "      <td>0</td>\n",
       "      <td>T</td>\n",
       "      <td>9156</td>\n",
       "      <td>Self Employed</td>\n",
       "      <td>80000</td>\n",
       "    </tr>\n",
       "    <tr>\n",
       "      <th>4</th>\n",
       "      <td>5</td>\n",
       "      <td>4377 48XX XXXX XXXX</td>\n",
       "      <td>437748</td>\n",
       "      <td>Visa</td>\n",
       "      <td>edge</td>\n",
       "      <td>2006-06-13</td>\n",
       "      <td>B</td>\n",
       "      <td>1</td>\n",
       "      <td>1</td>\n",
       "      <td>1</td>\n",
       "      <td>...</td>\n",
       "      <td>21</td>\n",
       "      <td>1</td>\n",
       "      <td>0</td>\n",
       "      <td>0</td>\n",
       "      <td>0</td>\n",
       "      <td>0</td>\n",
       "      <td>T</td>\n",
       "      <td>38108</td>\n",
       "      <td>Salaried</td>\n",
       "      <td>220000</td>\n",
       "    </tr>\n",
       "  </tbody>\n",
       "</table>\n",
       "<p>5 rows × 28 columns</p>\n",
       "</div>"
      ],
      "text/plain": [
       "   userid              card_no  card_bin_no Issuer   card_type  \\\n",
       "0       1  4384 39XX XXXX XXXX       438439   Visa        edge   \n",
       "1       2  4377 48XX XXXX XXXX       437748   Visa  prosperity   \n",
       "2       3  4377 48XX XXXX XXXX       437748   Visa     rewards   \n",
       "3       4  4258 06XX XXXX XXXX       425806   Visa   indianoil   \n",
       "4       5  4377 48XX XXXX XXXX       437748   Visa        edge   \n",
       "\n",
       "  card_source_date high_networth  active_30  active_60  active_90  ...  \\\n",
       "0       2019-09-29             B          0          1          1  ...   \n",
       "1       2002-10-30             A          1          1          1  ...   \n",
       "2       2013-10-05             C          0          0          0  ...   \n",
       "3       1999-06-01             E          0          1          1  ...   \n",
       "4       2006-06-13             B          1          1          1  ...   \n",
       "\n",
       "   bank_vintage  T+1_month_activity  T+2_month_activity T+3_month_activity  \\\n",
       "0            27                   0                   0                  0   \n",
       "1            52                   0                   0                  0   \n",
       "2            23                   1                   0                  0   \n",
       "3            49                   0                   0                  1   \n",
       "4            21                   1                   0                  0   \n",
       "\n",
       "   T+6_month_activity  T+12_month_activity  Transactor_revolver  \\\n",
       "0                   0                    0                    T   \n",
       "1                   0                    0                    R   \n",
       "2                   0                    0                    R   \n",
       "3                   0                    0                    T   \n",
       "4                   0                    0                    T   \n",
       "\n",
       "  avg_spends_l3m  Occupation_at_source  cc_limit  \n",
       "0          27729         Self Employed    290000  \n",
       "1         280854                     0    950000  \n",
       "2          70587               Student    210000  \n",
       "3           9156         Self Employed     80000  \n",
       "4          38108              Salaried    220000  \n",
       "\n",
       "[5 rows x 28 columns]"
      ]
     },
     "execution_count": 47,
     "metadata": {},
     "output_type": "execute_result"
    }
   ],
   "source": [
    "df1.head()"
   ]
  },
  {
   "cell_type": "code",
   "execution_count": 48,
   "id": "d654718a",
   "metadata": {},
   "outputs": [
    {
     "data": {
      "text/html": [
       "<div>\n",
       "<style scoped>\n",
       "    .dataframe tbody tr th:only-of-type {\n",
       "        vertical-align: middle;\n",
       "    }\n",
       "\n",
       "    .dataframe tbody tr th {\n",
       "        vertical-align: top;\n",
       "    }\n",
       "\n",
       "    .dataframe thead th {\n",
       "        text-align: right;\n",
       "    }\n",
       "</style>\n",
       "<table border=\"1\" class=\"dataframe\">\n",
       "  <thead>\n",
       "    <tr style=\"text-align: right;\">\n",
       "      <th></th>\n",
       "      <th>count</th>\n",
       "      <th>mean</th>\n",
       "      <th>std</th>\n",
       "      <th>min</th>\n",
       "      <th>25%</th>\n",
       "      <th>50%</th>\n",
       "      <th>75%</th>\n",
       "      <th>max</th>\n",
       "    </tr>\n",
       "  </thead>\n",
       "  <tbody>\n",
       "    <tr>\n",
       "      <th>userid</th>\n",
       "      <td>8448.0</td>\n",
       "      <td>4.224500e+03</td>\n",
       "      <td>2.438872e+03</td>\n",
       "      <td>1.0</td>\n",
       "      <td>2112.75</td>\n",
       "      <td>4224.5</td>\n",
       "      <td>6336.25</td>\n",
       "      <td>8448.0</td>\n",
       "    </tr>\n",
       "    <tr>\n",
       "      <th>card_bin_no</th>\n",
       "      <td>8448.0</td>\n",
       "      <td>4.367470e+05</td>\n",
       "      <td>3.048975e+04</td>\n",
       "      <td>376916.0</td>\n",
       "      <td>426241.00</td>\n",
       "      <td>437551.0</td>\n",
       "      <td>438439.00</td>\n",
       "      <td>524178.0</td>\n",
       "    </tr>\n",
       "    <tr>\n",
       "      <th>active_30</th>\n",
       "      <td>8448.0</td>\n",
       "      <td>2.923769e-01</td>\n",
       "      <td>4.548815e-01</td>\n",
       "      <td>0.0</td>\n",
       "      <td>0.00</td>\n",
       "      <td>0.0</td>\n",
       "      <td>1.00</td>\n",
       "      <td>1.0</td>\n",
       "    </tr>\n",
       "    <tr>\n",
       "      <th>active_60</th>\n",
       "      <td>8448.0</td>\n",
       "      <td>4.947917e-01</td>\n",
       "      <td>5.000025e-01</td>\n",
       "      <td>0.0</td>\n",
       "      <td>0.00</td>\n",
       "      <td>0.0</td>\n",
       "      <td>1.00</td>\n",
       "      <td>1.0</td>\n",
       "    </tr>\n",
       "    <tr>\n",
       "      <th>active_90</th>\n",
       "      <td>8448.0</td>\n",
       "      <td>6.420455e-01</td>\n",
       "      <td>4.794271e-01</td>\n",
       "      <td>0.0</td>\n",
       "      <td>0.00</td>\n",
       "      <td>1.0</td>\n",
       "      <td>1.00</td>\n",
       "      <td>1.0</td>\n",
       "    </tr>\n",
       "    <tr>\n",
       "      <th>cc_active30</th>\n",
       "      <td>8448.0</td>\n",
       "      <td>2.840909e-01</td>\n",
       "      <td>4.510070e-01</td>\n",
       "      <td>0.0</td>\n",
       "      <td>0.00</td>\n",
       "      <td>0.0</td>\n",
       "      <td>1.00</td>\n",
       "      <td>1.0</td>\n",
       "    </tr>\n",
       "    <tr>\n",
       "      <th>cc_active60</th>\n",
       "      <td>8448.0</td>\n",
       "      <td>4.844934e-01</td>\n",
       "      <td>4.997891e-01</td>\n",
       "      <td>0.0</td>\n",
       "      <td>0.00</td>\n",
       "      <td>0.0</td>\n",
       "      <td>1.00</td>\n",
       "      <td>1.0</td>\n",
       "    </tr>\n",
       "    <tr>\n",
       "      <th>cc_active90</th>\n",
       "      <td>8448.0</td>\n",
       "      <td>6.323390e-01</td>\n",
       "      <td>4.821970e-01</td>\n",
       "      <td>0.0</td>\n",
       "      <td>0.00</td>\n",
       "      <td>1.0</td>\n",
       "      <td>1.00</td>\n",
       "      <td>1.0</td>\n",
       "    </tr>\n",
       "    <tr>\n",
       "      <th>widget_products</th>\n",
       "      <td>8448.0</td>\n",
       "      <td>3.614583e+00</td>\n",
       "      <td>2.273193e+00</td>\n",
       "      <td>0.0</td>\n",
       "      <td>2.00</td>\n",
       "      <td>4.0</td>\n",
       "      <td>6.00</td>\n",
       "      <td>7.0</td>\n",
       "    </tr>\n",
       "    <tr>\n",
       "      <th>engagement_products</th>\n",
       "      <td>8448.0</td>\n",
       "      <td>3.991122e+00</td>\n",
       "      <td>2.572135e+00</td>\n",
       "      <td>0.0</td>\n",
       "      <td>2.00</td>\n",
       "      <td>4.0</td>\n",
       "      <td>6.00</td>\n",
       "      <td>8.0</td>\n",
       "    </tr>\n",
       "    <tr>\n",
       "      <th>annual_income_at_source</th>\n",
       "      <td>8448.0</td>\n",
       "      <td>1.674595e+06</td>\n",
       "      <td>1.064307e+06</td>\n",
       "      <td>200095.0</td>\n",
       "      <td>1061104.00</td>\n",
       "      <td>1372133.5</td>\n",
       "      <td>1881734.25</td>\n",
       "      <td>4999508.0</td>\n",
       "    </tr>\n",
       "    <tr>\n",
       "      <th>bank_vintage</th>\n",
       "      <td>8448.0</td>\n",
       "      <td>3.316418e+01</td>\n",
       "      <td>1.586834e+01</td>\n",
       "      <td>6.0</td>\n",
       "      <td>19.00</td>\n",
       "      <td>33.0</td>\n",
       "      <td>47.00</td>\n",
       "      <td>60.0</td>\n",
       "    </tr>\n",
       "    <tr>\n",
       "      <th>T+1_month_activity</th>\n",
       "      <td>8448.0</td>\n",
       "      <td>1.112689e-01</td>\n",
       "      <td>3.144835e-01</td>\n",
       "      <td>0.0</td>\n",
       "      <td>0.00</td>\n",
       "      <td>0.0</td>\n",
       "      <td>0.00</td>\n",
       "      <td>1.0</td>\n",
       "    </tr>\n",
       "    <tr>\n",
       "      <th>T+2_month_activity</th>\n",
       "      <td>8448.0</td>\n",
       "      <td>4.794034e-02</td>\n",
       "      <td>2.136527e-01</td>\n",
       "      <td>0.0</td>\n",
       "      <td>0.00</td>\n",
       "      <td>0.0</td>\n",
       "      <td>0.00</td>\n",
       "      <td>1.0</td>\n",
       "    </tr>\n",
       "    <tr>\n",
       "      <th>T+3_month_activity</th>\n",
       "      <td>8448.0</td>\n",
       "      <td>8.037405e-02</td>\n",
       "      <td>2.718875e-01</td>\n",
       "      <td>0.0</td>\n",
       "      <td>0.00</td>\n",
       "      <td>0.0</td>\n",
       "      <td>0.00</td>\n",
       "      <td>1.0</td>\n",
       "    </tr>\n",
       "    <tr>\n",
       "      <th>T+6_month_activity</th>\n",
       "      <td>8448.0</td>\n",
       "      <td>8.877841e-03</td>\n",
       "      <td>9.380867e-02</td>\n",
       "      <td>0.0</td>\n",
       "      <td>0.00</td>\n",
       "      <td>0.0</td>\n",
       "      <td>0.00</td>\n",
       "      <td>1.0</td>\n",
       "    </tr>\n",
       "    <tr>\n",
       "      <th>T+12_month_activity</th>\n",
       "      <td>8448.0</td>\n",
       "      <td>9.469697e-03</td>\n",
       "      <td>9.685625e-02</td>\n",
       "      <td>0.0</td>\n",
       "      <td>0.00</td>\n",
       "      <td>0.0</td>\n",
       "      <td>0.00</td>\n",
       "      <td>1.0</td>\n",
       "    </tr>\n",
       "    <tr>\n",
       "      <th>avg_spends_l3m</th>\n",
       "      <td>8448.0</td>\n",
       "      <td>4.952737e+04</td>\n",
       "      <td>4.624495e+04</td>\n",
       "      <td>0.0</td>\n",
       "      <td>17110.00</td>\n",
       "      <td>37943.0</td>\n",
       "      <td>66095.75</td>\n",
       "      <td>289292.0</td>\n",
       "    </tr>\n",
       "    <tr>\n",
       "      <th>cc_limit</th>\n",
       "      <td>8448.0</td>\n",
       "      <td>2.517069e+05</td>\n",
       "      <td>2.291149e+05</td>\n",
       "      <td>0.0</td>\n",
       "      <td>90000.00</td>\n",
       "      <td>150000.0</td>\n",
       "      <td>350000.00</td>\n",
       "      <td>990000.0</td>\n",
       "    </tr>\n",
       "  </tbody>\n",
       "</table>\n",
       "</div>"
      ],
      "text/plain": [
       "                          count          mean           std       min  \\\n",
       "userid                   8448.0  4.224500e+03  2.438872e+03       1.0   \n",
       "card_bin_no              8448.0  4.367470e+05  3.048975e+04  376916.0   \n",
       "active_30                8448.0  2.923769e-01  4.548815e-01       0.0   \n",
       "active_60                8448.0  4.947917e-01  5.000025e-01       0.0   \n",
       "active_90                8448.0  6.420455e-01  4.794271e-01       0.0   \n",
       "cc_active30              8448.0  2.840909e-01  4.510070e-01       0.0   \n",
       "cc_active60              8448.0  4.844934e-01  4.997891e-01       0.0   \n",
       "cc_active90              8448.0  6.323390e-01  4.821970e-01       0.0   \n",
       "widget_products          8448.0  3.614583e+00  2.273193e+00       0.0   \n",
       "engagement_products      8448.0  3.991122e+00  2.572135e+00       0.0   \n",
       "annual_income_at_source  8448.0  1.674595e+06  1.064307e+06  200095.0   \n",
       "bank_vintage             8448.0  3.316418e+01  1.586834e+01       6.0   \n",
       "T+1_month_activity       8448.0  1.112689e-01  3.144835e-01       0.0   \n",
       "T+2_month_activity       8448.0  4.794034e-02  2.136527e-01       0.0   \n",
       "T+3_month_activity       8448.0  8.037405e-02  2.718875e-01       0.0   \n",
       "T+6_month_activity       8448.0  8.877841e-03  9.380867e-02       0.0   \n",
       "T+12_month_activity      8448.0  9.469697e-03  9.685625e-02       0.0   \n",
       "avg_spends_l3m           8448.0  4.952737e+04  4.624495e+04       0.0   \n",
       "cc_limit                 8448.0  2.517069e+05  2.291149e+05       0.0   \n",
       "\n",
       "                                25%        50%         75%        max  \n",
       "userid                      2112.75     4224.5     6336.25     8448.0  \n",
       "card_bin_no               426241.00   437551.0   438439.00   524178.0  \n",
       "active_30                      0.00        0.0        1.00        1.0  \n",
       "active_60                      0.00        0.0        1.00        1.0  \n",
       "active_90                      0.00        1.0        1.00        1.0  \n",
       "cc_active30                    0.00        0.0        1.00        1.0  \n",
       "cc_active60                    0.00        0.0        1.00        1.0  \n",
       "cc_active90                    0.00        1.0        1.00        1.0  \n",
       "widget_products                2.00        4.0        6.00        7.0  \n",
       "engagement_products            2.00        4.0        6.00        8.0  \n",
       "annual_income_at_source  1061104.00  1372133.5  1881734.25  4999508.0  \n",
       "bank_vintage                  19.00       33.0       47.00       60.0  \n",
       "T+1_month_activity             0.00        0.0        0.00        1.0  \n",
       "T+2_month_activity             0.00        0.0        0.00        1.0  \n",
       "T+3_month_activity             0.00        0.0        0.00        1.0  \n",
       "T+6_month_activity             0.00        0.0        0.00        1.0  \n",
       "T+12_month_activity            0.00        0.0        0.00        1.0  \n",
       "avg_spends_l3m             17110.00    37943.0    66095.75   289292.0  \n",
       "cc_limit                   90000.00   150000.0   350000.00   990000.0  "
      ]
     },
     "execution_count": 48,
     "metadata": {},
     "output_type": "execute_result"
    }
   ],
   "source": [
    "df1.describe().T"
   ]
  },
  {
   "cell_type": "code",
   "execution_count": 49,
   "id": "ec4ee901",
   "metadata": {},
   "outputs": [
    {
     "name": "stdout",
     "output_type": "stream",
     "text": [
      "<class 'pandas.core.frame.DataFrame'>\n",
      "RangeIndex: 1581 entries, 0 to 1580\n",
      "Data columns (total 14 columns):\n",
      " #   Column            Non-Null Count  Dtype  \n",
      "---  ------            --------------  -----  \n",
      " 0   Age               1581 non-null   int64  \n",
      " 1   Gender            1581 non-null   object \n",
      " 2   Profession        1581 non-null   object \n",
      " 3   Marital_status    1581 non-null   object \n",
      " 4   Education         1581 non-null   object \n",
      " 5   No_of_Dependents  1581 non-null   int64  \n",
      " 6   Personal_loan     1581 non-null   object \n",
      " 7   House_loan        1581 non-null   object \n",
      " 8   Partner_working   1581 non-null   object \n",
      " 9   Salary            1581 non-null   int64  \n",
      " 10  Partner_salary    1581 non-null   float64\n",
      " 11  Total_salary      1581 non-null   int64  \n",
      " 12  Price             1581 non-null   int64  \n",
      " 13  Make              1581 non-null   object \n",
      "dtypes: float64(1), int64(5), object(8)\n",
      "memory usage: 173.0+ KB\n"
     ]
    }
   ],
   "source": [
    "df.info()"
   ]
  },
  {
   "cell_type": "code",
   "execution_count": 51,
   "id": "2c79349d",
   "metadata": {},
   "outputs": [
    {
     "data": {
      "image/png": "[encoded data removed]",
      "text/plain": [
       "<Figure size 1440x504 with 1 Axes>"
      ]
     },
     "metadata": {
      "needs_background": "light"
     },
     "output_type": "display_data"
    }
   ],
   "source": [
    "#plot between card type and occupation\n",
    "plt.figure(figsize=(20,7));\n",
    "sns.countplot(x='card_type', hue='Occupation_at_source', data=df1);\n",
    "plt.xticks(rotation=90);"
   ]
  },
  {
   "cell_type": "code",
   "execution_count": 52,
   "id": "0da02551",
   "metadata": {},
   "outputs": [
    {
     "data": {
      "image/png": "[encoded data removed]",
      "text/plain": [
       "<Figure size 1440x504 with 1 Axes>"
      ]
     },
     "metadata": {
      "needs_background": "light"
     },
     "output_type": "display_data"
    }
   ],
   "source": [
    "#Plot between annualincome and card type\n",
    "plt.figure(figsize=(20,7));\n",
    "sns.boxplot(x='annual_income_at_source', y='card_type', data=df1);\n",
    "plt.xticks(rotation=90);"
   ]
  },
  {
   "cell_type": "code",
   "execution_count": 54,
   "id": "b243276c",
   "metadata": {},
   "outputs": [
    {
     "data": {
      "text/plain": [
       "Text(0, 0.5, 'avg_spends_l3m')"
      ]
     },
     "execution_count": 54,
     "metadata": {},
     "output_type": "execute_result"
    },
    {
     "data": {
      "image/png": "[encoded data removed]",
      "text/plain": [
       "<Figure size 1440x504 with 1 Axes>"
      ]
     },
     "metadata": {
      "needs_background": "light"
     },
     "output_type": "display_data"
    }
   ],
   "source": [
    "#Plot between cc limit and avg spend\n",
    "plt.figure(figsize=(20,7));\n",
    "plt.scatter(df1['cc_limit'],df1['avg_spends_l3m'])\n",
    "plt.xlabel(\"cc_limit\")\n",
    "plt.ylabel(\"avg_spends_l3m\")"
   ]
  },
  {
   "cell_type": "code",
   "execution_count": 55,
   "id": "368ff323",
   "metadata": {},
   "outputs": [
    {
     "data": {
      "text/plain": [
       "<AxesSubplot:xlabel='Occupation_at_source', ylabel='annual_income_at_source'>"
      ]
     },
     "execution_count": 55,
     "metadata": {},
     "output_type": "execute_result"
    },
    {
     "data": {
      "image/png": "[encoded data removed]",
      "text/plain": [
       "<Figure size 432x288 with 1 Axes>"
      ]
     },
     "metadata": {
      "needs_background": "light"
     },
     "output_type": "display_data"
    }
   ],
   "source": [
    "#Plot between occupation and annual income\n",
    "sns.boxplot(x='Occupation_at_source', y='annual_income_at_source', data=df1)"
   ]
  },
  {
   "cell_type": "code",
   "execution_count": null,
   "id": "e57ab86b",
   "metadata": {},
   "outputs": [],
   "source": []
  }
 ],
 "metadata": {
  "kernelspec": {
   "display_name": "Python 3 (ipykernel)",
   "language": "python",
   "name": "python3"
  },
  "language_info": {
   "codemirror_mode": {
    "name": "ipython",
    "version": 3
   },
   "file_extension": ".py",
   "mimetype": "text/x-python",
   "name": "python",
   "nbconvert_exporter": "python",
   "pygments_lexer": "ipython3",
   "version": "3.9.12"
  }
 },
 "nbformat": 4,
 "nbformat_minor": 5
}

{
 "cells": [
  {
   "cell_type": "markdown",
   "id": "6a7d5404",
   "metadata": {},
   "source": [
    "<font color='blue'>\n",
    "    <font size = 5>\n",
    "        You have been given the role of a business analyst for an E-Commerce company and have been asked to prepare a basic report on the data. Follow the steps below for preparation of the report. \n",
    "\n",
    "Before you start analysing the data, it is always a good practice to see the size of the data, its features and feature types. If the data set is big, it is not possible to print out all the records. \n",
    "    </font>\n",
    "####  Note: Use the markdown feature of Python to explain your answer.\n",
    "    "
   ]
  },
  {
   "cell_type": "markdown",
   "id": "daf5d935",
   "metadata": {},
   "source": [
    "## Load the necessary libraries. Import and load the dataset with a name ECom_Data ."
   ]
  },
  {
   "cell_type": "code",
   "execution_count": 18,
   "id": "eec2a3b5",
   "metadata": {},
   "outputs": [],
   "source": [
    "import numpy as np\n",
    "import pandas as pd\n",
    "import matplotlib.pyplot as plt\n",
    "import seaborn as sns\n",
    "pd.options.display.max_rows = 14"
   ]
  },
  {
   "cell_type": "code",
   "execution_count": 19,
   "id": "8e1fcc97",
   "metadata": {},
   "outputs": [],
   "source": [
    "# Get the Data\n",
    "\n",
    "ECom_Data=pd.read_csv('E-Commerce_Flipkart.csv')\n"
   ]
  },
  {
   "cell_type": "markdown",
   "id": "2cf5f20f",
   "metadata": {},
   "source": [
    "<font color='blue'>\n",
    "    <font size = 5>\n",
    "        We have read the data and stored the data in \"ECom_Data\" variable </font>"
   ]
  },
  {
   "cell_type": "markdown",
   "id": "a0a4f84a",
   "metadata": {},
   "source": [
    "## Q 1.\tTo get familiar with the data\n",
    "## a)\tPrint out the first 10 and the last 10 records of the data. (2 marks)\n",
    "## b)\tHow many rows and columns are present in the dataset? Use any two different methods to extract this information. (2 + 2 + 2 marks)\n",
    "## c)\tHow many object data types are there? (1 mark)\n",
    "## d)\tIs there any Boolean data type? (1 mark) \n",
    "#### Note: Use the markdown feature of Python to explain your answer.\n"
   ]
  },
  {
   "cell_type": "markdown",
   "id": "0ba43d74",
   "metadata": {},
   "source": [
    "#### Ans 1 a)"
   ]
  },
  {
   "cell_type": "code",
   "execution_count": null,
   "id": "6684f5a1",
   "metadata": {},
   "outputs": [],
   "source": [
    "#Prints first 10 records\n",
    "ECom_Data.head(10)"
   ]
  },
  {
   "cell_type": "code",
   "execution_count": null,
   "id": "42025cc4",
   "metadata": {},
   "outputs": [],
   "source": [
    "#Prints last 10 records\n",
    "ECom_Data.tail(10)"
   ]
  },
  {
   "cell_type": "markdown",
   "id": "48baeda6",
   "metadata": {},
   "source": [
    "#### Ans 1 b)"
   ]
  },
  {
   "cell_type": "markdown",
   "id": "253e4350",
   "metadata": {},
   "source": [
    "The below are the two different methods"
   ]
  },
  {
   "cell_type": "code",
   "execution_count": null,
   "id": "0ac3ef5d",
   "metadata": {},
   "outputs": [],
   "source": [
    "ECom_Data.shape"
   ]
  },
  {
   "cell_type": "code",
   "execution_count": 44,
   "id": "0139d260",
   "metadata": {},
   "outputs": [
    {
     "name": "stdout",
     "output_type": "stream",
     "text": [
      "<class 'pandas.core.frame.DataFrame'>\n",
      "RangeIndex: 8927 entries, 0 to 8926\n",
      "Data columns (total 19 columns):\n",
      " #   Column                      Non-Null Count  Dtype         \n",
      "---  ------                      --------------  -----         \n",
      " 0   Customer_uniq_id            8927 non-null   object        \n",
      " 1   Region                      8927 non-null   object        \n",
      " 2   Order_Date                  8927 non-null   datetime64[ns]\n",
      " 3   Expected_Delivery_Date      8927 non-null   object        \n",
      " 4   Delivered_Date              8927 non-null   object        \n",
      " 5   product_name                8927 non-null   object        \n",
      " 6   product_main_category       8927 non-null   object        \n",
      " 7   product_subcategory         8927 non-null   object        \n",
      " 8   product_category_filter     8927 non-null   object        \n",
      " 9   product_category_subfilter  8927 non-null   object        \n",
      " 10  product_unique ID           8927 non-null   object        \n",
      " 11  retail_price                8927 non-null   int64         \n",
      " 12  discounted_price            8927 non-null   int64         \n",
      " 13  product_rating              8927 non-null   float64       \n",
      " 14  Brand                       8927 non-null   object        \n",
      " 15  product_specifications      8927 non-null   object        \n",
      " 16  description                 8927 non-null   object        \n",
      " 17  Net Revenue                 8927 non-null   float64       \n",
      " 18  Netbrand Revenue            8927 non-null   float64       \n",
      "dtypes: datetime64[ns](1), float64(3), int64(2), object(13)\n",
      "memory usage: 1.3+ MB\n"
     ]
    }
   ],
   "source": [
    "ECom_Data.info()"
   ]
  },
  {
   "cell_type": "markdown",
   "id": "33a7467d",
   "metadata": {},
   "source": [
    "There are 8927 rows and 17 columns in the total dataset."
   ]
  },
  {
   "cell_type": "markdown",
   "id": "6aaa54a0",
   "metadata": {},
   "source": [
    "#### Ans  1 c)"
   ]
  },
  {
   "cell_type": "code",
   "execution_count": null,
   "id": "115627b2",
   "metadata": {},
   "outputs": [],
   "source": [
    "#With this command we can find out the number of the object data types\n",
    "ECom_Data.info()"
   ]
  },
  {
   "cell_type": "markdown",
   "id": "ef43ed1c",
   "metadata": {},
   "source": [
    "There are 14 Object data types are there."
   ]
  },
  {
   "cell_type": "markdown",
   "id": "5e63573c",
   "metadata": {},
   "source": [
    "### Ans 1 d)"
   ]
  },
  {
   "cell_type": "code",
   "execution_count": null,
   "id": "2b96d5be",
   "metadata": {},
   "outputs": [],
   "source": [
    "ECom_Data.info()"
   ]
  },
  {
   "cell_type": "markdown",
   "id": "e4de3535",
   "metadata": {},
   "source": [
    "No, There are no Boolean Datatype in the dataset. Executing the above code explains that there are only float, integer and object datatypes available. "
   ]
  },
  {
   "cell_type": "markdown",
   "id": "cc5d76f1",
   "metadata": {},
   "source": [
    "<font color='blue'>\n",
    "    <font size = 5>\n",
    " Once you are familiar with the data, you may decide that not all features are of use to you and you may want to delete the non-informative features (columns)</font>"
   ]
  },
  {
   "cell_type": "markdown",
   "id": "90db65ce",
   "metadata": {},
   "source": [
    "## Q 2.\tEliminating the non-informative columns.\n",
    "## a)\tDrop the columns product_specifications and description. (2 marks) \n",
    "## b)\tWhich method or function is used to permanently delete the columns mentioned in part (a)? Write the code explicitly (2 marks)\n",
    "### Note: Use the markdown feature of Python to explain your answer.\n"
   ]
  },
  {
   "cell_type": "markdown",
   "id": "e0e7e762",
   "metadata": {},
   "source": [
    "### Ans 2 a)"
   ]
  },
  {
   "cell_type": "code",
   "execution_count": null,
   "id": "35ad0821",
   "metadata": {},
   "outputs": [],
   "source": [
    "#Dropping the product_specification column\n",
    "ECom_Data.drop('product_specifications',axis=1)"
   ]
  },
  {
   "cell_type": "code",
   "execution_count": null,
   "id": "50f91df0",
   "metadata": {},
   "outputs": [],
   "source": [
    "#Dropping the description column\n",
    "ECom_Data.drop('description',axis=1)"
   ]
  },
  {
   "cell_type": "markdown",
   "id": "e6159f6a",
   "metadata": {},
   "source": [
    "### Ans 2 b)"
   ]
  },
  {
   "cell_type": "markdown",
   "id": "c092eab5",
   "metadata": {},
   "source": [
    "The  method or function is used to permanently delete the columns mentioned in part is inplace=True."
   ]
  },
  {
   "cell_type": "code",
   "execution_count": null,
   "id": "7a6db902",
   "metadata": {},
   "outputs": [],
   "source": [
    "#Dropping the product_specification column permanently\n",
    "ECom_Data.drop('product_specifications',axis=1,inplace=True)"
   ]
  },
  {
   "cell_type": "code",
   "execution_count": null,
   "id": "ff10d3ab",
   "metadata": {},
   "outputs": [],
   "source": [
    "#Dropping the description column permanently\n",
    "ECom_Data.drop('description',axis=1,inplace=True)"
   ]
  },
  {
   "cell_type": "markdown",
   "id": "cde421e0",
   "metadata": {},
   "source": [
    "<font color='blue'>\n",
    "    <font size = 5>\n",
    "        The next steps in this project involves summarization of data at various levels and visualization. Apparently, such simple steps are very useful to get an overall sense of the data.\n",
    "    </font>"
   ]
  },
  {
   "cell_type": "markdown",
   "id": "41c30ad7",
   "metadata": {},
   "source": [
    "## Q 3. Here we summarize the data at Brand level.\n",
    "## a) How many unique Brand are there? (2 marks)\n",
    "## b) Note that each Brand contains multiple products. Show the average product_rating within each Brand (2 marks)\n"
   ]
  },
  {
   "cell_type": "markdown",
   "id": "beb3f83f",
   "metadata": {},
   "source": [
    "### Ans 3 a)"
   ]
  },
  {
   "cell_type": "code",
   "execution_count": 51,
   "id": "41dcb79f",
   "metadata": {},
   "outputs": [
    {
     "data": {
      "text/plain": [
       "2580"
      ]
     },
     "execution_count": 51,
     "metadata": {},
     "output_type": "execute_result"
    }
   ],
   "source": [
    "a=ECom_Data['Brand'].unique()\n",
    "len(a)"
   ]
  },
  {
   "cell_type": "raw",
   "id": "ce698d41",
   "metadata": {},
   "source": [
    "There are 2580 Unique brands."
   ]
  },
  {
   "cell_type": "markdown",
   "id": "5083d866",
   "metadata": {},
   "source": [
    "### Ans 3 b)"
   ]
  },
  {
   "cell_type": "code",
   "execution_count": 45,
   "id": "316887c0",
   "metadata": {},
   "outputs": [
    {
     "data": {
      "text/plain": [
       "3.0663268735297406"
      ]
     },
     "execution_count": 45,
     "metadata": {},
     "output_type": "execute_result"
    }
   ],
   "source": [
    "ECom_Data['product_rating'].mean()"
   ]
  },
  {
   "cell_type": "markdown",
   "id": "bbf162af",
   "metadata": {},
   "source": [
    "## Q 4. Next we study the main categories of the products.\n",
    "\n",
    "## a) Create an appropriate plot to show the count of items ordered for each product_main_category. (6 marks).\n",
    "\n",
    "### Hint: Create a bar chart titled \"Product Category type\" where product_main_category are on x-axis and counts are on y-axis.\n",
    "\n",
    "### Note: Both axis labels, i.e. the names of the product_main_category and counts must be clearly legible. \n",
    "\n",
    "## b) From the plot identify for which two product_main_category(s)  maximum and minimum orders were placed. (2 marks)\n",
    "\n",
    "## c) Write code to print out the top 5 product_main_category(s)  in descending order? (3 marks"
   ]
  },
  {
   "cell_type": "markdown",
   "id": "36c72928",
   "metadata": {},
   "source": [
    "### Ans 4 a)"
   ]
  },
  {
   "cell_type": "code",
   "execution_count": null,
   "id": "f60dd2c1",
   "metadata": {},
   "outputs": [],
   "source": [
    "#Program for plotting the bar graph\n",
    "plt.figure(figsize=(10,7))\n",
    "plt.title('Product Category type')\n",
    "plt.ylim(0,4000)\n",
    "sns.countplot(data=ECom_Data, x='product_main_category')\n",
    "plt.xlabel('product_main_category');\n",
    "plt.xticks(rotation=90);"
   ]
  },
  {
   "cell_type": "markdown",
   "id": "13a5b355",
   "metadata": {},
   "source": [
    "### Ans 4 b)"
   ]
  },
  {
   "cell_type": "markdown",
   "id": "330108c3",
   "metadata": {},
   "source": [
    "The two product_main_category(s) maximum is Clothing and minimum is Wearable Smart Devices."
   ]
  },
  {
   "cell_type": "markdown",
   "id": "4ea60c92",
   "metadata": {},
   "source": [
    "### Ans 4 c)"
   ]
  },
  {
   "cell_type": "code",
   "execution_count": 6,
   "id": "7f704116",
   "metadata": {},
   "outputs": [
    {
     "data": {
      "text/plain": [
       "Clothing                       2952\n",
       "Mobiles & Accessories          1084\n",
       "Automotive                     1001\n",
       "Home Decor & Festive Needs      727\n",
       "Computers                       558\n",
       "                               ... \n",
       "Pet Supplies                     22\n",
       "Home Entertainment               17\n",
       "Household Supplies                4\n",
       "Food & Nutrition                  2\n",
       "Wearable Smart Devices            1\n",
       "Name: product_main_category, Length: 26, dtype: int64"
      ]
     },
     "execution_count": 6,
     "metadata": {},
     "output_type": "execute_result"
    }
   ],
   "source": [
    "ECom_Data['product_main_category'].value_counts(ascending=False)\n"
   ]
  },
  {
   "cell_type": "markdown",
   "id": "e2bf4839",
   "metadata": {},
   "source": [
    "The top 5 products_main_category in descending order are \n",
    "Clothing                       2952\n",
    "Mobiles & Accessories          1084\n",
    "Automotive                     1001\n",
    "Home Decor & Festive Needs      727\n",
    "Computers                       558"
   ]
  },
  {
   "cell_type": "markdown",
   "id": "a9f81605",
   "metadata": {},
   "source": [
    "<font color='blue'>\n",
    "    <font size = 5>\n",
    "    In E-commerce, both the retailers (here brands) and the company have to make profit to sustain in the business. \n",
    "    The E-Commerce company has the following rule for computing their own revenue: </font> \n",
    "    \n",
    "####     The company charges  \n",
    "####  (i) 25% on the orders having final price (discounted price) greater than 600\n",
    "\n",
    "#### (ii) 15% on the orders having final price (discounted price) greater than 350 but less than or equal to 600\n",
    "\n",
    "#### (iii) 10% on the orders having final price (discounted price) greater than 100 but less than or equal to 350\n",
    "\n",
    "#### (iv) Otherwise, 5% on the final price (discounted price)    </font> "
   ]
  },
  {
   "cell_type": "markdown",
   "id": "0f255fea",
   "metadata": {},
   "source": [
    "## Q 5. Find the net revenue generated by the E-Commerce company over all orders placed. (6 marks)"
   ]
  },
  {
   "cell_type": "markdown",
   "id": "1f6b8028",
   "metadata": {},
   "source": [
    "### Ans 5"
   ]
  },
  {
   "cell_type": "code",
   "execution_count": 29,
   "id": "c62d888f",
   "metadata": {},
   "outputs": [
    {
     "name": "stdout",
     "output_type": "stream",
     "text": [
      "0         56.85\n",
      "1       5661.50\n",
      "2         74.85\n",
      "3         26.70\n",
      "4         21.00\n",
      "         ...   \n",
      "8922     372.50\n",
      "8923     325.00\n",
      "8924    6248.75\n",
      "8925     250.00\n",
      "8926     337.50\n",
      "Name: Net Revenue, Length: 8927, dtype: float64\n"
     ]
    },
    {
     "data": {
      "text/html": [
       "<div>\n",
       "<style scoped>\n",
       "    .dataframe tbody tr th:only-of-type {\n",
       "        vertical-align: middle;\n",
       "    }\n",
       "\n",
       "    .dataframe tbody tr th {\n",
       "        vertical-align: top;\n",
       "    }\n",
       "\n",
       "    .dataframe thead th {\n",
       "        text-align: right;\n",
       "    }\n",
       "</style>\n",
       "<table border=\"1\" class=\"dataframe\">\n",
       "  <thead>\n",
       "    <tr style=\"text-align: right;\">\n",
       "      <th></th>\n",
       "      <th>Customer_uniq_id</th>\n",
       "      <th>Region</th>\n",
       "      <th>Order_Date</th>\n",
       "      <th>Expected_Delivery_Date</th>\n",
       "      <th>Delivered_Date</th>\n",
       "      <th>product_name</th>\n",
       "      <th>product_main_category</th>\n",
       "      <th>product_subcategory</th>\n",
       "      <th>product_category_filter</th>\n",
       "      <th>product_category_subfilter</th>\n",
       "      <th>product_unique ID</th>\n",
       "      <th>retail_price</th>\n",
       "      <th>discounted_price</th>\n",
       "      <th>product_rating</th>\n",
       "      <th>Brand</th>\n",
       "      <th>product_specifications</th>\n",
       "      <th>description</th>\n",
       "      <th>Net Revenue</th>\n",
       "      <th>Netbrand Revenue</th>\n",
       "    </tr>\n",
       "  </thead>\n",
       "  <tbody>\n",
       "    <tr>\n",
       "      <th>0</th>\n",
       "      <td>c2d766ca982eca8304150849735ffef9</td>\n",
       "      <td>North</td>\n",
       "      <td>31-12-2021</td>\n",
       "      <td>03-01-2022</td>\n",
       "      <td>02-01-2022</td>\n",
       "      <td>Alisha Solid Women's Cycling Shorts</td>\n",
       "      <td>Clothing</td>\n",
       "      <td>Women's Clothing</td>\n",
       "      <td>Lingerie, Sleep &amp; Swimwear</td>\n",
       "      <td>Shorts</td>\n",
       "      <td>SRTEH2FF9KEDEFGF</td>\n",
       "      <td>999</td>\n",
       "      <td>379</td>\n",
       "      <td>2.0</td>\n",
       "      <td>Alisha</td>\n",
       "      <td>{\"product_specification\"=&gt;[{\"key\"=&gt;\"Number of ...</td>\n",
       "      <td>Key Features of Alisha Solid Women's Cycling S...</td>\n",
       "      <td>56.85</td>\n",
       "      <td>322.15</td>\n",
       "    </tr>\n",
       "    <tr>\n",
       "      <th>1</th>\n",
       "      <td>7f7036a6d550aaa89d34c77bd39a5e48</td>\n",
       "      <td>East</td>\n",
       "      <td>31-12-2021</td>\n",
       "      <td>03-01-2022</td>\n",
       "      <td>02-01-2022</td>\n",
       "      <td>FabHomeDecor Fabric Double Sofa Bed</td>\n",
       "      <td>Furniture</td>\n",
       "      <td>Living Room Furniture</td>\n",
       "      <td>Sofa Beds &amp; Futons</td>\n",
       "      <td>FabHomeDecor Fabric Double Sofa Bed (Finish C...</td>\n",
       "      <td>SBEEH3QGU7MFYJFY</td>\n",
       "      <td>32157</td>\n",
       "      <td>22646</td>\n",
       "      <td>2.0</td>\n",
       "      <td>FabHomeDecor</td>\n",
       "      <td>{\"product_specification\"=&gt;[{\"key\"=&gt;\"Installati...</td>\n",
       "      <td>FabHomeDecor Fabric Double Sofa Bed (Finish Co...</td>\n",
       "      <td>5661.50</td>\n",
       "      <td>16984.50</td>\n",
       "    </tr>\n",
       "    <tr>\n",
       "      <th>2</th>\n",
       "      <td>f449ec65dcbc041b6ae5e6a32717d01b</td>\n",
       "      <td>East</td>\n",
       "      <td>31-12-2021</td>\n",
       "      <td>03-01-2022</td>\n",
       "      <td>02-01-2022</td>\n",
       "      <td>AW Bellies</td>\n",
       "      <td>Footwear</td>\n",
       "      <td>Women's Footwear</td>\n",
       "      <td>Ballerinas</td>\n",
       "      <td>AW Bellies</td>\n",
       "      <td>SHOEH4GRSUBJGZXE</td>\n",
       "      <td>999</td>\n",
       "      <td>499</td>\n",
       "      <td>1.0</td>\n",
       "      <td>AW</td>\n",
       "      <td>{\"product_specification\"=&gt;[{\"key\"=&gt;\"Ideal For\"...</td>\n",
       "      <td>Key Features of AW Bellies Sandals Wedges Heel...</td>\n",
       "      <td>74.85</td>\n",
       "      <td>424.15</td>\n",
       "    </tr>\n",
       "    <tr>\n",
       "      <th>3</th>\n",
       "      <td>0973b37acd0c664e3de26e97e5571454</td>\n",
       "      <td>West</td>\n",
       "      <td>31-12-2021</td>\n",
       "      <td>03-01-2022</td>\n",
       "      <td>02-01-2022</td>\n",
       "      <td>Alisha Solid Women's Cycling Shorts</td>\n",
       "      <td>Clothing</td>\n",
       "      <td>Women's Clothing</td>\n",
       "      <td>Lingerie, Sleep &amp; Swimwear</td>\n",
       "      <td>Shorts</td>\n",
       "      <td>SRTEH2F6HUZMQ6SJ</td>\n",
       "      <td>699</td>\n",
       "      <td>267</td>\n",
       "      <td>5.0</td>\n",
       "      <td>Alisha</td>\n",
       "      <td>{\"product_specification\"=&gt;[{\"key\"=&gt;\"Number of ...</td>\n",
       "      <td>Key Features of Alisha Solid Women's Cycling S...</td>\n",
       "      <td>26.70</td>\n",
       "      <td>240.30</td>\n",
       "    </tr>\n",
       "    <tr>\n",
       "      <th>4</th>\n",
       "      <td>bc940ea42ee6bef5ac7cea3fb5cfbee7</td>\n",
       "      <td>West</td>\n",
       "      <td>31-12-2021</td>\n",
       "      <td>03-01-2022</td>\n",
       "      <td>02-01-2022</td>\n",
       "      <td>Sicons All Purpose Arnica Dog Shampoo</td>\n",
       "      <td>Pet Supplies</td>\n",
       "      <td>Grooming</td>\n",
       "      <td>Skin &amp; Coat Care</td>\n",
       "      <td>Shampoo</td>\n",
       "      <td>PSOEH3ZYDMSYARJ5</td>\n",
       "      <td>220</td>\n",
       "      <td>210</td>\n",
       "      <td>5.0</td>\n",
       "      <td>Sicons</td>\n",
       "      <td>{\"product_specification\"=&gt;[{\"key\"=&gt;\"Pet Type\",...</td>\n",
       "      <td>Specifications of Sicons All Purpose Arnica Do...</td>\n",
       "      <td>21.00</td>\n",
       "      <td>189.00</td>\n",
       "    </tr>\n",
       "    <tr>\n",
       "      <th>...</th>\n",
       "      <td>...</td>\n",
       "      <td>...</td>\n",
       "      <td>...</td>\n",
       "      <td>...</td>\n",
       "      <td>...</td>\n",
       "      <td>...</td>\n",
       "      <td>...</td>\n",
       "      <td>...</td>\n",
       "      <td>...</td>\n",
       "      <td>...</td>\n",
       "      <td>...</td>\n",
       "      <td>...</td>\n",
       "      <td>...</td>\n",
       "      <td>...</td>\n",
       "      <td>...</td>\n",
       "      <td>...</td>\n",
       "      <td>...</td>\n",
       "      <td>...</td>\n",
       "      <td>...</td>\n",
       "    </tr>\n",
       "    <tr>\n",
       "      <th>8922</th>\n",
       "      <td>90d30478255e23621e8929ed15c2f6e4</td>\n",
       "      <td>South</td>\n",
       "      <td>01-12-2020</td>\n",
       "      <td>04-12-2020</td>\n",
       "      <td>04-12-2020</td>\n",
       "      <td>Sinina Chanderi Embroidered Salwar Suit Dupatt...</td>\n",
       "      <td>Clothing</td>\n",
       "      <td>Women's Clothing</td>\n",
       "      <td>Ethnic Wear</td>\n",
       "      <td>Fabric</td>\n",
       "      <td>FABEGGHHDFMY8BZU</td>\n",
       "      <td>2980</td>\n",
       "      <td>1490</td>\n",
       "      <td>3.0</td>\n",
       "      <td>Sinina</td>\n",
       "      <td>{\"product_specification\"=&gt;[{\"key\"=&gt;\"Fabric\", \"...</td>\n",
       "      <td>Key Features of Sinina Chanderi Embroidered Sa...</td>\n",
       "      <td>372.50</td>\n",
       "      <td>1117.50</td>\n",
       "    </tr>\n",
       "    <tr>\n",
       "      <th>8923</th>\n",
       "      <td>20a73e3f41490a73ceeba5f17658db8f</td>\n",
       "      <td>West</td>\n",
       "      <td>01-12-2020</td>\n",
       "      <td>04-12-2020</td>\n",
       "      <td>04-12-2020</td>\n",
       "      <td>Aarushi Fashion Chanderi Embroidered Salwar Su...</td>\n",
       "      <td>Clothing</td>\n",
       "      <td>Women's Clothing</td>\n",
       "      <td>Ethnic Wear</td>\n",
       "      <td>Fabric</td>\n",
       "      <td>FABEG8GFDUWRSNU3</td>\n",
       "      <td>2600</td>\n",
       "      <td>1300</td>\n",
       "      <td>1.0</td>\n",
       "      <td>Aarushi Fashion</td>\n",
       "      <td>{\"product_specification\"=&gt;[{\"key\"=&gt;\"Fabric\", \"...</td>\n",
       "      <td>Key Features of Aarushi Fashion Chanderi Embro...</td>\n",
       "      <td>325.00</td>\n",
       "      <td>975.00</td>\n",
       "    </tr>\n",
       "    <tr>\n",
       "      <th>8924</th>\n",
       "      <td>5c1554cd45f9d538c2c6947dbdd59c75</td>\n",
       "      <td>East</td>\n",
       "      <td>01-12-2020</td>\n",
       "      <td>04-12-2020</td>\n",
       "      <td>04-12-2020</td>\n",
       "      <td>Ambika Lahenga Embroidered Lehenga, Choli and ...</td>\n",
       "      <td>Clothing</td>\n",
       "      <td>Women's Clothing</td>\n",
       "      <td>Ethnic Wear</td>\n",
       "      <td>Lehenga Cholis</td>\n",
       "      <td>LEHEGGEHYN4G2RPW</td>\n",
       "      <td>39992</td>\n",
       "      <td>24995</td>\n",
       "      <td>1.0</td>\n",
       "      <td>Ambika Lahenga</td>\n",
       "      <td>{\"product_specification\"=&gt;[{\"key\"=&gt;\"Fabric\", \"...</td>\n",
       "      <td>Key Features of Ambika Lahenga Embroidered Leh...</td>\n",
       "      <td>6248.75</td>\n",
       "      <td>18746.25</td>\n",
       "    </tr>\n",
       "    <tr>\n",
       "      <th>8925</th>\n",
       "      <td>6b737a4deca1ed0e56c179e66036e994</td>\n",
       "      <td>West</td>\n",
       "      <td>01-12-2020</td>\n",
       "      <td>04-12-2020</td>\n",
       "      <td>04-12-2020</td>\n",
       "      <td>Sinina Chanderi Embroidered Salwar Suit Dupatt...</td>\n",
       "      <td>Clothing</td>\n",
       "      <td>Women's Clothing</td>\n",
       "      <td>Ethnic Wear</td>\n",
       "      <td>Fabric</td>\n",
       "      <td>FABEGGHHGSVCHGFV</td>\n",
       "      <td>2000</td>\n",
       "      <td>1000</td>\n",
       "      <td>3.0</td>\n",
       "      <td>Sinina</td>\n",
       "      <td>{\"product_specification\"=&gt;[{\"key\"=&gt;\"Fabric\", \"...</td>\n",
       "      <td>Key Features of Sinina Chanderi Embroidered Sa...</td>\n",
       "      <td>250.00</td>\n",
       "      <td>750.00</td>\n",
       "    </tr>\n",
       "    <tr>\n",
       "      <th>8926</th>\n",
       "      <td>a5235ac28d3d5487f54025f9d6b57433</td>\n",
       "      <td>North</td>\n",
       "      <td>01-12-2020</td>\n",
       "      <td>04-12-2020</td>\n",
       "      <td>04-12-2020</td>\n",
       "      <td>Aarushi Fashion Silk Striped Salwar Suit Dupat...</td>\n",
       "      <td>Clothing</td>\n",
       "      <td>Women's Clothing</td>\n",
       "      <td>Ethnic Wear</td>\n",
       "      <td>Fabric</td>\n",
       "      <td>FABEG8GYDAABECZH</td>\n",
       "      <td>2800</td>\n",
       "      <td>1350</td>\n",
       "      <td>4.0</td>\n",
       "      <td>Aarushi Fashion</td>\n",
       "      <td>{\"product_specification\"=&gt;[{\"key\"=&gt;\"Fabric\", \"...</td>\n",
       "      <td>Key Features of Aarushi Fashion Silk Striped S...</td>\n",
       "      <td>337.50</td>\n",
       "      <td>1012.50</td>\n",
       "    </tr>\n",
       "  </tbody>\n",
       "</table>\n",
       "<p>8927 rows × 19 columns</p>\n",
       "</div>"
      ],
      "text/plain": [
       "                      Customer_uniq_id Region  Order_Date  \\\n",
       "0     c2d766ca982eca8304150849735ffef9  North  31-12-2021   \n",
       "1     7f7036a6d550aaa89d34c77bd39a5e48  East   31-12-2021   \n",
       "2     f449ec65dcbc041b6ae5e6a32717d01b  East   31-12-2021   \n",
       "3     0973b37acd0c664e3de26e97e5571454   West  31-12-2021   \n",
       "4     bc940ea42ee6bef5ac7cea3fb5cfbee7   West  31-12-2021   \n",
       "...                                ...    ...         ...   \n",
       "8922  90d30478255e23621e8929ed15c2f6e4  South  01-12-2020   \n",
       "8923  20a73e3f41490a73ceeba5f17658db8f   West  01-12-2020   \n",
       "8924  5c1554cd45f9d538c2c6947dbdd59c75  East   01-12-2020   \n",
       "8925  6b737a4deca1ed0e56c179e66036e994   West  01-12-2020   \n",
       "8926  a5235ac28d3d5487f54025f9d6b57433  North  01-12-2020   \n",
       "\n",
       "     Expected_Delivery_Date Delivered_Date  \\\n",
       "0                03-01-2022     02-01-2022   \n",
       "1                03-01-2022     02-01-2022   \n",
       "2                03-01-2022     02-01-2022   \n",
       "3                03-01-2022     02-01-2022   \n",
       "4                03-01-2022     02-01-2022   \n",
       "...                     ...            ...   \n",
       "8922             04-12-2020     04-12-2020   \n",
       "8923             04-12-2020     04-12-2020   \n",
       "8924             04-12-2020     04-12-2020   \n",
       "8925             04-12-2020     04-12-2020   \n",
       "8926             04-12-2020     04-12-2020   \n",
       "\n",
       "                                           product_name product_main_category  \\\n",
       "0                   Alisha Solid Women's Cycling Shorts             Clothing    \n",
       "1                   FabHomeDecor Fabric Double Sofa Bed            Furniture    \n",
       "2                                            AW Bellies             Footwear    \n",
       "3                   Alisha Solid Women's Cycling Shorts             Clothing    \n",
       "4                 Sicons All Purpose Arnica Dog Shampoo         Pet Supplies    \n",
       "...                                                 ...                   ...   \n",
       "8922  Sinina Chanderi Embroidered Salwar Suit Dupatt...             Clothing    \n",
       "8923  Aarushi Fashion Chanderi Embroidered Salwar Su...             Clothing    \n",
       "8924  Ambika Lahenga Embroidered Lehenga, Choli and ...             Clothing    \n",
       "8925  Sinina Chanderi Embroidered Salwar Suit Dupatt...             Clothing    \n",
       "8926  Aarushi Fashion Silk Striped Salwar Suit Dupat...             Clothing    \n",
       "\n",
       "          product_subcategory       product_category_filter  \\\n",
       "0           Women's Clothing    Lingerie, Sleep & Swimwear    \n",
       "1      Living Room Furniture            Sofa Beds & Futons    \n",
       "2           Women's Footwear                    Ballerinas    \n",
       "3           Women's Clothing    Lingerie, Sleep & Swimwear    \n",
       "4                   Grooming              Skin & Coat Care    \n",
       "...                       ...                           ...   \n",
       "8922        Women's Clothing                   Ethnic Wear    \n",
       "8923        Women's Clothing                   Ethnic Wear    \n",
       "8924        Women's Clothing                   Ethnic Wear    \n",
       "8925        Women's Clothing                   Ethnic Wear    \n",
       "8926        Women's Clothing                   Ethnic Wear    \n",
       "\n",
       "                             product_category_subfilter product_unique ID  \\\n",
       "0                                               Shorts   SRTEH2FF9KEDEFGF   \n",
       "1      FabHomeDecor Fabric Double Sofa Bed (Finish C...  SBEEH3QGU7MFYJFY   \n",
       "2                                            AW Bellies  SHOEH4GRSUBJGZXE   \n",
       "3                                               Shorts   SRTEH2F6HUZMQ6SJ   \n",
       "4                                              Shampoo   PSOEH3ZYDMSYARJ5   \n",
       "...                                                 ...               ...   \n",
       "8922                                            Fabric   FABEGGHHDFMY8BZU   \n",
       "8923                                            Fabric   FABEG8GFDUWRSNU3   \n",
       "8924                                    Lehenga Cholis   LEHEGGEHYN4G2RPW   \n",
       "8925                                            Fabric   FABEGGHHGSVCHGFV   \n",
       "8926                                            Fabric   FABEG8GYDAABECZH   \n",
       "\n",
       "      retail_price  discounted_price  product_rating            Brand  \\\n",
       "0              999               379             2.0           Alisha   \n",
       "1            32157             22646             2.0     FabHomeDecor   \n",
       "2              999               499             1.0               AW   \n",
       "3              699               267             5.0           Alisha   \n",
       "4              220               210             5.0           Sicons   \n",
       "...            ...               ...             ...              ...   \n",
       "8922          2980              1490             3.0           Sinina   \n",
       "8923          2600              1300             1.0  Aarushi Fashion   \n",
       "8924         39992             24995             1.0   Ambika Lahenga   \n",
       "8925          2000              1000             3.0           Sinina   \n",
       "8926          2800              1350             4.0  Aarushi Fashion   \n",
       "\n",
       "                                 product_specifications  \\\n",
       "0     {\"product_specification\"=>[{\"key\"=>\"Number of ...   \n",
       "1     {\"product_specification\"=>[{\"key\"=>\"Installati...   \n",
       "2     {\"product_specification\"=>[{\"key\"=>\"Ideal For\"...   \n",
       "3     {\"product_specification\"=>[{\"key\"=>\"Number of ...   \n",
       "4     {\"product_specification\"=>[{\"key\"=>\"Pet Type\",...   \n",
       "...                                                 ...   \n",
       "8922  {\"product_specification\"=>[{\"key\"=>\"Fabric\", \"...   \n",
       "8923  {\"product_specification\"=>[{\"key\"=>\"Fabric\", \"...   \n",
       "8924  {\"product_specification\"=>[{\"key\"=>\"Fabric\", \"...   \n",
       "8925  {\"product_specification\"=>[{\"key\"=>\"Fabric\", \"...   \n",
       "8926  {\"product_specification\"=>[{\"key\"=>\"Fabric\", \"...   \n",
       "\n",
       "                                            description  Net Revenue  \\\n",
       "0     Key Features of Alisha Solid Women's Cycling S...        56.85   \n",
       "1     FabHomeDecor Fabric Double Sofa Bed (Finish Co...      5661.50   \n",
       "2     Key Features of AW Bellies Sandals Wedges Heel...        74.85   \n",
       "3     Key Features of Alisha Solid Women's Cycling S...        26.70   \n",
       "4     Specifications of Sicons All Purpose Arnica Do...        21.00   \n",
       "...                                                 ...          ...   \n",
       "8922  Key Features of Sinina Chanderi Embroidered Sa...       372.50   \n",
       "8923  Key Features of Aarushi Fashion Chanderi Embro...       325.00   \n",
       "8924  Key Features of Ambika Lahenga Embroidered Leh...      6248.75   \n",
       "8925  Key Features of Sinina Chanderi Embroidered Sa...       250.00   \n",
       "8926  Key Features of Aarushi Fashion Silk Striped S...       337.50   \n",
       "\n",
       "      Netbrand Revenue  \n",
       "0               322.15  \n",
       "1             16984.50  \n",
       "2               424.15  \n",
       "3               240.30  \n",
       "4               189.00  \n",
       "...                ...  \n",
       "8922           1117.50  \n",
       "8923            975.00  \n",
       "8924          18746.25  \n",
       "8925            750.00  \n",
       "8926           1012.50  \n",
       "\n",
       "[8927 rows x 19 columns]"
      ]
     },
     "execution_count": 29,
     "metadata": {},
     "output_type": "execute_result"
    }
   ],
   "source": [
    "x = ECom_Data['discounted_price']\n",
    "\n",
    "def netrevenue(x):\n",
    "    \n",
    "    if x > 600:\n",
    "            return x* 0.25\n",
    "            \n",
    "    elif x > 350:\n",
    "            return x*0.15\n",
    "            \n",
    "    elif x > 100:\n",
    "           return  x*0.10\n",
    "            \n",
    "    else:\n",
    "           return x*0.05\n",
    "ECom_Data['Net Revenue']= x.apply(netrevenue)\n",
    "print(ECom_Data['Net Revenue'])\n",
    "\n",
    "\n",
    "ECom_Data\n",
    "\n",
    "\n",
    "\n"
   ]
  },
  {
   "cell_type": "markdown",
   "id": "9161ca8c",
   "metadata": {},
   "source": [
    "<font color='blue'>\n",
    "    <font size = 5>\n",
    "    Now you need to find the revenue for each retailer (Brand)\n",
    "    </font>"
   ]
  },
  {
   "cell_type": "markdown",
   "id": "73dd23c3",
   "metadata": {},
   "source": [
    "## Q6.Calculate the Net BrandRevenue for each Brand and list the top 14 Brand having maximum revenue in descending order (6 marks)\n",
    "#### Hint: Net BrandRevenue is BrandRevenue which is generated after all the deductions. Also, BrandRevenue is different from the E-Commerce company's net revenue."
   ]
  },
  {
   "cell_type": "markdown",
   "id": "3514fa79",
   "metadata": {},
   "source": [
    "### Ans 6"
   ]
  },
  {
   "cell_type": "code",
   "execution_count": 28,
   "id": "437c69b5",
   "metadata": {},
   "outputs": [
    {
     "data": {
      "text/html": [
       "<div>\n",
       "<style scoped>\n",
       "    .dataframe tbody tr th:only-of-type {\n",
       "        vertical-align: middle;\n",
       "    }\n",
       "\n",
       "    .dataframe tbody tr th {\n",
       "        vertical-align: top;\n",
       "    }\n",
       "\n",
       "    .dataframe thead th {\n",
       "        text-align: right;\n",
       "    }\n",
       "</style>\n",
       "<table border=\"1\" class=\"dataframe\">\n",
       "  <thead>\n",
       "    <tr style=\"text-align: right;\">\n",
       "      <th></th>\n",
       "      <th>Customer_uniq_id</th>\n",
       "      <th>Region</th>\n",
       "      <th>Order_Date</th>\n",
       "      <th>Expected_Delivery_Date</th>\n",
       "      <th>Delivered_Date</th>\n",
       "      <th>product_name</th>\n",
       "      <th>product_main_category</th>\n",
       "      <th>product_subcategory</th>\n",
       "      <th>product_category_filter</th>\n",
       "      <th>product_category_subfilter</th>\n",
       "      <th>product_unique ID</th>\n",
       "      <th>retail_price</th>\n",
       "      <th>discounted_price</th>\n",
       "      <th>product_rating</th>\n",
       "      <th>Brand</th>\n",
       "      <th>product_specifications</th>\n",
       "      <th>description</th>\n",
       "      <th>Net Revenue</th>\n",
       "      <th>Netbrand Revenue</th>\n",
       "    </tr>\n",
       "  </thead>\n",
       "  <tbody>\n",
       "    <tr>\n",
       "      <th>0</th>\n",
       "      <td>c2d766ca982eca8304150849735ffef9</td>\n",
       "      <td>North</td>\n",
       "      <td>31-12-2021</td>\n",
       "      <td>03-01-2022</td>\n",
       "      <td>02-01-2022</td>\n",
       "      <td>Alisha Solid Women's Cycling Shorts</td>\n",
       "      <td>Clothing</td>\n",
       "      <td>Women's Clothing</td>\n",
       "      <td>Lingerie, Sleep &amp; Swimwear</td>\n",
       "      <td>Shorts</td>\n",
       "      <td>SRTEH2FF9KEDEFGF</td>\n",
       "      <td>999</td>\n",
       "      <td>379</td>\n",
       "      <td>2.0</td>\n",
       "      <td>Alisha</td>\n",
       "      <td>{\"product_specification\"=&gt;[{\"key\"=&gt;\"Number of ...</td>\n",
       "      <td>Key Features of Alisha Solid Women's Cycling S...</td>\n",
       "      <td>56.85</td>\n",
       "      <td>322.15</td>\n",
       "    </tr>\n",
       "    <tr>\n",
       "      <th>1</th>\n",
       "      <td>7f7036a6d550aaa89d34c77bd39a5e48</td>\n",
       "      <td>East</td>\n",
       "      <td>31-12-2021</td>\n",
       "      <td>03-01-2022</td>\n",
       "      <td>02-01-2022</td>\n",
       "      <td>FabHomeDecor Fabric Double Sofa Bed</td>\n",
       "      <td>Furniture</td>\n",
       "      <td>Living Room Furniture</td>\n",
       "      <td>Sofa Beds &amp; Futons</td>\n",
       "      <td>FabHomeDecor Fabric Double Sofa Bed (Finish C...</td>\n",
       "      <td>SBEEH3QGU7MFYJFY</td>\n",
       "      <td>32157</td>\n",
       "      <td>22646</td>\n",
       "      <td>2.0</td>\n",
       "      <td>FabHomeDecor</td>\n",
       "      <td>{\"product_specification\"=&gt;[{\"key\"=&gt;\"Installati...</td>\n",
       "      <td>FabHomeDecor Fabric Double Sofa Bed (Finish Co...</td>\n",
       "      <td>5661.50</td>\n",
       "      <td>16984.50</td>\n",
       "    </tr>\n",
       "    <tr>\n",
       "      <th>2</th>\n",
       "      <td>f449ec65dcbc041b6ae5e6a32717d01b</td>\n",
       "      <td>East</td>\n",
       "      <td>31-12-2021</td>\n",
       "      <td>03-01-2022</td>\n",
       "      <td>02-01-2022</td>\n",
       "      <td>AW Bellies</td>\n",
       "      <td>Footwear</td>\n",
       "      <td>Women's Footwear</td>\n",
       "      <td>Ballerinas</td>\n",
       "      <td>AW Bellies</td>\n",
       "      <td>SHOEH4GRSUBJGZXE</td>\n",
       "      <td>999</td>\n",
       "      <td>499</td>\n",
       "      <td>1.0</td>\n",
       "      <td>AW</td>\n",
       "      <td>{\"product_specification\"=&gt;[{\"key\"=&gt;\"Ideal For\"...</td>\n",
       "      <td>Key Features of AW Bellies Sandals Wedges Heel...</td>\n",
       "      <td>74.85</td>\n",
       "      <td>424.15</td>\n",
       "    </tr>\n",
       "    <tr>\n",
       "      <th>3</th>\n",
       "      <td>0973b37acd0c664e3de26e97e5571454</td>\n",
       "      <td>West</td>\n",
       "      <td>31-12-2021</td>\n",
       "      <td>03-01-2022</td>\n",
       "      <td>02-01-2022</td>\n",
       "      <td>Alisha Solid Women's Cycling Shorts</td>\n",
       "      <td>Clothing</td>\n",
       "      <td>Women's Clothing</td>\n",
       "      <td>Lingerie, Sleep &amp; Swimwear</td>\n",
       "      <td>Shorts</td>\n",
       "      <td>SRTEH2F6HUZMQ6SJ</td>\n",
       "      <td>699</td>\n",
       "      <td>267</td>\n",
       "      <td>5.0</td>\n",
       "      <td>Alisha</td>\n",
       "      <td>{\"product_specification\"=&gt;[{\"key\"=&gt;\"Number of ...</td>\n",
       "      <td>Key Features of Alisha Solid Women's Cycling S...</td>\n",
       "      <td>26.70</td>\n",
       "      <td>240.30</td>\n",
       "    </tr>\n",
       "    <tr>\n",
       "      <th>4</th>\n",
       "      <td>bc940ea42ee6bef5ac7cea3fb5cfbee7</td>\n",
       "      <td>West</td>\n",
       "      <td>31-12-2021</td>\n",
       "      <td>03-01-2022</td>\n",
       "      <td>02-01-2022</td>\n",
       "      <td>Sicons All Purpose Arnica Dog Shampoo</td>\n",
       "      <td>Pet Supplies</td>\n",
       "      <td>Grooming</td>\n",
       "      <td>Skin &amp; Coat Care</td>\n",
       "      <td>Shampoo</td>\n",
       "      <td>PSOEH3ZYDMSYARJ5</td>\n",
       "      <td>220</td>\n",
       "      <td>210</td>\n",
       "      <td>5.0</td>\n",
       "      <td>Sicons</td>\n",
       "      <td>{\"product_specification\"=&gt;[{\"key\"=&gt;\"Pet Type\",...</td>\n",
       "      <td>Specifications of Sicons All Purpose Arnica Do...</td>\n",
       "      <td>21.00</td>\n",
       "      <td>189.00</td>\n",
       "    </tr>\n",
       "    <tr>\n",
       "      <th>5</th>\n",
       "      <td>ce5a6818f7707e2cb61fdcdbba61f5ad</td>\n",
       "      <td>East</td>\n",
       "      <td>25-12-2021</td>\n",
       "      <td>28-12-2021</td>\n",
       "      <td>27-12-2021</td>\n",
       "      <td>Alisha Solid Women's Cycling Shorts</td>\n",
       "      <td>Clothing</td>\n",
       "      <td>Women's Clothing</td>\n",
       "      <td>Lingerie, Sleep &amp; Swimwear</td>\n",
       "      <td>Shorts</td>\n",
       "      <td>SRTEH2FVVKRBAXHB</td>\n",
       "      <td>1199</td>\n",
       "      <td>479</td>\n",
       "      <td>4.0</td>\n",
       "      <td>Alisha</td>\n",
       "      <td>{\"product_specification\"=&gt;[{\"key\"=&gt;\"Number of ...</td>\n",
       "      <td>Key Features of Alisha Solid Women's Cycling S...</td>\n",
       "      <td>71.85</td>\n",
       "      <td>407.15</td>\n",
       "    </tr>\n",
       "    <tr>\n",
       "      <th>6</th>\n",
       "      <td>8542703ca9e6ebdf6d742638dfb1f2ca</td>\n",
       "      <td>East</td>\n",
       "      <td>25-12-2021</td>\n",
       "      <td>28-12-2021</td>\n",
       "      <td>27-12-2021</td>\n",
       "      <td>FabHomeDecor Fabric Double Sofa Bed</td>\n",
       "      <td>Furniture</td>\n",
       "      <td>Living Room Furniture</td>\n",
       "      <td>Sofa Beds &amp; Futons</td>\n",
       "      <td>FabHomeDecor Fabric Double Sofa Bed (Finish C...</td>\n",
       "      <td>SBEEH3QGYGHFUEXN</td>\n",
       "      <td>32157</td>\n",
       "      <td>22646</td>\n",
       "      <td>2.0</td>\n",
       "      <td>FabHomeDecor</td>\n",
       "      <td>{\"product_specification\"=&gt;[{\"key\"=&gt;\"Installati...</td>\n",
       "      <td>FabHomeDecor Fabric Double Sofa Bed (Finish Co...</td>\n",
       "      <td>5661.50</td>\n",
       "      <td>16984.50</td>\n",
       "    </tr>\n",
       "    <tr>\n",
       "      <th>7</th>\n",
       "      <td>29c8d290caa451f97b1c32df64477a2c</td>\n",
       "      <td>North</td>\n",
       "      <td>25-12-2021</td>\n",
       "      <td>28-12-2021</td>\n",
       "      <td>27-12-2021</td>\n",
       "      <td>dilli bazaaar Bellies, Corporate Casuals, Casuals</td>\n",
       "      <td>Footwear</td>\n",
       "      <td>Women's Footwear</td>\n",
       "      <td>Ballerinas</td>\n",
       "      <td>dilli bazaaar Bellies, Corporate Casuals, Cas...</td>\n",
       "      <td>SHOEH3DZBFR88SCK</td>\n",
       "      <td>699</td>\n",
       "      <td>349</td>\n",
       "      <td>5.0</td>\n",
       "      <td>dilli bazaaar</td>\n",
       "      <td>{\"product_specification\"=&gt;[{\"key\"=&gt;\"Occasion\",...</td>\n",
       "      <td>Key Features of dilli bazaaar Bellies, Corpora...</td>\n",
       "      <td>34.90</td>\n",
       "      <td>314.10</td>\n",
       "    </tr>\n",
       "    <tr>\n",
       "      <th>8</th>\n",
       "      <td>4044c0ac52c1ee4b28777417651faf42</td>\n",
       "      <td>East</td>\n",
       "      <td>25-12-2021</td>\n",
       "      <td>28-12-2021</td>\n",
       "      <td>27-12-2021</td>\n",
       "      <td>Alisha Solid Women's Cycling Shorts</td>\n",
       "      <td>Clothing</td>\n",
       "      <td>Women's Clothing</td>\n",
       "      <td>Lingerie, Sleep &amp; Swimwear</td>\n",
       "      <td>Shorts</td>\n",
       "      <td>SRTEH2FVUHAAVH9X</td>\n",
       "      <td>1199</td>\n",
       "      <td>479</td>\n",
       "      <td>1.0</td>\n",
       "      <td>Alisha</td>\n",
       "      <td>{\"product_specification\"=&gt;[{\"key\"=&gt;\"Number of ...</td>\n",
       "      <td>Key Features of Alisha Solid Women's Cycling S...</td>\n",
       "      <td>71.85</td>\n",
       "      <td>407.15</td>\n",
       "    </tr>\n",
       "    <tr>\n",
       "      <th>9</th>\n",
       "      <td>e54bc0a7c3429da2ebef0b30331fe3d2</td>\n",
       "      <td>East</td>\n",
       "      <td>25-12-2021</td>\n",
       "      <td>28-12-2021</td>\n",
       "      <td>27-12-2021</td>\n",
       "      <td>Ladela Bellies</td>\n",
       "      <td>Footwear</td>\n",
       "      <td>Women's Footwear</td>\n",
       "      <td>Ballerinas</td>\n",
       "      <td>Ladela Bellies</td>\n",
       "      <td>SHOEH4KM2W3Z6EH5</td>\n",
       "      <td>1724</td>\n",
       "      <td>950</td>\n",
       "      <td>5.0</td>\n",
       "      <td>Ladela</td>\n",
       "      <td>{\"product_specification\"=&gt;[{\"key\"=&gt;\"Occasion\",...</td>\n",
       "      <td>Key Features of Ladela Bellies Brand: LADELA C...</td>\n",
       "      <td>237.50</td>\n",
       "      <td>712.50</td>\n",
       "    </tr>\n",
       "    <tr>\n",
       "      <th>10</th>\n",
       "      <td>c73e78fb440ff8972e0762daed4fc109</td>\n",
       "      <td>West</td>\n",
       "      <td>25-12-2021</td>\n",
       "      <td>28-12-2021</td>\n",
       "      <td>27-12-2021</td>\n",
       "      <td>Carrel Printed Women's</td>\n",
       "      <td>Clothing</td>\n",
       "      <td>Women's Clothing</td>\n",
       "      <td>Sports &amp; Gym Wear</td>\n",
       "      <td>Swimsuits</td>\n",
       "      <td>SWIEHF3EF5PZAZUY</td>\n",
       "      <td>2299</td>\n",
       "      <td>910</td>\n",
       "      <td>3.0</td>\n",
       "      <td>Carrel</td>\n",
       "      <td>{\"product_specification\"=&gt;[{\"key\"=&gt;\"Neck\", \"va...</td>\n",
       "      <td>Key Features of Carrel Printed Women's Fabric:...</td>\n",
       "      <td>227.50</td>\n",
       "      <td>682.50</td>\n",
       "    </tr>\n",
       "    <tr>\n",
       "      <th>11</th>\n",
       "      <td>c29af37837afcaf44b779eca7c19295f</td>\n",
       "      <td>North</td>\n",
       "      <td>25-12-2021</td>\n",
       "      <td>28-12-2021</td>\n",
       "      <td>27-12-2021</td>\n",
       "      <td>Sicons All Purpose Tea Tree Dog Shampoo</td>\n",
       "      <td>Pet Supplies</td>\n",
       "      <td>Grooming</td>\n",
       "      <td>Skin &amp; Coat Care</td>\n",
       "      <td>Shampoo</td>\n",
       "      <td>PSOEH3ZYYFETGCCD</td>\n",
       "      <td>300</td>\n",
       "      <td>256</td>\n",
       "      <td>1.0</td>\n",
       "      <td>Sicons</td>\n",
       "      <td>{\"product_specification\"=&gt;[{\"key\"=&gt;\"Pet Type\",...</td>\n",
       "      <td>Specifications of Sicons All Purpose Tea Tree ...</td>\n",
       "      <td>25.60</td>\n",
       "      <td>230.40</td>\n",
       "    </tr>\n",
       "    <tr>\n",
       "      <th>12</th>\n",
       "      <td>9aacdecceb404c74abddc513fd2756a8</td>\n",
       "      <td>East</td>\n",
       "      <td>25-12-2021</td>\n",
       "      <td>28-12-2021</td>\n",
       "      <td>27-12-2021</td>\n",
       "      <td>Alisha Solid Women's Cycling Shorts</td>\n",
       "      <td>Clothing</td>\n",
       "      <td>Women's Clothing</td>\n",
       "      <td>Lingerie, Sleep &amp; Swimwear</td>\n",
       "      <td>Shorts</td>\n",
       "      <td>SRTEH2FGBDJGX8FW</td>\n",
       "      <td>999</td>\n",
       "      <td>379</td>\n",
       "      <td>5.0</td>\n",
       "      <td>Alisha</td>\n",
       "      <td>{\"product_specification\"=&gt;[{\"key\"=&gt;\"Number of ...</td>\n",
       "      <td>Key Features of Alisha Solid Women's Cycling S...</td>\n",
       "      <td>56.85</td>\n",
       "      <td>322.15</td>\n",
       "    </tr>\n",
       "    <tr>\n",
       "      <th>13</th>\n",
       "      <td>83c53f8948f508f51d2249b489ca8e7d</td>\n",
       "      <td>East</td>\n",
       "      <td>25-12-2021</td>\n",
       "      <td>28-12-2021</td>\n",
       "      <td>27-12-2021</td>\n",
       "      <td>Freelance Vacuum Bottles 350 ml Bottle</td>\n",
       "      <td>Pens &amp; Stationery</td>\n",
       "      <td>School Supplies</td>\n",
       "      <td>Water Bottles</td>\n",
       "      <td>Freelance Water Bottles</td>\n",
       "      <td>BOTEGYTZ2T6WUJMM</td>\n",
       "      <td>699</td>\n",
       "      <td>699</td>\n",
       "      <td>2.0</td>\n",
       "      <td>Freelance</td>\n",
       "      <td>{\"product_specification\"=&gt;[{\"key\"=&gt;\"Body Mater...</td>\n",
       "      <td>Specifications of Freelance Vacuum Bottles 350...</td>\n",
       "      <td>174.75</td>\n",
       "      <td>524.25</td>\n",
       "    </tr>\n",
       "  </tbody>\n",
       "</table>\n",
       "</div>"
      ],
      "text/plain": [
       "                    Customer_uniq_id Region  Order_Date  \\\n",
       "0   c2d766ca982eca8304150849735ffef9  North  31-12-2021   \n",
       "1   7f7036a6d550aaa89d34c77bd39a5e48  East   31-12-2021   \n",
       "2   f449ec65dcbc041b6ae5e6a32717d01b  East   31-12-2021   \n",
       "3   0973b37acd0c664e3de26e97e5571454   West  31-12-2021   \n",
       "4   bc940ea42ee6bef5ac7cea3fb5cfbee7   West  31-12-2021   \n",
       "5   ce5a6818f7707e2cb61fdcdbba61f5ad  East   25-12-2021   \n",
       "6   8542703ca9e6ebdf6d742638dfb1f2ca  East   25-12-2021   \n",
       "7   29c8d290caa451f97b1c32df64477a2c  North  25-12-2021   \n",
       "8   4044c0ac52c1ee4b28777417651faf42  East   25-12-2021   \n",
       "9   e54bc0a7c3429da2ebef0b30331fe3d2  East   25-12-2021   \n",
       "10  c73e78fb440ff8972e0762daed4fc109   West  25-12-2021   \n",
       "11  c29af37837afcaf44b779eca7c19295f  North  25-12-2021   \n",
       "12  9aacdecceb404c74abddc513fd2756a8  East   25-12-2021   \n",
       "13  83c53f8948f508f51d2249b489ca8e7d  East   25-12-2021   \n",
       "\n",
       "   Expected_Delivery_Date Delivered_Date  \\\n",
       "0              03-01-2022     02-01-2022   \n",
       "1              03-01-2022     02-01-2022   \n",
       "2              03-01-2022     02-01-2022   \n",
       "3              03-01-2022     02-01-2022   \n",
       "4              03-01-2022     02-01-2022   \n",
       "5              28-12-2021     27-12-2021   \n",
       "6              28-12-2021     27-12-2021   \n",
       "7              28-12-2021     27-12-2021   \n",
       "8              28-12-2021     27-12-2021   \n",
       "9              28-12-2021     27-12-2021   \n",
       "10             28-12-2021     27-12-2021   \n",
       "11             28-12-2021     27-12-2021   \n",
       "12             28-12-2021     27-12-2021   \n",
       "13             28-12-2021     27-12-2021   \n",
       "\n",
       "                                         product_name product_main_category  \\\n",
       "0                 Alisha Solid Women's Cycling Shorts             Clothing    \n",
       "1                 FabHomeDecor Fabric Double Sofa Bed            Furniture    \n",
       "2                                          AW Bellies             Footwear    \n",
       "3                 Alisha Solid Women's Cycling Shorts             Clothing    \n",
       "4               Sicons All Purpose Arnica Dog Shampoo         Pet Supplies    \n",
       "5                 Alisha Solid Women's Cycling Shorts             Clothing    \n",
       "6                 FabHomeDecor Fabric Double Sofa Bed            Furniture    \n",
       "7   dilli bazaaar Bellies, Corporate Casuals, Casuals             Footwear    \n",
       "8                 Alisha Solid Women's Cycling Shorts             Clothing    \n",
       "9                                      Ladela Bellies             Footwear    \n",
       "10                             Carrel Printed Women's             Clothing    \n",
       "11            Sicons All Purpose Tea Tree Dog Shampoo         Pet Supplies    \n",
       "12                Alisha Solid Women's Cycling Shorts             Clothing    \n",
       "13             Freelance Vacuum Bottles 350 ml Bottle    Pens & Stationery    \n",
       "\n",
       "        product_subcategory       product_category_filter  \\\n",
       "0         Women's Clothing    Lingerie, Sleep & Swimwear    \n",
       "1    Living Room Furniture            Sofa Beds & Futons    \n",
       "2         Women's Footwear                    Ballerinas    \n",
       "3         Women's Clothing    Lingerie, Sleep & Swimwear    \n",
       "4                 Grooming              Skin & Coat Care    \n",
       "5         Women's Clothing    Lingerie, Sleep & Swimwear    \n",
       "6    Living Room Furniture            Sofa Beds & Futons    \n",
       "7         Women's Footwear                    Ballerinas    \n",
       "8         Women's Clothing    Lingerie, Sleep & Swimwear    \n",
       "9         Women's Footwear                    Ballerinas    \n",
       "10        Women's Clothing             Sports & Gym Wear    \n",
       "11                Grooming              Skin & Coat Care    \n",
       "12        Women's Clothing    Lingerie, Sleep & Swimwear    \n",
       "13         School Supplies                 Water Bottles    \n",
       "\n",
       "                           product_category_subfilter product_unique ID  \\\n",
       "0                                             Shorts   SRTEH2FF9KEDEFGF   \n",
       "1    FabHomeDecor Fabric Double Sofa Bed (Finish C...  SBEEH3QGU7MFYJFY   \n",
       "2                                          AW Bellies  SHOEH4GRSUBJGZXE   \n",
       "3                                             Shorts   SRTEH2F6HUZMQ6SJ   \n",
       "4                                            Shampoo   PSOEH3ZYDMSYARJ5   \n",
       "5                                             Shorts   SRTEH2FVVKRBAXHB   \n",
       "6    FabHomeDecor Fabric Double Sofa Bed (Finish C...  SBEEH3QGYGHFUEXN   \n",
       "7    dilli bazaaar Bellies, Corporate Casuals, Cas...  SHOEH3DZBFR88SCK   \n",
       "8                                             Shorts   SRTEH2FVUHAAVH9X   \n",
       "9                                      Ladela Bellies  SHOEH4KM2W3Z6EH5   \n",
       "10                                         Swimsuits   SWIEHF3EF5PZAZUY   \n",
       "11                                           Shampoo   PSOEH3ZYYFETGCCD   \n",
       "12                                            Shorts   SRTEH2FGBDJGX8FW   \n",
       "13                           Freelance Water Bottles   BOTEGYTZ2T6WUJMM   \n",
       "\n",
       "    retail_price  discounted_price  product_rating          Brand  \\\n",
       "0            999               379             2.0         Alisha   \n",
       "1          32157             22646             2.0   FabHomeDecor   \n",
       "2            999               499             1.0             AW   \n",
       "3            699               267             5.0         Alisha   \n",
       "4            220               210             5.0         Sicons   \n",
       "5           1199               479             4.0         Alisha   \n",
       "6          32157             22646             2.0   FabHomeDecor   \n",
       "7            699               349             5.0  dilli bazaaar   \n",
       "8           1199               479             1.0         Alisha   \n",
       "9           1724               950             5.0         Ladela   \n",
       "10          2299               910             3.0         Carrel   \n",
       "11           300               256             1.0         Sicons   \n",
       "12           999               379             5.0         Alisha   \n",
       "13           699               699             2.0      Freelance   \n",
       "\n",
       "                               product_specifications  \\\n",
       "0   {\"product_specification\"=>[{\"key\"=>\"Number of ...   \n",
       "1   {\"product_specification\"=>[{\"key\"=>\"Installati...   \n",
       "2   {\"product_specification\"=>[{\"key\"=>\"Ideal For\"...   \n",
       "3   {\"product_specification\"=>[{\"key\"=>\"Number of ...   \n",
       "4   {\"product_specification\"=>[{\"key\"=>\"Pet Type\",...   \n",
       "5   {\"product_specification\"=>[{\"key\"=>\"Number of ...   \n",
       "6   {\"product_specification\"=>[{\"key\"=>\"Installati...   \n",
       "7   {\"product_specification\"=>[{\"key\"=>\"Occasion\",...   \n",
       "8   {\"product_specification\"=>[{\"key\"=>\"Number of ...   \n",
       "9   {\"product_specification\"=>[{\"key\"=>\"Occasion\",...   \n",
       "10  {\"product_specification\"=>[{\"key\"=>\"Neck\", \"va...   \n",
       "11  {\"product_specification\"=>[{\"key\"=>\"Pet Type\",...   \n",
       "12  {\"product_specification\"=>[{\"key\"=>\"Number of ...   \n",
       "13  {\"product_specification\"=>[{\"key\"=>\"Body Mater...   \n",
       "\n",
       "                                          description  Net Revenue  \\\n",
       "0   Key Features of Alisha Solid Women's Cycling S...        56.85   \n",
       "1   FabHomeDecor Fabric Double Sofa Bed (Finish Co...      5661.50   \n",
       "2   Key Features of AW Bellies Sandals Wedges Heel...        74.85   \n",
       "3   Key Features of Alisha Solid Women's Cycling S...        26.70   \n",
       "4   Specifications of Sicons All Purpose Arnica Do...        21.00   \n",
       "5   Key Features of Alisha Solid Women's Cycling S...        71.85   \n",
       "6   FabHomeDecor Fabric Double Sofa Bed (Finish Co...      5661.50   \n",
       "7   Key Features of dilli bazaaar Bellies, Corpora...        34.90   \n",
       "8   Key Features of Alisha Solid Women's Cycling S...        71.85   \n",
       "9   Key Features of Ladela Bellies Brand: LADELA C...       237.50   \n",
       "10  Key Features of Carrel Printed Women's Fabric:...       227.50   \n",
       "11  Specifications of Sicons All Purpose Tea Tree ...        25.60   \n",
       "12  Key Features of Alisha Solid Women's Cycling S...        56.85   \n",
       "13  Specifications of Freelance Vacuum Bottles 350...       174.75   \n",
       "\n",
       "    Netbrand Revenue  \n",
       "0             322.15  \n",
       "1           16984.50  \n",
       "2             424.15  \n",
       "3             240.30  \n",
       "4             189.00  \n",
       "5             407.15  \n",
       "6           16984.50  \n",
       "7             314.10  \n",
       "8             407.15  \n",
       "9             712.50  \n",
       "10            682.50  \n",
       "11            230.40  \n",
       "12            322.15  \n",
       "13            524.25  "
      ]
     },
     "execution_count": 28,
     "metadata": {},
     "output_type": "execute_result"
    }
   ],
   "source": [
    "ECom_Data['Netbrand Revenue']=ECom_Data['discounted_price']-ECom_Data['Net Revenue']\n",
    "\n",
    "\n",
    "ECom_Data['Netbrand Revenue'].value_counts(normalize=True,ascending=False)\n",
    "\n",
    "\n",
    "ECom_Data.head(14)\n",
    "\n",
    "\n"
   ]
  },
  {
   "cell_type": "code",
   "execution_count": null,
   "id": "815b16c1",
   "metadata": {},
   "outputs": [],
   "source": [
    "#We are saving the value in the csv to be used for further questions\n",
    "ECom_Data.to_csv('E-Commerce_Flipkart.csv',index=False)"
   ]
  },
  {
   "cell_type": "markdown",
   "id": "2a2bbd83",
   "metadata": {},
   "source": [
    "<font color='blue'>\n",
    "    <font size = 5>\n",
    "Let us now investigate multiple features for each product to determine any pattern.\n",
    "</font>"
   ]
  },
  {
   "cell_type": "markdown",
   "id": "1aa1834b",
   "metadata": {},
   "source": [
    "## Q 7. Compare prices for each product.\n",
    "\n",
    "## a)\tDraw boxplots of retail_price & discounted_price. (3 marks)\n",
    "\n",
    "## b)\t Are there any outliers? (Yes/No) (1mark)\n",
    "\n",
    "## c)\tCreate a scatterplot of retail_price (x-axis) and discounted_price (y-axis) (3 marks)\n"
   ]
  },
  {
   "cell_type": "markdown",
   "id": "d5aae861",
   "metadata": {},
   "source": [
    "### Ans 7 a)"
   ]
  },
  {
   "cell_type": "markdown",
   "id": "d489926b",
   "metadata": {},
   "source": [
    "Here I am Creating box plot for Retail price and discounted price seperately with the limits for the better viewing of the plot"
   ]
  },
  {
   "cell_type": "code",
   "execution_count": 53,
   "id": "510fd4d0",
   "metadata": {},
   "outputs": [
    {
     "data": {
      "text/plain": [
       "(0.0, 10000.0)"
      ]
     },
     "execution_count": 53,
     "metadata": {},
     "output_type": "execute_result"
    },
    {
     "data": {
      "image/png": "[encoded data removed]",
      "text/plain": [
       "<Figure size 432x288 with 1 Axes>"
      ]
     },
     "metadata": {
      "needs_background": "light"
     },
     "output_type": "display_data"
    }
   ],
   "source": [
    "#Box plot for the retail_price\n",
    "sns.boxplot(data=ECom_Data, x='retail_price');\n",
    "plt.xlim(0, 10000)"
   ]
  },
  {
   "cell_type": "code",
   "execution_count": 54,
   "id": "e9ab282c",
   "metadata": {},
   "outputs": [
    {
     "data": {
      "text/plain": [
       "(0.0, 10000.0)"
      ]
     },
     "execution_count": 54,
     "metadata": {},
     "output_type": "execute_result"
    },
    {
     "data": {
      "image/png": "[encoded data removed]",
      "text/plain": [
       "<Figure size 432x288 with 1 Axes>"
      ]
     },
     "metadata": {
      "needs_background": "light"
     },
     "output_type": "display_data"
    }
   ],
   "source": [
    "#Box plot for the discounted_price\n",
    "sns.boxplot(data=ECom_Data, x='discounted_price');\n",
    "plt.xlim(0, 10000)"
   ]
  },
  {
   "cell_type": "code",
   "execution_count": 58,
   "id": "8138d988",
   "metadata": {},
   "outputs": [
    {
     "data": {
      "text/plain": [
       "<Figure size 1080x504 with 0 Axes>"
      ]
     },
     "execution_count": 58,
     "metadata": {},
     "output_type": "execute_result"
    },
    {
     "data": {
      "image/png": "[encoded data removed]",
      "text/plain": [
       "<Figure size 432x288 with 1 Axes>"
      ]
     },
     "metadata": {
      "needs_background": "light"
     },
     "output_type": "display_data"
    },
    {
     "data": {
      "text/plain": [
       "<Figure size 1080x504 with 0 Axes>"
      ]
     },
     "metadata": {},
     "output_type": "display_data"
    }
   ],
   "source": [
    "#Box plot for the retail_price and discounted_price\n",
    "sns.boxplot(data=ECom_Data, x='retail_price',y='discounted_price');\n",
    "plt.xlim(0, 1000);\n",
    "plt.figure(figsize=(15,7));"
   ]
  },
  {
   "cell_type": "markdown",
   "id": "78b92e7c",
   "metadata": {},
   "source": [
    "### Ans 7 b)"
   ]
  },
  {
   "cell_type": "code",
   "execution_count": null,
   "id": "0af7c034",
   "metadata": {},
   "outputs": [],
   "source": [
    "Yes "
   ]
  },
  {
   "cell_type": "markdown",
   "id": "0389c9b8",
   "metadata": {},
   "source": [
    "### Ans 7 c)"
   ]
  },
  {
   "cell_type": "code",
   "execution_count": null,
   "id": "d8c44be9",
   "metadata": {},
   "outputs": [],
   "source": [
    "sns.scatterplot(data=ECom_Data, x='retail_price', y='discounted_price');"
   ]
  },
  {
   "cell_type": "markdown",
   "id": "3bc47f55",
   "metadata": {},
   "source": [
    "<font color='blue'>\n",
    "    <font size = 5>\n",
    "    The next steps will enable to study brand-level information.\n",
    "    </font>"
   ]
  },
  {
   "cell_type": "markdown",
   "id": "b9bd00f7",
   "metadata": {},
   "source": [
    "## Q 8. Create a new dataframe to include the Brand specific information as stated:\n",
    "## i.\ttotal number of orders placed per Brand\n",
    "## ii.\ttotal retail_price per Brand\n",
    "## iii.\ttotal discounted_price per Brand, and \n",
    "## iv.\ttotal net BrandRevenue generated per Brand. \n",
    "\n",
    "## Also, draw a pairplot using these four features. (6 marks)\n"
   ]
  },
  {
   "cell_type": "markdown",
   "id": "8f83cea9",
   "metadata": {},
   "source": [
    "### Ans 8"
   ]
  },
  {
   "cell_type": "code",
   "execution_count": 75,
   "id": "ae749847",
   "metadata": {},
   "outputs": [
    {
     "data": {
      "text/plain": [
       "retail_price  discounted_price  Netbrand Revenue\n",
       "999           499               424.15              15\n",
       "              399               339.15              13\n",
       "499           499               424.15              10\n",
       "999           299               269.10              10\n",
       "399           199               179.10               8\n",
       "                                                    ..\n",
       "1398          648               486.00               1\n",
       "              458               412.20               1\n",
       "1395          1125              1012.50              1\n",
       "1394          998               848.30               1\n",
       "1973880       664619            498464.25            1\n",
       "Length: 2224, dtype: int64"
      ]
     },
     "execution_count": 75,
     "metadata": {},
     "output_type": "execute_result"
    }
   ],
   "source": [
    "#The new dataframe is created for respective information\n",
    "df=ECom_Data.groupby(['Brand'])[['Order_Date','retail_price','discounted_price','Netbrand Revenue']].sum().value_counts()\n",
    "df\n",
    "\n"
   ]
  },
  {
   "cell_type": "code",
   "execution_count": 76,
   "id": "484e4256",
   "metadata": {},
   "outputs": [
    {
     "data": {
      "text/plain": [
       "<seaborn.axisgrid.PairGrid at 0x14c63ab2f70>"
      ]
     },
     "execution_count": 76,
     "metadata": {},
     "output_type": "execute_result"
    },
    {
     "data": {
      "image/png": "[encoded data removed]",
      "text/plain": [
       "<Figure size 540x540 with 12 Axes>"
      ]
     },
     "metadata": {
      "needs_background": "light"
     },
     "output_type": "display_data"
    }
   ],
   "source": [
    "#The pair plot for the respective details\n",
    "sns.pairplot(data=ECom_Data[['retail_price','discounted_price','Netbrand Revenue','Brand']])"
   ]
  },
  {
   "cell_type": "markdown",
   "id": "ecec83f4",
   "metadata": {},
   "source": [
    "<font color='blue'>\n",
    "    <font size = 5>\n",
    "    The E-Commerce company operate in multiple regions. It is important to understand its performance in each region.\n",
    "    </font>"
   ]
  },
  {
   "cell_type": "markdown",
   "id": "dd09b8aa",
   "metadata": {},
   "source": [
    "## Q 9.Compare performance regionwise\n",
    "\n",
    "## a)\tDraw a lineplot for the monthly net Revenue of E-Commerce Company for each region separately.  (4 marks) \n",
    "\n",
    "## b)\tIdentify the best and the worst performing months for each region. (2 marks)\n",
    "\n",
    "#### Note: Only those days with actual orders(Order_Date) placed are present in the dataset. Assuming there were no orders on other days"
   ]
  },
  {
   "cell_type": "markdown",
   "id": "e6d64aea",
   "metadata": {},
   "source": [
    "### Ans 9 a)"
   ]
  },
  {
   "cell_type": "code",
   "execution_count": 36,
   "id": "450fcd71",
   "metadata": {},
   "outputs": [
    {
     "data": {
      "image/png": "[encoded data removed]",
      "text/plain": [
       "<Figure size 1080x504 with 1 Axes>"
      ]
     },
     "metadata": {
      "needs_background": "light"
     },
     "output_type": "display_data"
    }
   ],
   "source": [
    "# converting the date column to datetime format\n",
    "ECom_Data['Order_Date']  = pd.to_datetime(ECom_Data['Order_Date'],dayfirst=True)\n",
    "ECom_Data['Order_Date'].dt.month\n",
    "\n",
    "#Now plotting line plot\n",
    "plt.figure(figsize=(15,7))\n",
    "sns.lineplot(data=ECom_Data,x = 'Order_Date' , y = 'Net Revenue', ci = False ,hue='Region');"
   ]
  },
  {
   "cell_type": "markdown",
   "id": "dac59dc4",
   "metadata": {},
   "source": [
    "### Ans 9 b)"
   ]
  },
  {
   "cell_type": "markdown",
   "id": "217fe6d3",
   "metadata": {},
   "source": [
    " Region     Best Performing Month     Worst Performing Month\n",
    " North      Jan 2022                  Jan 2021 \n",
    " East       Jan 2022                  Dec 2020\n",
    " West       Mar 2021                  Jan 2022\n",
    " South      Mar 2021                  Dec 2020\n",
    "\n"
   ]
  },
  {
   "cell_type": "markdown",
   "id": "dcb8d39f",
   "metadata": {},
   "source": [
    "<font color='blue'>\n",
    "    <font size = 5>\n",
    "    Congratulations! You have learnt how to approach a complex data and extract information out of it. \n",
    "    </font>"
   ]
  }
 ],
 "metadata": {
  "kernelspec": {
   "display_name": "Python 3 (ipykernel)",
   "language": "python",
   "name": "python3"
  },
  "language_info": {
   "codemirror_mode": {
    "name": "ipython",
    "version": 3
   },
   "file_extension": ".py",
   "mimetype": "text/x-python",
   "name": "python",
   "nbconvert_exporter": "python",
   "pygments_lexer": "ipython3",
   "version": "3.9.12"
  }
 },
 "nbformat": 4,
 "nbformat_minor": 5
}

{
 "cells": [
  {
   "cell_type": "markdown",
   "id": "898549a1",
   "metadata": {},
   "source": [
    "1.A physiotherapist with a male football team is interested in studying the relationship between foot injuries and the positions at which the players play from the data collected\n",
    "\n",
    " \n"
   ]
  },
  {
   "cell_type": "markdown",
   "id": "b11398cf",
   "metadata": {},
   "source": [
    "1.1 What is the probability that a randomly chosen player would suffer an injury?"
   ]
  },
  {
   "cell_type": "markdown",
   "id": "a44ac4bd",
   "metadata": {},
   "source": [
    "the probability that a randomly chosen player would suffer an injury = 145/235 = 0.6170"
   ]
  },
  {
   "cell_type": "markdown",
   "id": "a0710bf1",
   "metadata": {},
   "source": [
    "1.2 What is the probability that a player is a forward or a winger?"
   ]
  },
  {
   "cell_type": "markdown",
   "id": "b3f2c761",
   "metadata": {},
   "source": [
    "the probability that a player is a forward or a winger = 123/235 =0.523"
   ]
  },
  {
   "cell_type": "markdown",
   "id": "4b99b656",
   "metadata": {},
   "source": [
    "1.3 What is the probability that a randomly chosen player plays in a striker position and has a foot injury?"
   ]
  },
  {
   "cell_type": "markdown",
   "id": "d2084a9b",
   "metadata": {},
   "source": [
    "the probability that a randomly chosen player plays in a striker position and has a foot injury = 45/77 = 0.58"
   ]
  },
  {
   "cell_type": "markdown",
   "id": "372a59a5",
   "metadata": {},
   "source": [
    "1.4 What is the probability that a randomly chosen injured player is a striker?"
   ]
  },
  {
   "cell_type": "markdown",
   "id": "ea7c97b2",
   "metadata": {},
   "source": [
    "the probability that a randomly chosen injured player is a striker = 45/145 = 0.3103"
   ]
  },
  {
   "cell_type": "markdown",
   "id": "ed279be3",
   "metadata": {},
   "source": [
    "1.5 What is the probability that a randomly chosen injured player is either a forward or an attacking midfielder? \n",
    "\n",
    " "
   ]
  },
  {
   "cell_type": "markdown",
   "id": "219ac825",
   "metadata": {},
   "source": [
    "the probability that a randomly chosen injured player is either a forward or an attacking midfielder = 80/145 = 0.5517"
   ]
  },
  {
   "cell_type": "markdown",
   "id": "770ab80c",
   "metadata": {},
   "source": [
    "2.An independent research organization is trying to estimate the probability that an accident at a nuclear power plant will result in radiation leakage. The types of accidents possible at the plant are, fire hazards, mechanical failure, or human error. The research organization also knows that two or more types of accidents cannot occur simultaneously.\n",
    "\n",
    "According to the studies carried out by the organization, the probability of a radiation leak in case of a fire is 20%, the probability of a radiation leak in case of a mechanical 50%, and the probability of a radiation leak in case of a human error is 10%. The studies also showed the following;\n",
    "\n",
    "The probability of a radiation leak occurring simultaneously with a fire is 0.1%.\n",
    "The probability of a radiation leak occurring simultaneously with a mechanical failure is 0.15%.\n",
    "The probability of a radiation leak occurring simultaneously with a human error is 0.12%.\n",
    "On the basis of the information available, answer the questions below:"
   ]
  },
  {
   "cell_type": "markdown",
   "id": "eb960253",
   "metadata": {},
   "source": [
    "2.1 What are the probabilities of a fire, a mechanical failure, and a human error respectively?"
   ]
  },
  {
   "cell_type": "code",
   "execution_count": 2,
   "id": "44b59244",
   "metadata": {},
   "outputs": [
    {
     "data": {
      "text/plain": [
       "0.25"
      ]
     },
     "execution_count": 2,
     "metadata": {},
     "output_type": "execute_result"
    }
   ],
   "source": [
    "Probablities_of_a_fire = 20/80\n",
    "Probablities_of_a_fire"
   ]
  },
  {
   "cell_type": "code",
   "execution_count": 3,
   "id": "4d2f81da",
   "metadata": {},
   "outputs": [
    {
     "data": {
      "text/plain": [
       "0.625"
      ]
     },
     "execution_count": 3,
     "metadata": {},
     "output_type": "execute_result"
    }
   ],
   "source": [
    "Probablities_of_a_mechanical_failure = 50/80\n",
    "Probablities_of_a_mechanical_failure"
   ]
  },
  {
   "cell_type": "code",
   "execution_count": 4,
   "id": "9e6ff803",
   "metadata": {},
   "outputs": [
    {
     "data": {
      "text/plain": [
       "0.125"
      ]
     },
     "execution_count": 4,
     "metadata": {},
     "output_type": "execute_result"
    }
   ],
   "source": [
    "Probablities_of_a_human_error = 10/80\n",
    "Probablities_of_a_human_error"
   ]
  },
  {
   "cell_type": "markdown",
   "id": "77b6b1fb",
   "metadata": {},
   "source": [
    "2.2 What is the probability of a radiation leak?"
   ]
  },
  {
   "cell_type": "markdown",
   "id": "541b9556",
   "metadata": {},
   "source": [
    "The probability of a radiation leak is 80 %"
   ]
  },
  {
   "cell_type": "markdown",
   "id": "1c8af818",
   "metadata": {},
   "source": [
    "2.3 Suppose there has been a radiation leak in the reactor for which the definite cause is not known. What is the probability that it has been caused by:\n",
    "\n",
    "Fire.\n",
    "Mechanical Failure.\n",
    "Human Error.\n",
    " "
   ]
  },
  {
   "cell_type": "markdown",
   "id": "d02ba188",
   "metadata": {},
   "source": [
    "P(A)= Fire = 0.2\n",
    "P(B)= Mechanical Failure = 0.5\n",
    "P(C)= Human Error = 0.1\n",
    "P(D)= Radiation due miscellaneous reasons = 0.2\n",
    "\n",
    "P(A∩D)=The probability of a radiation leak occurring simultaneously with a fire = 0.1\n",
    "P(B∩D)=The probability of a radiation leak occurring simultaneously with a mechanical failure = 0.15\n",
    "P(C∩D)=The probability of a radiation leak occurring simultaneously with a human error = 0.12"
   ]
  },
  {
   "cell_type": "markdown",
   "id": "00043fbd",
   "metadata": {},
   "source": [
    "The probability that radiation leak it has been caused by Fire:\n",
    "    P(AUD)= P(A)+P(D)-P(A∩D)\n",
    "          = 0.2 + 0.2 - 0.1\n",
    "          = 0.3\n",
    "            \n",
    "The probability that radiation leak it has been caused by Mechanical error:\n",
    "    P(BUD)= P(B)+P(D)-P(B∩D)\n",
    "          = 0.5 + 0.2 - 0.15\n",
    "          = 0.55\n",
    "            \n",
    "The probability that radiation leak it has been caused by Human error:\n",
    "    P(CUD)= P(C)+P(D)-P(C∩D)\n",
    "          = 0.1 + 0.2 - 0.12\n",
    "          = 0.18\n",
    "            \n"
   ]
  },
  {
   "cell_type": "markdown",
   "id": "ca5d89af",
   "metadata": {},
   "source": [
    "3.The breaking strength of gunny bags used for packaging cement is normally distributed with a mean of 5 kg per sq. centimeter and a standard deviation of 1.5 kg per sq. centimeter. The quality team of the cement company wants to know the following about the packaging material to better understand wastage or pilferage within the supply chain; Answer the questions below based on the given information; (Provide an appropriate visual representation of your answers, without which marks will be deducted)"
   ]
  },
  {
   "cell_type": "markdown",
   "id": "1299793e",
   "metadata": {},
   "source": [
    "3.1 What proportion of the gunny bags have a breaking strength less than 3.17 kg per sq cm?"
   ]
  },
  {
   "cell_type": "code",
   "execution_count": 11,
   "id": "598dbae2",
   "metadata": {},
   "outputs": [],
   "source": [
    "from scipy.stats import norm\n",
    "import matplotlib.pyplot as plt \n",
    "import scipy.stats as stats\n",
    "import numpy as np\n",
    "mu = 5\n",
    "sigma = 1.5"
   ]
  },
  {
   "cell_type": "code",
   "execution_count": 12,
   "id": "51fd6ff4",
   "metadata": {},
   "outputs": [
    {
     "data": {
      "text/plain": [
       "-1.22"
      ]
     },
     "execution_count": 12,
     "metadata": {},
     "output_type": "execute_result"
    }
   ],
   "source": [
    "#z score of less than 3.17kg\n",
    "first=(3.17-5)/1.5\n",
    "first\n"
   ]
  },
  {
   "cell_type": "code",
   "execution_count": 13,
   "id": "b7a6be36",
   "metadata": {},
   "outputs": [
    {
     "data": {
      "text/plain": [
       "0.11123243744783456"
      ]
     },
     "execution_count": 13,
     "metadata": {},
     "output_type": "execute_result"
    }
   ],
   "source": [
    "fs=stats.norm.cdf(-1.22)\n",
    "fs"
   ]
  },
  {
   "cell_type": "code",
   "execution_count": 14,
   "id": "d153e0a4",
   "metadata": {},
   "outputs": [
    {
     "data": {
      "image/png": "[encoded data removed]",
      "text/plain": [
       "<Figure size 432x288 with 1 Axes>"
      ]
     },
     "metadata": {
      "needs_background": "light"
     },
     "output_type": "display_data"
    }
   ],
   "source": [
    "fig, ax = plt.subplots()\n",
    "x = np.linspace(-5,10,50)\n",
    "ax.plot(x, norm.pdf(x, loc = 5, scale = 1.5), color = 'b')\n",
    "ax.set_title('Standard Normal Distribution')\n",
    "ax.set_xlabel('Z-scores')\n",
    "ax.set_ylabel('Probability')\n",
    "ax.axvline(fs, ymax = 0.08, linestyle = '--', color = 'green')\n",
    "plt.show()"
   ]
  },
  {
   "cell_type": "markdown",
   "id": "fa6a2bd0",
   "metadata": {},
   "source": [
    "From the above Normal distribution, we can see that the Proportion of the gunny bags have a breaking strength less than 3.17 kg per sq cm = 11.11 %"
   ]
  },
  {
   "cell_type": "markdown",
   "id": "f6f73f39",
   "metadata": {},
   "source": [
    "3.2 What proportion of the gunny bags have a breaking strength at least 3.6 kg per sq cm.?"
   ]
  },
  {
   "cell_type": "code",
   "execution_count": 15,
   "id": "ccfc6436",
   "metadata": {},
   "outputs": [
    {
     "data": {
      "text/plain": [
       "-0.9333333333333332"
      ]
     },
     "execution_count": 15,
     "metadata": {},
     "output_type": "execute_result"
    }
   ],
   "source": [
    "# z score at least 3.6kg\n",
    "second=(3.6-5)/1.5\n",
    "second"
   ]
  },
  {
   "cell_type": "code",
   "execution_count": 16,
   "id": "929c35e2",
   "metadata": {},
   "outputs": [
    {
     "data": {
      "text/plain": [
       "0.8246674524197558"
      ]
     },
     "execution_count": 16,
     "metadata": {},
     "output_type": "execute_result"
    }
   ],
   "source": [
    "ss=1 - stats.norm.cdf(-0.9333)\n",
    "ss"
   ]
  },
  {
   "cell_type": "code",
   "execution_count": 17,
   "id": "c4e76ea5",
   "metadata": {},
   "outputs": [
    {
     "data": {
      "image/png": "[encoded data removed]",
      "text/plain": [
       "<Figure size 432x288 with 1 Axes>"
      ]
     },
     "metadata": {
      "needs_background": "light"
     },
     "output_type": "display_data"
    }
   ],
   "source": [
    "fig, ax = plt.subplots()\n",
    "x = np.linspace(-5,10,50)\n",
    "ax.plot(x, norm.pdf(x, loc = 5, scale = 1.5), color = 'b')\n",
    "ax.set_title('Standard Normal Distribution')\n",
    "ax.set_xlabel('Z-scores')\n",
    "ax.set_ylabel('Probability')\n",
    "ax.axvline(ss, ymax = 0.08, linestyle = '--', color = 'green')\n",
    "plt.show()"
   ]
  },
  {
   "cell_type": "markdown",
   "id": "ab1b4258",
   "metadata": {},
   "source": [
    "From the above Normal distribution, we can see that the proportion of the gunny bags have a breaking strength at least 3.6 kg per sq cm = 82.46 %"
   ]
  },
  {
   "cell_type": "markdown",
   "id": "daa4c19e",
   "metadata": {},
   "source": [
    "3.3 What proportion of the gunny bags have a breaking strength between 5 and 5.5 kg per sq cm.?"
   ]
  },
  {
   "cell_type": "code",
   "execution_count": 18,
   "id": "edd48aa0",
   "metadata": {},
   "outputs": [
    {
     "data": {
      "text/plain": [
       "0.0"
      ]
     },
     "execution_count": 18,
     "metadata": {},
     "output_type": "execute_result"
    }
   ],
   "source": [
    "#Z score between 5 & 5.5 kg\n",
    "t1=(5-5)/1.5\n",
    "t1"
   ]
  },
  {
   "cell_type": "code",
   "execution_count": 19,
   "id": "ed4dc9fa",
   "metadata": {},
   "outputs": [
    {
     "data": {
      "text/plain": [
       "0.3333333333333333"
      ]
     },
     "execution_count": 19,
     "metadata": {},
     "output_type": "execute_result"
    }
   ],
   "source": [
    "t2=(5.5-5)/1.5\n",
    "t2"
   ]
  },
  {
   "cell_type": "code",
   "execution_count": 20,
   "id": "87b79c2f",
   "metadata": {},
   "outputs": [
    {
     "data": {
      "text/plain": [
       "0.13055865981823633"
      ]
     },
     "execution_count": 20,
     "metadata": {},
     "output_type": "execute_result"
    }
   ],
   "source": [
    "t3=stats.norm.cdf(t2)-stats.norm.cdf(t1)\n",
    "t3"
   ]
  },
  {
   "cell_type": "code",
   "execution_count": 21,
   "id": "2edd98f1",
   "metadata": {},
   "outputs": [
    {
     "data": {
      "image/png": "[encoded data removed]",
      "text/plain": [
       "<Figure size 432x288 with 1 Axes>"
      ]
     },
     "metadata": {
      "needs_background": "light"
     },
     "output_type": "display_data"
    }
   ],
   "source": [
    "fig, ax = plt.subplots()\n",
    "x = np.linspace(-5,10,50)\n",
    "ax.plot(x, norm.pdf(x, loc = 5, scale = 1.5), color = 'b')\n",
    "ax.set_title('Standard Normal Distribution')\n",
    "ax.set_xlabel('Z-scores')\n",
    "ax.set_ylabel('Probability')\n",
    "ax.axvline(t3, ymax = 0.08, linestyle = '--', color = 'green')\n",
    "plt.show()"
   ]
  },
  {
   "cell_type": "markdown",
   "id": "e66a389f",
   "metadata": {},
   "source": [
    "From the above Normal distribution, we can see that the proportion of the gunny bags have a breaking strength between 5 and 5.5 kg per sq cm = 13.05 %"
   ]
  },
  {
   "cell_type": "markdown",
   "id": "324553db",
   "metadata": {},
   "source": [
    "3.4 What proportion of the gunny bags have a breaking strength NOT between 3 and 7.5 kg per sq cm.?"
   ]
  },
  {
   "cell_type": "code",
   "execution_count": 23,
   "id": "f57de68d",
   "metadata": {},
   "outputs": [
    {
     "data": {
      "text/plain": [
       "-1.3333333333333333"
      ]
     },
     "execution_count": 23,
     "metadata": {},
     "output_type": "execute_result"
    }
   ],
   "source": [
    "#Z score not between the range 3 & 7.5 kgs\n",
    "f1=(3-5)/1.5\n",
    "f1"
   ]
  },
  {
   "cell_type": "code",
   "execution_count": 24,
   "id": "75ab5f03",
   "metadata": {},
   "outputs": [
    {
     "data": {
      "text/plain": [
       "1.6666666666666667"
      ]
     },
     "execution_count": 24,
     "metadata": {},
     "output_type": "execute_result"
    }
   ],
   "source": [
    "f2=(7.5-5)/1.5\n",
    "f2"
   ]
  },
  {
   "cell_type": "code",
   "execution_count": 25,
   "id": "d4896627",
   "metadata": {},
   "outputs": [
    {
     "data": {
      "text/plain": [
       "0.8609984280013174"
      ]
     },
     "execution_count": 25,
     "metadata": {},
     "output_type": "execute_result"
    }
   ],
   "source": [
    "f3=stats.norm.cdf(f2)-stats.norm.cdf(f1)\n",
    "f3"
   ]
  },
  {
   "cell_type": "code",
   "execution_count": 26,
   "id": "2ef9c679",
   "metadata": {},
   "outputs": [
    {
     "data": {
      "image/png": "[encoded data removed]",
      "text/plain": [
       "<Figure size 432x288 with 1 Axes>"
      ]
     },
     "metadata": {
      "needs_background": "light"
     },
     "output_type": "display_data"
    }
   ],
   "source": [
    "fig, ax = plt.subplots()\n",
    "x = np.linspace(-5,10,50)\n",
    "ax.plot(x, norm.pdf(x, loc = 5, scale = 1.5), color = 'b')\n",
    "ax.set_title('Standard Normal Distribution')\n",
    "ax.set_xlabel('Z-scores')\n",
    "ax.set_ylabel('Probability')\n",
    "ax.axvline(f3, ymax = 0.08, linestyle = '--', color = 'green')\n",
    "plt.show()"
   ]
  },
  {
   "cell_type": "markdown",
   "id": "3f4322df",
   "metadata": {},
   "source": [
    "From the above Normal distribution, we can see that the Proportion of the gunny bags breaking strength between 3 and 7.5 kg per sq cm = 86.09%\n",
    " So, the remaining proportion of the gunny bags must be breaking strength NOT between 3 and 7.5 kg per sq cm = 13.91 %\n"
   ]
  },
  {
   "cell_type": "markdown",
   "id": "60524ebc",
   "metadata": {},
   "source": [
    "4.Grades of the final examination in a training course are found to be normally distributed, with a mean of 77 and a standard deviation of 8.5. Based on the given information answer the questions below."
   ]
  },
  {
   "cell_type": "markdown",
   "id": "8580ac6a",
   "metadata": {},
   "source": [
    "4.1 What is the probability that a randomly chosen student gets a grade below 85 on this exam?"
   ]
  },
  {
   "cell_type": "code",
   "execution_count": 27,
   "id": "c37bad14",
   "metadata": {},
   "outputs": [],
   "source": [
    "import scipy.stats as stats\n",
    "from scipy.stats import norm"
   ]
  },
  {
   "cell_type": "code",
   "execution_count": 28,
   "id": "3422927c",
   "metadata": {},
   "outputs": [],
   "source": [
    "z=(85-77)/8.5"
   ]
  },
  {
   "cell_type": "code",
   "execution_count": 29,
   "id": "cacbf074",
   "metadata": {},
   "outputs": [
    {
     "data": {
      "text/plain": [
       "0.9411764705882353"
      ]
     },
     "execution_count": 29,
     "metadata": {},
     "output_type": "execute_result"
    }
   ],
   "source": [
    "z"
   ]
  },
  {
   "cell_type": "code",
   "execution_count": 30,
   "id": "906cc2d2",
   "metadata": {},
   "outputs": [
    {
     "data": {
      "text/plain": [
       "0.8263912196613754"
      ]
     },
     "execution_count": 30,
     "metadata": {},
     "output_type": "execute_result"
    }
   ],
   "source": [
    "stats.norm.cdf(0.94)"
   ]
  },
  {
   "cell_type": "markdown",
   "id": "1f69ce2d",
   "metadata": {},
   "source": [
    "The probability that a randomly chosen student gets a grade below 85 on this exam = 82.63 %"
   ]
  },
  {
   "cell_type": "markdown",
   "id": "f0291374",
   "metadata": {},
   "source": [
    "4.2 What is the probability that a randomly selected student scores between 65 and 87?"
   ]
  },
  {
   "cell_type": "code",
   "execution_count": 32,
   "id": "fd820f9f",
   "metadata": {},
   "outputs": [],
   "source": [
    " z1 =(65-77)/8.5 "
   ]
  },
  {
   "cell_type": "code",
   "execution_count": 33,
   "id": "15a2c6a4",
   "metadata": {},
   "outputs": [
    {
     "data": {
      "text/plain": [
       "-1.411764705882353"
      ]
     },
     "execution_count": 33,
     "metadata": {},
     "output_type": "execute_result"
    }
   ],
   "source": [
    "z1"
   ]
  },
  {
   "cell_type": "code",
   "execution_count": 34,
   "id": "7cab6723",
   "metadata": {},
   "outputs": [],
   "source": [
    " z2=(87-77)/8.5"
   ]
  },
  {
   "cell_type": "code",
   "execution_count": 35,
   "id": "939f6395",
   "metadata": {},
   "outputs": [
    {
     "data": {
      "text/plain": [
       "1.1764705882352942"
      ]
     },
     "execution_count": 35,
     "metadata": {},
     "output_type": "execute_result"
    }
   ],
   "source": [
    "z2"
   ]
  },
  {
   "cell_type": "code",
   "execution_count": 36,
   "id": "1cc626ef",
   "metadata": {},
   "outputs": [
    {
     "data": {
      "text/plain": [
       "0.8012869336779058"
      ]
     },
     "execution_count": 36,
     "metadata": {},
     "output_type": "execute_result"
    }
   ],
   "source": [
    " stats.norm.cdf(z2)-stats.norm.cdf(z1)"
   ]
  },
  {
   "cell_type": "markdown",
   "id": "ac644864",
   "metadata": {},
   "source": [
    "The probability that a randomly selected student score between 65 and 87 = 80.12%"
   ]
  },
  {
   "cell_type": "markdown",
   "id": "fd918342",
   "metadata": {},
   "source": [
    "4.3 What should be the passing cut-off so that 75% of the students clear the exam?"
   ]
  },
  {
   "cell_type": "code",
   "execution_count": 39,
   "id": "88364891",
   "metadata": {},
   "outputs": [
    {
     "name": "stdout",
     "output_type": "stream",
     "text": [
      "The marks for passing cut-off should be so that 75% of the students clear the exams is 83\n"
     ]
    }
   ],
   "source": [
    "cutoff = norm.ppf(0.75, 77, 8.5)\n",
    "print(\"The marks for passing cut-off should be so that 75% of the students clear the exams is\", round(cutoff))"
   ]
  },
  {
   "cell_type": "markdown",
   "id": "d76e7430",
   "metadata": {},
   "source": [
    "5.Zingaro stone printing is a company that specializes in printing images or patterns on polished or unpolished stones. However, for the optimum level of printing of the image the stone surface has to have a Brinell's hardness index of at least 150. Recently, Zingaro has received a batch of polished and unpolished stones from its clients. Use the data provided to answer the following (assuming a 5% significance level);"
   ]
  },
  {
   "cell_type": "markdown",
   "id": "9c4c75e7",
   "metadata": {},
   "source": [
    "5.1 Earlier experience of Zingaro with this particular client is favorable as the stone surface was found to be of adequate hardness. However, Zingaro has reason to believe now that the unpolished stones may not be suitable for printing. Do you think Zingaro is justified in thinking so?"
   ]
  },
  {
   "cell_type": "code",
   "execution_count": 40,
   "id": "7193fbb5",
   "metadata": {},
   "outputs": [],
   "source": [
    "import numpy as np\n",
    "import pandas as pd\n",
    "import math\n",
    "from scipy import stats\n",
    "from scipy.stats import   ttest_1samp"
   ]
  },
  {
   "cell_type": "code",
   "execution_count": 41,
   "id": "0a70ae60",
   "metadata": {},
   "outputs": [
    {
     "data": {
      "text/html": [
       "<div>\n",
       "<style scoped>\n",
       "    .dataframe tbody tr th:only-of-type {\n",
       "        vertical-align: middle;\n",
       "    }\n",
       "\n",
       "    .dataframe tbody tr th {\n",
       "        vertical-align: top;\n",
       "    }\n",
       "\n",
       "    .dataframe thead th {\n",
       "        text-align: right;\n",
       "    }\n",
       "</style>\n",
       "<table border=\"1\" class=\"dataframe\">\n",
       "  <thead>\n",
       "    <tr style=\"text-align: right;\">\n",
       "      <th></th>\n",
       "      <th>Unpolished</th>\n",
       "      <th>Treated and Polished</th>\n",
       "    </tr>\n",
       "  </thead>\n",
       "  <tbody>\n",
       "    <tr>\n",
       "      <th>0</th>\n",
       "      <td>164.481713</td>\n",
       "      <td>133.209393</td>\n",
       "    </tr>\n",
       "    <tr>\n",
       "      <th>1</th>\n",
       "      <td>154.307045</td>\n",
       "      <td>138.482771</td>\n",
       "    </tr>\n",
       "    <tr>\n",
       "      <th>2</th>\n",
       "      <td>129.861048</td>\n",
       "      <td>159.665201</td>\n",
       "    </tr>\n",
       "    <tr>\n",
       "      <th>3</th>\n",
       "      <td>159.096184</td>\n",
       "      <td>145.663528</td>\n",
       "    </tr>\n",
       "    <tr>\n",
       "      <th>4</th>\n",
       "      <td>135.256748</td>\n",
       "      <td>136.789227</td>\n",
       "    </tr>\n",
       "  </tbody>\n",
       "</table>\n",
       "</div>"
      ],
      "text/plain": [
       "   Unpolished   Treated and Polished\n",
       "0   164.481713            133.209393\n",
       "1   154.307045            138.482771\n",
       "2   129.861048            159.665201\n",
       "3   159.096184            145.663528\n",
       "4   135.256748            136.789227"
      ]
     },
     "execution_count": 41,
     "metadata": {},
     "output_type": "execute_result"
    }
   ],
   "source": [
    "mydata = pd.read_csv('Zingaro_Company.csv')\n",
    "mydata.head()"
   ]
  },
  {
   "cell_type": "markdown",
   "id": "aeba95dc",
   "metadata": {},
   "source": [
    "#Condition for null and alternative hypothesis\n",
    "Ho (mu = 150)Unpolished Stone Suitable\n",
    "H1 (mu not equal 150)Unpolished stone not suitable"
   ]
  },
  {
   "cell_type": "markdown",
   "id": "91488e5b",
   "metadata": {},
   "source": [
    "alpha = 0.05"
   ]
  },
  {
   "cell_type": "code",
   "execution_count": 43,
   "id": "464c438c",
   "metadata": {},
   "outputs": [
    {
     "name": "stdout",
     "output_type": "stream",
     "text": [
      "The sample size for this problem is 75\n"
     ]
    }
   ],
   "source": [
    "print(\"The sample size for this problem is\",len(mydata))"
   ]
  },
  {
   "cell_type": "code",
   "execution_count": 44,
   "id": "221794c4",
   "metadata": {},
   "outputs": [
    {
     "name": "stdout",
     "output_type": "stream",
     "text": [
      "One sample t test \n",
      "t statistic: -4.164629601426758 p value: 8.342573994839285e-05 \n"
     ]
    }
   ],
   "source": [
    "# one sample t-test\n",
    "# null hypothesis: expected value = 150\n",
    "t_statistic, p_value = ttest_1samp(mydata, 150)\n",
    "print('One sample t test \\nt statistic: {0} p value: {1} '.format(t_statistic[0], p_value[0]))"
   ]
  },
  {
   "cell_type": "code",
   "execution_count": 45,
   "id": "7243bc3d",
   "metadata": {},
   "outputs": [
    {
     "name": "stdout",
     "output_type": "stream",
     "text": [
      "Level of significance: 0.05\n",
      "We have evidence to reject the null hypothesis since p value < Level of significance\n",
      "Our one-sample t-test p-value= 8.342573994839285e-05\n"
     ]
    }
   ],
   "source": [
    "\n",
    "# p_value < 0.05 => alternative hypothesis:\n",
    "\n",
    "alpha_value = 0.05 # Level of significance\n",
    "print('Level of significance: %.2f' %alpha_value)\n",
    "if p_value[0] < alpha_value: \n",
    "    print('We have evidence to reject the null hypothesis since p value < Level of significance')\n",
    "else:\n",
    "    print('We have no evidence to reject the null hypothesis since p value > Level of significance') \n",
    "\n",
    "print (\"Our one-sample t-test p-value=\", p_value[0])"
   ]
  },
  {
   "cell_type": "markdown",
   "id": "317cbaa5",
   "metadata": {},
   "source": [
    "From the T test We can conclude that the probability value is lesser than the significant value. So, with this evidence to reject the null hypothesis.\n",
    "So, we can conclude that Zingaro reason to believe is correct and justified.\n"
   ]
  },
  {
   "cell_type": "markdown",
   "id": "a5c0eaf4",
   "metadata": {},
   "source": [
    "5.2 Is the mean hardness of the polished and unpolished stones the same?"
   ]
  },
  {
   "cell_type": "markdown",
   "id": "fb773be3",
   "metadata": {},
   "source": [
    "The Mean Hardness of the Polished Stone = 147.78\n",
    "The Mean Hardness of the Unpolished Stone = 134.11\n",
    "It does not have the same mean hardness between polished and unpolished stones\n"
   ]
  },
  {
   "cell_type": "markdown",
   "id": "b6e90f4b",
   "metadata": {},
   "source": [
    "6.Aquarius health club, one of the largest and most popular cross-fit gyms in the country has been advertising a rigorous program for body conditioning. The program is considered successful if the candidate is able to do more than 5 push-ups, as compared to when he/she enrolled in the program. Using the sample data provided can you conclude whether the program is successful? (Consider the level of Significance as 5%)\n",
    "\n",
    "Note that this is a problem of the paired-t-test. Since the claim is that the training will make a difference of more than 5, the null and alternative hypotheses must be formed accordingly."
   ]
  },
  {
   "cell_type": "code",
   "execution_count": 46,
   "id": "488061db",
   "metadata": {},
   "outputs": [
    {
     "data": {
      "text/html": [
       "<div>\n",
       "<style scoped>\n",
       "    .dataframe tbody tr th:only-of-type {\n",
       "        vertical-align: middle;\n",
       "    }\n",
       "\n",
       "    .dataframe tbody tr th {\n",
       "        vertical-align: top;\n",
       "    }\n",
       "\n",
       "    .dataframe thead th {\n",
       "        text-align: right;\n",
       "    }\n",
       "</style>\n",
       "<table border=\"1\" class=\"dataframe\">\n",
       "  <thead>\n",
       "    <tr style=\"text-align: right;\">\n",
       "      <th></th>\n",
       "      <th>Sr no.</th>\n",
       "      <th>Before</th>\n",
       "      <th>After</th>\n",
       "    </tr>\n",
       "  </thead>\n",
       "  <tbody>\n",
       "    <tr>\n",
       "      <th>0</th>\n",
       "      <td>1</td>\n",
       "      <td>39</td>\n",
       "      <td>44</td>\n",
       "    </tr>\n",
       "    <tr>\n",
       "      <th>1</th>\n",
       "      <td>2</td>\n",
       "      <td>25</td>\n",
       "      <td>25</td>\n",
       "    </tr>\n",
       "    <tr>\n",
       "      <th>2</th>\n",
       "      <td>3</td>\n",
       "      <td>39</td>\n",
       "      <td>39</td>\n",
       "    </tr>\n",
       "    <tr>\n",
       "      <th>3</th>\n",
       "      <td>4</td>\n",
       "      <td>6</td>\n",
       "      <td>13</td>\n",
       "    </tr>\n",
       "    <tr>\n",
       "      <th>4</th>\n",
       "      <td>5</td>\n",
       "      <td>40</td>\n",
       "      <td>44</td>\n",
       "    </tr>\n",
       "  </tbody>\n",
       "</table>\n",
       "</div>"
      ],
      "text/plain": [
       "   Sr no.  Before  After\n",
       "0       1      39     44\n",
       "1       2      25     25\n",
       "2       3      39     39\n",
       "3       4       6     13\n",
       "4       5      40     44"
      ]
     },
     "execution_count": 46,
     "metadata": {},
     "output_type": "execute_result"
    }
   ],
   "source": [
    "mydata = pd.read_csv('Aquarius_gym.csv')\n",
    "mydata.head()"
   ]
  },
  {
   "cell_type": "markdown",
   "id": "d2d68daa",
   "metadata": {},
   "source": [
    "HO: Mu <= 5 pushups after program\n",
    "H1: Mu > 5 Pushups after program"
   ]
  },
  {
   "cell_type": "code",
   "execution_count": 47,
   "id": "5b018b8e",
   "metadata": {},
   "outputs": [
    {
     "name": "stdout",
     "output_type": "stream",
     "text": [
      "tstat  -19.323\n",
      "p-value for one-tail: 1.1460209626255983e-35\n"
     ]
    }
   ],
   "source": [
    "t_statistic, p_value  =  stats.ttest_rel(mydata['Before'],mydata['After'])\n",
    "print('tstat  %1.3f' % t_statistic)    \n",
    "print(\"p-value for one-tail:\", p_value/2)"
   ]
  },
  {
   "cell_type": "code",
   "execution_count": 48,
   "id": "986c07c2",
   "metadata": {},
   "outputs": [
    {
     "name": "stdout",
     "output_type": "stream",
     "text": [
      "Paired two-sample t-test p-value= 1.1460209626255983e-35\n",
      "We have enough evidence to reject the null hypothesis in favour of alternative hypothesis\n"
     ]
    }
   ],
   "source": [
    "# p_value < 0.05 => alternative hypothesis:\n",
    "# they don't have the same mean at the 5% significance level\n",
    "print (\"Paired two-sample t-test p-value=\", p_value/2)\n",
    "\n",
    "alpha_level = 0.05\n",
    "\n",
    "if (p_value/2) < alpha_level:\n",
    "    print('We have enough evidence to reject the null hypothesis in favour of alternative hypothesis')\n",
    "    \n",
    "else:\n",
    "    print('We do not have enough evidence to reject the null hypothesis in favour of alternative hypothesis')"
   ]
  },
  {
   "cell_type": "markdown",
   "id": "b12dae4f",
   "metadata": {},
   "source": [
    "From the T test We have enough evidence to reject the null hypothesis in favor of alternative hypothesis\n",
    "So, The Program conducted by Aquarius health club is a success. \n"
   ]
  },
  {
   "cell_type": "markdown",
   "id": "daa709fc",
   "metadata": {},
   "source": [
    "7.Dental implant data: The hardness of metal implant in dental cavities depends on multiple factors, such as the method of implant, the temperature at which the metal is treated, the alloy used as well as on the dentists who may favour one method above another and may work better in his/her favourite method. The response is the variable of interest."
   ]
  },
  {
   "cell_type": "markdown",
   "id": "def6fa38",
   "metadata": {},
   "source": [
    "1.Test whether there is any difference among the dentists on the implant hardness. State the null and alternative hypotheses. Note that both types of alloys cannot be considered together. You must state the null and alternative hypotheses separately for the two types of alloys.?\n",
    "\n",
    "2.Before the hypotheses may be tested, state the required assumptions. Are the assumptions fulfilled? Comment separately on both alloy types.? \n",
    "\n",
    "3.Irrespective of your conclusion in 2, we will continue with the testing procedure. What do you conclude regarding whether implant hardness depends on dentists? Clearly state your conclusion. If the null hypothesis is rejected, is it possible to identify which pairs of dentists differ?\n",
    "\n",
    "4.Now test whether there is any difference among the methods on the hardness of dental implant, separately for the two types of alloys. What are your conclusions? If the null hypothesis is rejected, is it possible to identify which pairs of methods differ?\n",
    "\n",
    "5.Now test whether there is any difference among the temperature levels on the hardness of dental implant, separately for the two types of alloys. What are your conclusions? If the null hypothesis is rejected, is it possible to identify which levels of temperatures differ?\n",
    "\n",
    "6.Consider the interaction effect of dentist and method and comment on the interaction plot, separately for the two types of alloys?\n",
    "\n",
    "7.Now consider the effect of both factors, dentist, and method, separately on each alloy. What do you conclude? Is it possible to identify which dentists are different, which methods are different, and which interaction levels are different?"
   ]
  },
  {
   "cell_type": "code",
   "execution_count": 49,
   "id": "1373e9ec",
   "metadata": {},
   "outputs": [],
   "source": [
    "import numpy as np\n",
    "import pandas as pd\n",
    "import seaborn as sns\n",
    "from statsmodels.formula.api import ols      # For n-way ANOVA\n",
    "from statsmodels.stats.anova import _get_covariance,anova_lm # For n-way ANOVA\n",
    "%matplotlib inline"
   ]
  },
  {
   "cell_type": "code",
   "execution_count": 50,
   "id": "7f1f0aae",
   "metadata": {},
   "outputs": [],
   "source": [
    "DF = pd.read_excel('Dental Hardness data.xlsx')"
   ]
  },
  {
   "cell_type": "code",
   "execution_count": 51,
   "id": "a2aa99f5",
   "metadata": {},
   "outputs": [
    {
     "data": {
      "text/html": [
       "<div>\n",
       "<style scoped>\n",
       "    .dataframe tbody tr th:only-of-type {\n",
       "        vertical-align: middle;\n",
       "    }\n",
       "\n",
       "    .dataframe tbody tr th {\n",
       "        vertical-align: top;\n",
       "    }\n",
       "\n",
       "    .dataframe thead th {\n",
       "        text-align: right;\n",
       "    }\n",
       "</style>\n",
       "<table border=\"1\" class=\"dataframe\">\n",
       "  <thead>\n",
       "    <tr style=\"text-align: right;\">\n",
       "      <th></th>\n",
       "      <th>Dentist</th>\n",
       "      <th>Method</th>\n",
       "      <th>Alloy</th>\n",
       "      <th>Temp</th>\n",
       "      <th>Response</th>\n",
       "      <th>Unnamed: 5</th>\n",
       "      <th>Unnamed: 6</th>\n",
       "      <th>Unnamed: 7</th>\n",
       "      <th>Unnamed: 8</th>\n",
       "      <th>Unnamed: 9</th>\n",
       "      <th>Unnamed: 10</th>\n",
       "      <th>Unnamed: 11</th>\n",
       "      <th>Unnamed: 12</th>\n",
       "      <th>Unnamed: 13</th>\n",
       "      <th>Unnamed: 14</th>\n",
       "      <th>Unnamed: 15</th>\n",
       "      <th>Unnamed: 16</th>\n",
       "    </tr>\n",
       "  </thead>\n",
       "  <tbody>\n",
       "    <tr>\n",
       "      <th>0</th>\n",
       "      <td>1.0</td>\n",
       "      <td>1.0</td>\n",
       "      <td>1.0</td>\n",
       "      <td>1500.0</td>\n",
       "      <td>813.0</td>\n",
       "      <td>NaN</td>\n",
       "      <td>NaN</td>\n",
       "      <td>Anova: Two-Factor Without Replication</td>\n",
       "      <td>NaN</td>\n",
       "      <td>NaN</td>\n",
       "      <td>NaN</td>\n",
       "      <td>NaN</td>\n",
       "      <td>NaN</td>\n",
       "      <td>NaN</td>\n",
       "      <td>NaN</td>\n",
       "      <td>NaN</td>\n",
       "      <td>NaN</td>\n",
       "    </tr>\n",
       "    <tr>\n",
       "      <th>1</th>\n",
       "      <td>1.0</td>\n",
       "      <td>1.0</td>\n",
       "      <td>1.0</td>\n",
       "      <td>1600.0</td>\n",
       "      <td>792.0</td>\n",
       "      <td>NaN</td>\n",
       "      <td>NaN</td>\n",
       "      <td>NaN</td>\n",
       "      <td>NaN</td>\n",
       "      <td>NaN</td>\n",
       "      <td>NaN</td>\n",
       "      <td>NaN</td>\n",
       "      <td>NaN</td>\n",
       "      <td>NaN</td>\n",
       "      <td>NaN</td>\n",
       "      <td>NaN</td>\n",
       "      <td>NaN</td>\n",
       "    </tr>\n",
       "    <tr>\n",
       "      <th>2</th>\n",
       "      <td>1.0</td>\n",
       "      <td>1.0</td>\n",
       "      <td>1.0</td>\n",
       "      <td>1700.0</td>\n",
       "      <td>792.0</td>\n",
       "      <td>NaN</td>\n",
       "      <td>NaN</td>\n",
       "      <td>SUMMARY</td>\n",
       "      <td>Count</td>\n",
       "      <td>Sum</td>\n",
       "      <td>Average</td>\n",
       "      <td>Variance</td>\n",
       "      <td>NaN</td>\n",
       "      <td>NaN</td>\n",
       "      <td>NaN</td>\n",
       "      <td>NaN</td>\n",
       "      <td>NaN</td>\n",
       "    </tr>\n",
       "    <tr>\n",
       "      <th>3</th>\n",
       "      <td>1.0</td>\n",
       "      <td>1.0</td>\n",
       "      <td>2.0</td>\n",
       "      <td>1500.0</td>\n",
       "      <td>907.0</td>\n",
       "      <td>NaN</td>\n",
       "      <td>NaN</td>\n",
       "      <td>1</td>\n",
       "      <td>4</td>\n",
       "      <td>2315</td>\n",
       "      <td>578.75</td>\n",
       "      <td>523721.583333</td>\n",
       "      <td>NaN</td>\n",
       "      <td>NaN</td>\n",
       "      <td>NaN</td>\n",
       "      <td>NaN</td>\n",
       "      <td>NaN</td>\n",
       "    </tr>\n",
       "    <tr>\n",
       "      <th>4</th>\n",
       "      <td>1.0</td>\n",
       "      <td>1.0</td>\n",
       "      <td>2.0</td>\n",
       "      <td>1600.0</td>\n",
       "      <td>792.0</td>\n",
       "      <td>NaN</td>\n",
       "      <td>NaN</td>\n",
       "      <td>1</td>\n",
       "      <td>4</td>\n",
       "      <td>2394</td>\n",
       "      <td>598.5</td>\n",
       "      <td>584819</td>\n",
       "      <td>NaN</td>\n",
       "      <td>NaN</td>\n",
       "      <td>NaN</td>\n",
       "      <td>NaN</td>\n",
       "      <td>NaN</td>\n",
       "    </tr>\n",
       "  </tbody>\n",
       "</table>\n",
       "</div>"
      ],
      "text/plain": [
       "   Dentist  Method  Alloy    Temp  Response  Unnamed: 5  Unnamed: 6  \\\n",
       "0      1.0     1.0    1.0  1500.0     813.0         NaN         NaN   \n",
       "1      1.0     1.0    1.0  1600.0     792.0         NaN         NaN   \n",
       "2      1.0     1.0    1.0  1700.0     792.0         NaN         NaN   \n",
       "3      1.0     1.0    2.0  1500.0     907.0         NaN         NaN   \n",
       "4      1.0     1.0    2.0  1600.0     792.0         NaN         NaN   \n",
       "\n",
       "                              Unnamed: 7 Unnamed: 8 Unnamed: 9 Unnamed: 10  \\\n",
       "0  Anova: Two-Factor Without Replication        NaN        NaN         NaN   \n",
       "1                                    NaN        NaN        NaN         NaN   \n",
       "2                                SUMMARY      Count        Sum     Average   \n",
       "3                                      1          4       2315      578.75   \n",
       "4                                      1          4       2394       598.5   \n",
       "\n",
       "     Unnamed: 11 Unnamed: 12 Unnamed: 13  Unnamed: 14  Unnamed: 15  \\\n",
       "0            NaN         NaN         NaN          NaN          NaN   \n",
       "1            NaN         NaN         NaN          NaN          NaN   \n",
       "2       Variance         NaN         NaN          NaN          NaN   \n",
       "3  523721.583333         NaN         NaN          NaN          NaN   \n",
       "4         584819         NaN         NaN          NaN          NaN   \n",
       "\n",
       "   Unnamed: 16  \n",
       "0          NaN  \n",
       "1          NaN  \n",
       "2          NaN  \n",
       "3          NaN  \n",
       "4          NaN  "
      ]
     },
     "execution_count": 51,
     "metadata": {},
     "output_type": "execute_result"
    }
   ],
   "source": [
    "DF.head()"
   ]
  },
  {
   "cell_type": "code",
   "execution_count": 52,
   "id": "f32ad503",
   "metadata": {},
   "outputs": [
    {
     "data": {
      "text/html": [
       "<div>\n",
       "<style scoped>\n",
       "    .dataframe tbody tr th:only-of-type {\n",
       "        vertical-align: middle;\n",
       "    }\n",
       "\n",
       "    .dataframe tbody tr th {\n",
       "        vertical-align: top;\n",
       "    }\n",
       "\n",
       "    .dataframe thead th {\n",
       "        text-align: right;\n",
       "    }\n",
       "</style>\n",
       "<table border=\"1\" class=\"dataframe\">\n",
       "  <thead>\n",
       "    <tr style=\"text-align: right;\">\n",
       "      <th></th>\n",
       "      <th>Dentist</th>\n",
       "      <th>Method</th>\n",
       "      <th>Alloy</th>\n",
       "      <th>Temp</th>\n",
       "      <th>Response</th>\n",
       "      <th>Unnamed: 5</th>\n",
       "      <th>Unnamed: 6</th>\n",
       "      <th>Unnamed: 14</th>\n",
       "      <th>Unnamed: 15</th>\n",
       "      <th>Unnamed: 16</th>\n",
       "    </tr>\n",
       "  </thead>\n",
       "  <tbody>\n",
       "    <tr>\n",
       "      <th>count</th>\n",
       "      <td>90.000000</td>\n",
       "      <td>90.000000</td>\n",
       "      <td>90.000000</td>\n",
       "      <td>90.000000</td>\n",
       "      <td>90.000000</td>\n",
       "      <td>0.0</td>\n",
       "      <td>0.0</td>\n",
       "      <td>0.0</td>\n",
       "      <td>4.000000</td>\n",
       "      <td>1.000000</td>\n",
       "    </tr>\n",
       "    <tr>\n",
       "      <th>mean</th>\n",
       "      <td>3.000000</td>\n",
       "      <td>2.000000</td>\n",
       "      <td>1.500000</td>\n",
       "      <td>1600.000000</td>\n",
       "      <td>741.777778</td>\n",
       "      <td>NaN</td>\n",
       "      <td>NaN</td>\n",
       "      <td>NaN</td>\n",
       "      <td>60442.760612</td>\n",
       "      <td>241771.042447</td>\n",
       "    </tr>\n",
       "    <tr>\n",
       "      <th>std</th>\n",
       "      <td>1.422136</td>\n",
       "      <td>0.821071</td>\n",
       "      <td>0.502801</td>\n",
       "      <td>82.107083</td>\n",
       "      <td>145.767845</td>\n",
       "      <td>NaN</td>\n",
       "      <td>NaN</td>\n",
       "      <td>NaN</td>\n",
       "      <td>74195.134895</td>\n",
       "      <td>NaN</td>\n",
       "    </tr>\n",
       "    <tr>\n",
       "      <th>min</th>\n",
       "      <td>1.000000</td>\n",
       "      <td>1.000000</td>\n",
       "      <td>1.000000</td>\n",
       "      <td>1500.000000</td>\n",
       "      <td>289.000000</td>\n",
       "      <td>NaN</td>\n",
       "      <td>NaN</td>\n",
       "      <td>NaN</td>\n",
       "      <td>226.752809</td>\n",
       "      <td>241771.042447</td>\n",
       "    </tr>\n",
       "    <tr>\n",
       "      <th>25%</th>\n",
       "      <td>2.000000</td>\n",
       "      <td>1.000000</td>\n",
       "      <td>1.000000</td>\n",
       "      <td>1500.000000</td>\n",
       "      <td>698.000000</td>\n",
       "      <td>NaN</td>\n",
       "      <td>NaN</td>\n",
       "      <td>NaN</td>\n",
       "      <td>261.193820</td>\n",
       "      <td>241771.042447</td>\n",
       "    </tr>\n",
       "    <tr>\n",
       "      <th>50%</th>\n",
       "      <td>3.000000</td>\n",
       "      <td>2.000000</td>\n",
       "      <td>1.500000</td>\n",
       "      <td>1600.000000</td>\n",
       "      <td>767.000000</td>\n",
       "      <td>NaN</td>\n",
       "      <td>NaN</td>\n",
       "      <td>NaN</td>\n",
       "      <td>44556.358302</td>\n",
       "      <td>241771.042447</td>\n",
       "    </tr>\n",
       "    <tr>\n",
       "      <th>75%</th>\n",
       "      <td>4.000000</td>\n",
       "      <td>3.000000</td>\n",
       "      <td>2.000000</td>\n",
       "      <td>1700.000000</td>\n",
       "      <td>824.000000</td>\n",
       "      <td>NaN</td>\n",
       "      <td>NaN</td>\n",
       "      <td>NaN</td>\n",
       "      <td>104737.925094</td>\n",
       "      <td>241771.042447</td>\n",
       "    </tr>\n",
       "    <tr>\n",
       "      <th>max</th>\n",
       "      <td>5.000000</td>\n",
       "      <td>3.000000</td>\n",
       "      <td>2.000000</td>\n",
       "      <td>1700.000000</td>\n",
       "      <td>1115.000000</td>\n",
       "      <td>NaN</td>\n",
       "      <td>NaN</td>\n",
       "      <td>NaN</td>\n",
       "      <td>152431.573034</td>\n",
       "      <td>241771.042447</td>\n",
       "    </tr>\n",
       "  </tbody>\n",
       "</table>\n",
       "</div>"
      ],
      "text/plain": [
       "         Dentist     Method      Alloy         Temp     Response  Unnamed: 5  \\\n",
       "count  90.000000  90.000000  90.000000    90.000000    90.000000         0.0   \n",
       "mean    3.000000   2.000000   1.500000  1600.000000   741.777778         NaN   \n",
       "std     1.422136   0.821071   0.502801    82.107083   145.767845         NaN   \n",
       "min     1.000000   1.000000   1.000000  1500.000000   289.000000         NaN   \n",
       "25%     2.000000   1.000000   1.000000  1500.000000   698.000000         NaN   \n",
       "50%     3.000000   2.000000   1.500000  1600.000000   767.000000         NaN   \n",
       "75%     4.000000   3.000000   2.000000  1700.000000   824.000000         NaN   \n",
       "max     5.000000   3.000000   2.000000  1700.000000  1115.000000         NaN   \n",
       "\n",
       "       Unnamed: 6  Unnamed: 14    Unnamed: 15    Unnamed: 16  \n",
       "count         0.0          0.0       4.000000       1.000000  \n",
       "mean          NaN          NaN   60442.760612  241771.042447  \n",
       "std           NaN          NaN   74195.134895            NaN  \n",
       "min           NaN          NaN     226.752809  241771.042447  \n",
       "25%           NaN          NaN     261.193820  241771.042447  \n",
       "50%           NaN          NaN   44556.358302  241771.042447  \n",
       "75%           NaN          NaN  104737.925094  241771.042447  \n",
       "max           NaN          NaN  152431.573034  241771.042447  "
      ]
     },
     "execution_count": 52,
     "metadata": {},
     "output_type": "execute_result"
    }
   ],
   "source": [
    "DF.describe()"
   ]
  },
  {
   "cell_type": "code",
   "execution_count": 53,
   "id": "fd702cf1",
   "metadata": {},
   "outputs": [
    {
     "name": "stdout",
     "output_type": "stream",
     "text": [
      "<class 'pandas.core.frame.DataFrame'>\n",
      "RangeIndex: 107 entries, 0 to 106\n",
      "Data columns (total 17 columns):\n",
      " #   Column       Non-Null Count  Dtype  \n",
      "---  ------       --------------  -----  \n",
      " 0   Dentist      90 non-null     float64\n",
      " 1   Method       90 non-null     float64\n",
      " 2   Alloy        90 non-null     float64\n",
      " 3   Temp         90 non-null     float64\n",
      " 4   Response     90 non-null     float64\n",
      " 5   Unnamed: 5   0 non-null      float64\n",
      " 6   Unnamed: 6   0 non-null      float64\n",
      " 7   Unnamed: 7   102 non-null    object \n",
      " 8   Unnamed: 8   101 non-null    object \n",
      " 9   Unnamed: 9   101 non-null    object \n",
      " 10  Unnamed: 10  100 non-null    object \n",
      " 11  Unnamed: 11  99 non-null     object \n",
      " 12  Unnamed: 12  3 non-null      object \n",
      " 13  Unnamed: 13  3 non-null      object \n",
      " 14  Unnamed: 14  0 non-null      float64\n",
      " 15  Unnamed: 15  4 non-null      float64\n",
      " 16  Unnamed: 16  1 non-null      float64\n",
      "dtypes: float64(10), object(7)\n",
      "memory usage: 14.3+ KB\n"
     ]
    }
   ],
   "source": [
    "DF.info()"
   ]
  },
  {
   "cell_type": "code",
   "execution_count": 54,
   "id": "24f4a37f",
   "metadata": {},
   "outputs": [],
   "source": [
    "DF.Method = pd.Categorical(DF.Method)"
   ]
  },
  {
   "cell_type": "code",
   "execution_count": 55,
   "id": "9db6138a",
   "metadata": {},
   "outputs": [
    {
     "name": "stderr",
     "output_type": "stream",
     "text": [
      "C:\\Users\\anand.rj\\Anaconda3\\lib\\site-packages\\IPython\\lib\\pretty.py:778: FutureWarning: Index.ravel returning ndarray is deprecated; in a future version this will return a view on self.\n",
      "  output = repr(obj)\n"
     ]
    },
    {
     "data": {
      "text/plain": [
       "<bound method IndexOpsMixin.value_counts of 0      1.0\n",
       "1      1.0\n",
       "2      1.0\n",
       "3      1.0\n",
       "4      1.0\n",
       "      ... \n",
       "102    NaN\n",
       "103    NaN\n",
       "104    NaN\n",
       "105    NaN\n",
       "106    NaN\n",
       "Name: Method, Length: 107, dtype: category\n",
       "Categories (3, float64): [1.0, 2.0, 3.0]>"
      ]
     },
     "execution_count": 55,
     "metadata": {},
     "output_type": "execute_result"
    }
   ],
   "source": [
    "DF.Method.value_counts"
   ]
  },
  {
   "cell_type": "code",
   "execution_count": 56,
   "id": "de78ecc8",
   "metadata": {},
   "outputs": [],
   "source": [
    "DF.Alloy = pd.Categorical(DF.Alloy)"
   ]
  },
  {
   "cell_type": "code",
   "execution_count": 57,
   "id": "96578730",
   "metadata": {},
   "outputs": [
    {
     "data": {
      "text/plain": [
       "<bound method IndexOpsMixin.value_counts of 0      1.0\n",
       "1      1.0\n",
       "2      1.0\n",
       "3      2.0\n",
       "4      2.0\n",
       "      ... \n",
       "102    NaN\n",
       "103    NaN\n",
       "104    NaN\n",
       "105    NaN\n",
       "106    NaN\n",
       "Name: Alloy, Length: 107, dtype: category\n",
       "Categories (2, float64): [1.0, 2.0]>"
      ]
     },
     "execution_count": 57,
     "metadata": {},
     "output_type": "execute_result"
    }
   ],
   "source": [
    "DF.Alloy.value_counts"
   ]
  },
  {
   "cell_type": "code",
   "execution_count": 58,
   "id": "1d319400",
   "metadata": {},
   "outputs": [],
   "source": [
    "DF.Dentist = pd.Categorical(DF.Dentist)"
   ]
  },
  {
   "cell_type": "code",
   "execution_count": 59,
   "id": "115ca284",
   "metadata": {},
   "outputs": [
    {
     "data": {
      "text/plain": [
       "<bound method IndexOpsMixin.value_counts of 0      1.0\n",
       "1      1.0\n",
       "2      1.0\n",
       "3      1.0\n",
       "4      1.0\n",
       "      ... \n",
       "102    NaN\n",
       "103    NaN\n",
       "104    NaN\n",
       "105    NaN\n",
       "106    NaN\n",
       "Name: Dentist, Length: 107, dtype: category\n",
       "Categories (5, float64): [1.0, 2.0, 3.0, 4.0, 5.0]>"
      ]
     },
     "execution_count": 59,
     "metadata": {},
     "output_type": "execute_result"
    }
   ],
   "source": [
    "DF.Dentist.value_counts"
   ]
  },
  {
   "cell_type": "code",
   "execution_count": 60,
   "id": "4467acee",
   "metadata": {},
   "outputs": [],
   "source": [
    "DF.Temp = pd.Categorical(DF.Temp)"
   ]
  },
  {
   "cell_type": "code",
   "execution_count": 61,
   "id": "e1b9b2b0",
   "metadata": {},
   "outputs": [
    {
     "data": {
      "text/plain": [
       "<bound method IndexOpsMixin.value_counts of 0      1500.0\n",
       "1      1600.0\n",
       "2      1700.0\n",
       "3      1500.0\n",
       "4      1600.0\n",
       "        ...  \n",
       "102       NaN\n",
       "103       NaN\n",
       "104       NaN\n",
       "105       NaN\n",
       "106       NaN\n",
       "Name: Temp, Length: 107, dtype: category\n",
       "Categories (3, float64): [1500.0, 1600.0, 1700.0]>"
      ]
     },
     "execution_count": 61,
     "metadata": {},
     "output_type": "execute_result"
    }
   ],
   "source": [
    "DF.Temp.value_counts"
   ]
  },
  {
   "cell_type": "code",
   "execution_count": 62,
   "id": "e2313892",
   "metadata": {},
   "outputs": [
    {
     "name": "stdout",
     "output_type": "stream",
     "text": [
      "              df         sum_sq        mean_sq          F        PR(>F)\n",
      "C(Dentist)   4.0  157794.555556   39448.638889   3.315430  1.447960e-02\n",
      "C(Method)    2.0  593427.488889  296713.744444  24.937072  3.825529e-09\n",
      "C(Alloy)     1.0  105815.511111  105815.511111   8.893181  3.792413e-03\n",
      "C(Temp)      2.0   82178.022222   41089.011111   3.453293  3.643273e-02\n",
      "Residual    80.0  951879.977778   11898.499722        NaN           NaN\n"
     ]
    }
   ],
   "source": [
    "formula = 'Response ~ C(Dentist) + C(Method) + C(Alloy) + C(Temp)'\n",
    "model = ols(formula, DF).fit()\n",
    "aov_table = anova_lm(model)\n",
    "print(aov_table)"
   ]
  },
  {
   "cell_type": "code",
   "execution_count": 63,
   "id": "892ce897",
   "metadata": {},
   "outputs": [
    {
     "data": {
      "text/plain": [
       "<AxesSubplot:xlabel='Dentist', ylabel='Response'>"
      ]
     },
     "execution_count": 63,
     "metadata": {},
     "output_type": "execute_result"
    },
    {
     "data": {
      "image/png": "[encoded data removed]",
      "text/plain": [
       "<Figure size 432x288 with 1 Axes>"
      ]
     },
     "metadata": {
      "needs_background": "light"
     },
     "output_type": "display_data"
    }
   ],
   "source": [
    "#answer for Dentist\n",
    "sns.pointplot(x='Dentist', y='Response', data=DF, hue='Alloy', ci= None)"
   ]
  },
  {
   "cell_type": "code",
   "execution_count": 64,
   "id": "d260dfe3",
   "metadata": {},
   "outputs": [
    {
     "data": {
      "text/plain": [
       "<AxesSubplot:xlabel='Method', ylabel='Response'>"
      ]
     },
     "execution_count": 64,
     "metadata": {},
     "output_type": "execute_result"
    },
    {
     "data": {
      "image/png": "[encoded data removed]",
      "text/plain": [
       "<Figure size 432x288 with 1 Axes>"
      ]
     },
     "metadata": {
      "needs_background": "light"
     },
     "output_type": "display_data"
    }
   ],
   "source": [
    "#Answer for methods\n",
    "sns.pointplot(x='Method', y='Response', data=DF, hue='Alloy', ci= None)"
   ]
  },
  {
   "cell_type": "code",
   "execution_count": 67,
   "id": "2f16105f",
   "metadata": {},
   "outputs": [
    {
     "data": {
      "text/plain": [
       "<AxesSubplot:xlabel='Temp', ylabel='Response'>"
      ]
     },
     "execution_count": 67,
     "metadata": {},
     "output_type": "execute_result"
    },
    {
     "data": {
      "image/png": "[encoded data removed]",
      "text/plain": [
       "<Figure size 432x288 with 1 Axes>"
      ]
     },
     "metadata": {
      "needs_background": "light"
     },
     "output_type": "display_data"
    }
   ],
   "source": [
    "sns.pointplot(x='Temp', y='Response', data=DF, hue='Alloy', ci= None)"
   ]
  },
  {
   "cell_type": "code",
   "execution_count": 65,
   "id": "54ea4802",
   "metadata": {},
   "outputs": [
    {
     "name": "stdout",
     "output_type": "stream",
     "text": [
      "                        df         sum_sq        mean_sq          F  \\\n",
      "C(Dentist)             4.0  157794.555556   39448.638889   4.400784   \n",
      "C(Method)              2.0  593427.488889  296713.744444  33.100589   \n",
      "C(Alloy)               1.0  105815.511111  105815.511111  11.804495   \n",
      "C(Temp)                2.0   82178.022222   41089.011111   4.583780   \n",
      "C(Dentist):C(Method)   8.0  306471.844444   38308.980556   4.273647   \n",
      "Residual              72.0  645408.133333    8964.001852        NaN   \n",
      "\n",
      "                            PR(>F)  \n",
      "C(Dentist)            3.071419e-03  \n",
      "C(Method)             6.390679e-11  \n",
      "C(Alloy)              9.845529e-04  \n",
      "C(Temp)               1.337212e-02  \n",
      "C(Dentist):C(Method)  3.056374e-04  \n",
      "Residual                       NaN  \n"
     ]
    }
   ],
   "source": [
    "formula = 'Response ~ C(Dentist) + C(Method) + C(Alloy) + C(Temp) + C(Dentist):C(Method)'\n",
    "model = ols(formula, DF).fit()\n",
    "aov_table = anova_lm(model)\n",
    "print(aov_table)"
   ]
  },
  {
   "cell_type": "markdown",
   "id": "e939579c",
   "metadata": {},
   "source": [
    "1.Null Hypothesis H0: Dentist are significant cause for better response in the alloy 1 of dental hardness \n",
    "\n",
    "Alternative Hypothesis H1: Dentist are not significant cause for better response in the alloy 1 of dental hardness\n",
    "\n",
    "\n",
    "Null Hypothesis H0: Dentist are significant cause for better response in the alloy 2 of dental hardness \n",
    "\n",
    "Alternative Hypothesis H1: Dentist are not significant cause for better response in the alloy 2 of dental hardness\n"
   ]
  },
  {
   "cell_type": "markdown",
   "id": "e3d371a2",
   "metadata": {},
   "source": [
    "2. There 2 types of alloys used \n",
    "   3 types of Methods used\n",
    "   5 types of Dentists used\n",
    "   3 types of Temperatures used \n"
   ]
  },
  {
   "cell_type": "markdown",
   "id": "ddd77357",
   "metadata": {},
   "source": [
    "3. Yes, the dentist plays a significant role, and they are the cause for the mean response. They play major role in the interaction effect.\n",
    "\n"
   ]
  },
  {
   "cell_type": "markdown",
   "id": "bb744ee5",
   "metadata": {},
   "source": [
    "4. Yes There are differences in the Methods for different types of alloys and they cause significant effect and cause."
   ]
  },
  {
   "cell_type": "markdown",
   "id": "60c127c1",
   "metadata": {},
   "source": [
    "5. Yes, Temperature levels plays a significant role in the mean response of the Dental Hardness. The Temperature for alloy 2 are minimum like 1500 and have a good response"
   ]
  },
  {
   "cell_type": "markdown",
   "id": "29c700e8",
   "metadata": {},
   "source": [
    "6. Both Dentist and Method have Significant cause. They are causes for the interaction"
   ]
  },
  {
   "cell_type": "markdown",
   "id": "227d403a",
   "metadata": {},
   "source": [
    "7. The Dentist response for the alloy 2 is better compared to the alloy1 as they dip extensive.\n",
    "The Method response for the alloy 2 is also showing difference for the both Methods 1 and 2.\n"
   ]
  },
  {
   "cell_type": "code",
   "execution_count": null,
   "id": "ed511fc7",
   "metadata": {},
   "outputs": [],
   "source": []
  }
 ],
 "metadata": {
  "kernelspec": {
   "display_name": "Python 3 (ipykernel)",
   "language": "python",
   "name": "python3"
  },
  "language_info": {
   "codemirror_mode": {
    "name": "ipython",
    "version": 3
   },
   "file_extension": ".py",
   "mimetype": "text/x-python",
   "name": "python",
   "nbconvert_exporter": "python",
   "pygments_lexer": "ipython3",
   "version": "3.9.12"
  }
 },
 "nbformat": 4,
 "nbformat_minor": 5
}

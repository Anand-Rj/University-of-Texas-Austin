{
 "cells": [
  {
   "cell_type": "markdown",
   "id": "05f8e626",
   "metadata": {},
   "source": [
    "# Logistic Regression"
   ]
  },
  {
   "cell_type": "code",
   "execution_count": 1,
   "id": "676e3498",
   "metadata": {},
   "outputs": [],
   "source": [
    "import numpy as np\n",
    "import pandas as pd\n",
    "import matplotlib.pyplot as plt   \n",
    "import seaborn as sns\n",
    "from sklearn.model_selection import train_test_split,GridSearchCV\n",
    "from sklearn.linear_model import LogisticRegression\n",
    "from sklearn import metrics\n",
    "from sklearn.metrics import roc_auc_score,roc_curve,classification_report,confusion_matrix,plot_confusion_matrix"
   ]
  },
  {
   "cell_type": "code",
   "execution_count": 2,
   "id": "abc912fc",
   "metadata": {},
   "outputs": [],
   "source": [
    "C_method=pd.read_excel(\"Contraceptive_method_dataset.xlsx\")"
   ]
  },
  {
   "cell_type": "markdown",
   "id": "8fa6fd79",
   "metadata": {},
   "source": [
    "# EDA"
   ]
  },
  {
   "cell_type": "code",
   "execution_count": 3,
   "id": "195d911c",
   "metadata": {},
   "outputs": [
    {
     "data": {
      "text/html": [
       "<div>\n",
       "<style scoped>\n",
       "    .dataframe tbody tr th:only-of-type {\n",
       "        vertical-align: middle;\n",
       "    }\n",
       "\n",
       "    .dataframe tbody tr th {\n",
       "        vertical-align: top;\n",
       "    }\n",
       "\n",
       "    .dataframe thead th {\n",
       "        text-align: right;\n",
       "    }\n",
       "</style>\n",
       "<table border=\"1\" class=\"dataframe\">\n",
       "  <thead>\n",
       "    <tr style=\"text-align: right;\">\n",
       "      <th></th>\n",
       "      <th>Wife_age</th>\n",
       "      <th>Wife_ education</th>\n",
       "      <th>Husband_education</th>\n",
       "      <th>No_of_children_born</th>\n",
       "      <th>Wife_religion</th>\n",
       "      <th>Wife_Working</th>\n",
       "      <th>Husband_Occupation</th>\n",
       "      <th>Standard_of_living_index</th>\n",
       "      <th>Media_exposure</th>\n",
       "      <th>Contraceptive_method_used</th>\n",
       "    </tr>\n",
       "  </thead>\n",
       "  <tbody>\n",
       "    <tr>\n",
       "      <th>0</th>\n",
       "      <td>24.0</td>\n",
       "      <td>Primary</td>\n",
       "      <td>Secondary</td>\n",
       "      <td>3.0</td>\n",
       "      <td>Scientology</td>\n",
       "      <td>No</td>\n",
       "      <td>2</td>\n",
       "      <td>High</td>\n",
       "      <td>Exposed</td>\n",
       "      <td>No</td>\n",
       "    </tr>\n",
       "    <tr>\n",
       "      <th>1</th>\n",
       "      <td>45.0</td>\n",
       "      <td>Uneducated</td>\n",
       "      <td>Secondary</td>\n",
       "      <td>10.0</td>\n",
       "      <td>Scientology</td>\n",
       "      <td>No</td>\n",
       "      <td>3</td>\n",
       "      <td>Very High</td>\n",
       "      <td>Exposed</td>\n",
       "      <td>No</td>\n",
       "    </tr>\n",
       "    <tr>\n",
       "      <th>2</th>\n",
       "      <td>43.0</td>\n",
       "      <td>Primary</td>\n",
       "      <td>Secondary</td>\n",
       "      <td>7.0</td>\n",
       "      <td>Scientology</td>\n",
       "      <td>No</td>\n",
       "      <td>3</td>\n",
       "      <td>Very High</td>\n",
       "      <td>Exposed</td>\n",
       "      <td>No</td>\n",
       "    </tr>\n",
       "    <tr>\n",
       "      <th>3</th>\n",
       "      <td>42.0</td>\n",
       "      <td>Secondary</td>\n",
       "      <td>Primary</td>\n",
       "      <td>9.0</td>\n",
       "      <td>Scientology</td>\n",
       "      <td>No</td>\n",
       "      <td>3</td>\n",
       "      <td>High</td>\n",
       "      <td>Exposed</td>\n",
       "      <td>No</td>\n",
       "    </tr>\n",
       "    <tr>\n",
       "      <th>4</th>\n",
       "      <td>36.0</td>\n",
       "      <td>Secondary</td>\n",
       "      <td>Secondary</td>\n",
       "      <td>8.0</td>\n",
       "      <td>Scientology</td>\n",
       "      <td>No</td>\n",
       "      <td>3</td>\n",
       "      <td>Low</td>\n",
       "      <td>Exposed</td>\n",
       "      <td>No</td>\n",
       "    </tr>\n",
       "  </tbody>\n",
       "</table>\n",
       "</div>"
      ],
      "text/plain": [
       "   Wife_age Wife_ education Husband_education  No_of_children_born  \\\n",
       "0      24.0         Primary         Secondary                  3.0   \n",
       "1      45.0      Uneducated         Secondary                 10.0   \n",
       "2      43.0         Primary         Secondary                  7.0   \n",
       "3      42.0       Secondary           Primary                  9.0   \n",
       "4      36.0       Secondary         Secondary                  8.0   \n",
       "\n",
       "  Wife_religion Wife_Working  Husband_Occupation Standard_of_living_index  \\\n",
       "0   Scientology           No                   2                     High   \n",
       "1   Scientology           No                   3                Very High   \n",
       "2   Scientology           No                   3                Very High   \n",
       "3   Scientology           No                   3                     High   \n",
       "4   Scientology           No                   3                      Low   \n",
       "\n",
       "  Media_exposure  Contraceptive_method_used  \n",
       "0         Exposed                        No  \n",
       "1         Exposed                        No  \n",
       "2         Exposed                        No  \n",
       "3         Exposed                        No  \n",
       "4         Exposed                        No  "
      ]
     },
     "execution_count": 3,
     "metadata": {},
     "output_type": "execute_result"
    }
   ],
   "source": [
    "C_method.head()"
   ]
  },
  {
   "cell_type": "code",
   "execution_count": 4,
   "id": "97bd11c4",
   "metadata": {},
   "outputs": [
    {
     "name": "stdout",
     "output_type": "stream",
     "text": [
      "<class 'pandas.core.frame.DataFrame'>\n",
      "RangeIndex: 1473 entries, 0 to 1472\n",
      "Data columns (total 10 columns):\n",
      " #   Column                     Non-Null Count  Dtype  \n",
      "---  ------                     --------------  -----  \n",
      " 0   Wife_age                   1402 non-null   float64\n",
      " 1   Wife_ education            1473 non-null   object \n",
      " 2   Husband_education          1473 non-null   object \n",
      " 3   No_of_children_born        1452 non-null   float64\n",
      " 4   Wife_religion              1473 non-null   object \n",
      " 5   Wife_Working               1473 non-null   object \n",
      " 6   Husband_Occupation         1473 non-null   int64  \n",
      " 7   Standard_of_living_index   1473 non-null   object \n",
      " 8   Media_exposure             1473 non-null   object \n",
      " 9   Contraceptive_method_used  1473 non-null   object \n",
      "dtypes: float64(2), int64(1), object(7)\n",
      "memory usage: 115.2+ KB\n"
     ]
    }
   ],
   "source": [
    "C_method.info()"
   ]
  },
  {
   "cell_type": "code",
   "execution_count": 5,
   "id": "bc2c555b",
   "metadata": {},
   "outputs": [
    {
     "data": {
      "text/plain": [
       "Wife_age                     0\n",
       "Wife_ education              0\n",
       "Husband_education            0\n",
       "No_of_children_born          0\n",
       "Wife_religion                0\n",
       "Wife_Working                 0\n",
       "Husband_Occupation           0\n",
       "Standard_of_living_index     0\n",
       "Media_exposure               0\n",
       "Contraceptive_method_used    0\n",
       "dtype: int64"
      ]
     },
     "execution_count": 5,
     "metadata": {},
     "output_type": "execute_result"
    }
   ],
   "source": [
    "for column in C_method.columns:\n",
    "    if C_method[column].dtype != 'object':\n",
    "        mean = C_method[column].mean()\n",
    "        C_method[column] = C_method[column].fillna(mean)    \n",
    "        \n",
    "C_method.isnull().sum()  "
   ]
  },
  {
   "cell_type": "code",
   "execution_count": 6,
   "id": "3be6b6fb",
   "metadata": {},
   "outputs": [
    {
     "name": "stdout",
     "output_type": "stream",
     "text": [
      "Number of duplicate rows = 80\n",
      "(1473, 10)\n"
     ]
    }
   ],
   "source": [
    "dups = C_method.duplicated()\n",
    "print('Number of duplicate rows = %d' % (dups.sum()))\n",
    "print(C_method.shape)"
   ]
  },
  {
   "cell_type": "code",
   "execution_count": 7,
   "id": "e8d5ae1d",
   "metadata": {},
   "outputs": [],
   "source": [
    "C_method.drop_duplicates(inplace=True)"
   ]
  },
  {
   "cell_type": "code",
   "execution_count": 8,
   "id": "5fd203e2",
   "metadata": {},
   "outputs": [
    {
     "name": "stdout",
     "output_type": "stream",
     "text": [
      "Number of duplicate rows = 0\n",
      "(1393, 10)\n"
     ]
    }
   ],
   "source": [
    "dups = C_method.duplicated()\n",
    "print('Number of duplicate rows = %d' % (dups.sum()))\n",
    "print(C_method.shape)"
   ]
  },
  {
   "cell_type": "code",
   "execution_count": 9,
   "id": "5c76cb02",
   "metadata": {},
   "outputs": [
    {
     "name": "stdout",
     "output_type": "stream",
     "text": [
      "Wife_ education\n",
      "Tertiary      515\n",
      "Secondary     398\n",
      "Primary       330\n",
      "Uneducated    150\n",
      "Name: Wife_ education, dtype: int64\n",
      "\n",
      "\n",
      "Husband_education\n",
      "Tertiary      827\n",
      "Secondary     347\n",
      "Primary       175\n",
      "Uneducated     44\n",
      "Name: Husband_education, dtype: int64\n",
      "\n",
      "\n",
      "Wife_religion\n",
      "Scientology        1186\n",
      "Non-Scientology     207\n",
      "Name: Wife_religion, dtype: int64\n",
      "\n",
      "\n",
      "Wife_Working\n",
      "No     1043\n",
      "Yes     350\n",
      "Name: Wife_Working, dtype: int64\n",
      "\n",
      "\n",
      "Standard_of_living_index\n",
      "Very High    618\n",
      "High         419\n",
      "Low          227\n",
      "Very Low     129\n",
      "Name: Standard_of_living_index, dtype: int64\n",
      "\n",
      "\n",
      "Media_exposure \n",
      "Exposed        1284\n",
      "Not-Exposed     109\n",
      "Name: Media_exposure , dtype: int64\n",
      "\n",
      "\n",
      "Contraceptive_method_used\n",
      "Yes    779\n",
      "No     614\n",
      "Name: Contraceptive_method_used, dtype: int64\n",
      "\n",
      "\n"
     ]
    }
   ],
   "source": [
    "for feature in C_method.columns: \n",
    "    if C_method[feature].dtype == 'object': \n",
    "        print(feature)\n",
    "        print(C_method[feature].value_counts())\n",
    "        print('\\n')"
   ]
  },
  {
   "cell_type": "code",
   "execution_count": 10,
   "id": "cab8a36d",
   "metadata": {},
   "outputs": [
    {
     "data": {
      "text/html": [
       "<div>\n",
       "<style scoped>\n",
       "    .dataframe tbody tr th:only-of-type {\n",
       "        vertical-align: middle;\n",
       "    }\n",
       "\n",
       "    .dataframe tbody tr th {\n",
       "        vertical-align: top;\n",
       "    }\n",
       "\n",
       "    .dataframe thead th {\n",
       "        text-align: right;\n",
       "    }\n",
       "</style>\n",
       "<table border=\"1\" class=\"dataframe\">\n",
       "  <thead>\n",
       "    <tr style=\"text-align: right;\">\n",
       "      <th></th>\n",
       "      <th>Wife_age</th>\n",
       "      <th>No_of_children_born</th>\n",
       "      <th>Husband_Occupation</th>\n",
       "    </tr>\n",
       "  </thead>\n",
       "  <tbody>\n",
       "    <tr>\n",
       "      <th>count</th>\n",
       "      <td>1393.000000</td>\n",
       "      <td>1393.000000</td>\n",
       "      <td>1393.000000</td>\n",
       "    </tr>\n",
       "    <tr>\n",
       "      <th>mean</th>\n",
       "      <td>32.559670</td>\n",
       "      <td>3.290263</td>\n",
       "      <td>2.174444</td>\n",
       "    </tr>\n",
       "    <tr>\n",
       "      <th>std</th>\n",
       "      <td>8.087315</td>\n",
       "      <td>2.381531</td>\n",
       "      <td>0.854590</td>\n",
       "    </tr>\n",
       "    <tr>\n",
       "      <th>min</th>\n",
       "      <td>16.000000</td>\n",
       "      <td>0.000000</td>\n",
       "      <td>1.000000</td>\n",
       "    </tr>\n",
       "    <tr>\n",
       "      <th>25%</th>\n",
       "      <td>26.000000</td>\n",
       "      <td>1.000000</td>\n",
       "      <td>1.000000</td>\n",
       "    </tr>\n",
       "    <tr>\n",
       "      <th>50%</th>\n",
       "      <td>32.000000</td>\n",
       "      <td>3.000000</td>\n",
       "      <td>2.000000</td>\n",
       "    </tr>\n",
       "    <tr>\n",
       "      <th>75%</th>\n",
       "      <td>38.000000</td>\n",
       "      <td>5.000000</td>\n",
       "      <td>3.000000</td>\n",
       "    </tr>\n",
       "    <tr>\n",
       "      <th>max</th>\n",
       "      <td>49.000000</td>\n",
       "      <td>16.000000</td>\n",
       "      <td>4.000000</td>\n",
       "    </tr>\n",
       "  </tbody>\n",
       "</table>\n",
       "</div>"
      ],
      "text/plain": [
       "          Wife_age  No_of_children_born  Husband_Occupation\n",
       "count  1393.000000          1393.000000         1393.000000\n",
       "mean     32.559670             3.290263            2.174444\n",
       "std       8.087315             2.381531            0.854590\n",
       "min      16.000000             0.000000            1.000000\n",
       "25%      26.000000             1.000000            1.000000\n",
       "50%      32.000000             3.000000            2.000000\n",
       "75%      38.000000             5.000000            3.000000\n",
       "max      49.000000            16.000000            4.000000"
      ]
     },
     "execution_count": 10,
     "metadata": {},
     "output_type": "execute_result"
    }
   ],
   "source": [
    "C_method.describe()"
   ]
  },
  {
   "cell_type": "code",
   "execution_count": 11,
   "id": "94f96197",
   "metadata": {},
   "outputs": [
    {
     "name": "stderr",
     "output_type": "stream",
     "text": [
      "C:\\Users\\anand.rj\\Anaconda3\\lib\\site-packages\\seaborn\\_decorators.py:36: FutureWarning: Pass the following variable as a keyword arg: x. From version 0.12, the only valid positional argument will be `data`, and passing other arguments without an explicit keyword will result in an error or misinterpretation.\n",
      "  warnings.warn(\n"
     ]
    },
    {
     "data": {
      "image/png": "[encoded data removed]",
      "text/plain": [
       "<Figure size 432x288 with 1 Axes>"
      ]
     },
     "metadata": {
      "needs_background": "light"
     },
     "output_type": "display_data"
    },
    {
     "name": "stderr",
     "output_type": "stream",
     "text": [
      "C:\\Users\\anand.rj\\Anaconda3\\lib\\site-packages\\seaborn\\_decorators.py:36: FutureWarning: Pass the following variable as a keyword arg: x. From version 0.12, the only valid positional argument will be `data`, and passing other arguments without an explicit keyword will result in an error or misinterpretation.\n",
      "  warnings.warn(\n"
     ]
    },
    {
     "data": {
      "image/png": "[encoded data removed]",
      "text/plain": [
       "<Figure size 432x288 with 1 Axes>"
      ]
     },
     "metadata": {
      "needs_background": "light"
     },
     "output_type": "display_data"
    },
    {
     "name": "stderr",
     "output_type": "stream",
     "text": [
      "C:\\Users\\anand.rj\\Anaconda3\\lib\\site-packages\\seaborn\\_decorators.py:36: FutureWarning: Pass the following variable as a keyword arg: x. From version 0.12, the only valid positional argument will be `data`, and passing other arguments without an explicit keyword will result in an error or misinterpretation.\n",
      "  warnings.warn(\n"
     ]
    },
    {
     "data": {
      "image/png": "[encoded data removed]",
      "text/plain": [
       "<Figure size 432x288 with 1 Axes>"
      ]
     },
     "metadata": {
      "needs_background": "light"
     },
     "output_type": "display_data"
    }
   ],
   "source": [
    "cols = ['Wife_age','No_of_children_born','Husband_Occupation']\n",
    "for i in cols:\n",
    "    sns.boxplot(C_method[i],whis=1.5)\n",
    "    plt.grid()\n",
    "    plt.show();"
   ]
  },
  {
   "cell_type": "code",
   "execution_count": 12,
   "id": "61ea5130",
   "metadata": {},
   "outputs": [
    {
     "data": {
      "text/html": [
       "<div>\n",
       "<style scoped>\n",
       "    .dataframe tbody tr th:only-of-type {\n",
       "        vertical-align: middle;\n",
       "    }\n",
       "\n",
       "    .dataframe tbody tr th {\n",
       "        vertical-align: top;\n",
       "    }\n",
       "\n",
       "    .dataframe thead th {\n",
       "        text-align: right;\n",
       "    }\n",
       "</style>\n",
       "<table border=\"1\" class=\"dataframe\">\n",
       "  <thead>\n",
       "    <tr style=\"text-align: right;\">\n",
       "      <th></th>\n",
       "      <th>Wife_age</th>\n",
       "      <th>No_of_children_born</th>\n",
       "      <th>Husband_Occupation</th>\n",
       "    </tr>\n",
       "  </thead>\n",
       "  <tbody>\n",
       "    <tr>\n",
       "      <th>Wife_age</th>\n",
       "      <td>1.000000</td>\n",
       "      <td>0.528617</td>\n",
       "      <td>-0.185810</td>\n",
       "    </tr>\n",
       "    <tr>\n",
       "      <th>No_of_children_born</th>\n",
       "      <td>0.528617</td>\n",
       "      <td>1.000000</td>\n",
       "      <td>-0.024813</td>\n",
       "    </tr>\n",
       "    <tr>\n",
       "      <th>Husband_Occupation</th>\n",
       "      <td>-0.185810</td>\n",
       "      <td>-0.024813</td>\n",
       "      <td>1.000000</td>\n",
       "    </tr>\n",
       "  </tbody>\n",
       "</table>\n",
       "</div>"
      ],
      "text/plain": [
       "                     Wife_age  No_of_children_born  Husband_Occupation\n",
       "Wife_age             1.000000             0.528617           -0.185810\n",
       "No_of_children_born  0.528617             1.000000           -0.024813\n",
       "Husband_Occupation  -0.185810            -0.024813            1.000000"
      ]
     },
     "execution_count": 12,
     "metadata": {},
     "output_type": "execute_result"
    }
   ],
   "source": [
    "C_method.corr()"
   ]
  },
  {
   "cell_type": "code",
   "execution_count": 15,
   "id": "1c17ba6f",
   "metadata": {},
   "outputs": [
    {
     "data": {
      "image/png": "[encoded data removed]",
      "text/plain": [
       "<Figure size 864x504 with 2 Axes>"
      ]
     },
     "metadata": {
      "needs_background": "light"
     },
     "output_type": "display_data"
    }
   ],
   "source": [
    "plt.figure(figsize=(12,7))\n",
    "sns.heatmap(C_method.corr(), annot=True,mask=np.triu(C_method.corr(),+1));"
   ]
  },
  {
   "cell_type": "code",
   "execution_count": 16,
   "id": "410e716b",
   "metadata": {},
   "outputs": [
    {
     "data": {
      "text/html": [
       "<div>\n",
       "<style scoped>\n",
       "    .dataframe tbody tr th:only-of-type {\n",
       "        vertical-align: middle;\n",
       "    }\n",
       "\n",
       "    .dataframe tbody tr th {\n",
       "        vertical-align: top;\n",
       "    }\n",
       "\n",
       "    .dataframe thead th {\n",
       "        text-align: right;\n",
       "    }\n",
       "</style>\n",
       "<table border=\"1\" class=\"dataframe\">\n",
       "  <thead>\n",
       "    <tr style=\"text-align: right;\">\n",
       "      <th></th>\n",
       "      <th>Wife_age</th>\n",
       "      <th>No_of_children_born</th>\n",
       "      <th>Husband_Occupation</th>\n",
       "    </tr>\n",
       "  </thead>\n",
       "  <tbody>\n",
       "    <tr>\n",
       "      <th>count</th>\n",
       "      <td>1393.000000</td>\n",
       "      <td>1393.000000</td>\n",
       "      <td>1393.000000</td>\n",
       "    </tr>\n",
       "    <tr>\n",
       "      <th>mean</th>\n",
       "      <td>32.559670</td>\n",
       "      <td>3.290263</td>\n",
       "      <td>2.174444</td>\n",
       "    </tr>\n",
       "    <tr>\n",
       "      <th>std</th>\n",
       "      <td>8.087315</td>\n",
       "      <td>2.381531</td>\n",
       "      <td>0.854590</td>\n",
       "    </tr>\n",
       "    <tr>\n",
       "      <th>min</th>\n",
       "      <td>16.000000</td>\n",
       "      <td>0.000000</td>\n",
       "      <td>1.000000</td>\n",
       "    </tr>\n",
       "    <tr>\n",
       "      <th>25%</th>\n",
       "      <td>26.000000</td>\n",
       "      <td>1.000000</td>\n",
       "      <td>1.000000</td>\n",
       "    </tr>\n",
       "    <tr>\n",
       "      <th>50%</th>\n",
       "      <td>32.000000</td>\n",
       "      <td>3.000000</td>\n",
       "      <td>2.000000</td>\n",
       "    </tr>\n",
       "    <tr>\n",
       "      <th>75%</th>\n",
       "      <td>38.000000</td>\n",
       "      <td>5.000000</td>\n",
       "      <td>3.000000</td>\n",
       "    </tr>\n",
       "    <tr>\n",
       "      <th>max</th>\n",
       "      <td>49.000000</td>\n",
       "      <td>16.000000</td>\n",
       "      <td>4.000000</td>\n",
       "    </tr>\n",
       "  </tbody>\n",
       "</table>\n",
       "</div>"
      ],
      "text/plain": [
       "          Wife_age  No_of_children_born  Husband_Occupation\n",
       "count  1393.000000          1393.000000         1393.000000\n",
       "mean     32.559670             3.290263            2.174444\n",
       "std       8.087315             2.381531            0.854590\n",
       "min      16.000000             0.000000            1.000000\n",
       "25%      26.000000             1.000000            1.000000\n",
       "50%      32.000000             3.000000            2.000000\n",
       "75%      38.000000             5.000000            3.000000\n",
       "max      49.000000            16.000000            4.000000"
      ]
     },
     "execution_count": 16,
     "metadata": {},
     "output_type": "execute_result"
    }
   ],
   "source": [
    "C_method.describe()"
   ]
  },
  {
   "cell_type": "markdown",
   "id": "417f1e16",
   "metadata": {},
   "source": [
    "# Univariate Analysis"
   ]
  },
  {
   "cell_type": "code",
   "execution_count": 49,
   "id": "68d18af6",
   "metadata": {},
   "outputs": [
    {
     "name": "stderr",
     "output_type": "stream",
     "text": [
      "C:\\Users\\anand.rj\\Anaconda3\\lib\\site-packages\\seaborn\\distributions.py:2619: FutureWarning: `distplot` is a deprecated function and will be removed in a future version. Please adapt your code to use either `displot` (a figure-level function with similar flexibility) or `histplot` (an axes-level function for histograms).\n",
      "  warnings.warn(msg, FutureWarning)\n"
     ]
    },
    {
     "data": {
      "image/png": "[encoded data removed]",
      "text/plain": [
       "<Figure size 432x288 with 1 Axes>"
      ]
     },
     "metadata": {
      "needs_background": "light"
     },
     "output_type": "display_data"
    }
   ],
   "source": [
    "sns.distplot(C_method['Contraceptive_method_used'])\n",
    "plt.show()"
   ]
  },
  {
   "cell_type": "markdown",
   "id": "07283676",
   "metadata": {},
   "source": [
    "# Bivariate Analysis"
   ]
  },
  {
   "cell_type": "code",
   "execution_count": null,
   "id": "57913ac2",
   "metadata": {},
   "outputs": [],
   "source": [
    "sns.jointplot(C_method['Contraceptive_method_used'], C_method['Wife_age']) ### annotate function of stats is to print correlation value"
   ]
  },
  {
   "cell_type": "markdown",
   "id": "6eb9ce0a",
   "metadata": {},
   "source": [
    "# Multivariate Analysis"
   ]
  },
  {
   "cell_type": "code",
   "execution_count": 17,
   "id": "2e2235f7",
   "metadata": {},
   "outputs": [
    {
     "data": {
      "text/plain": [
       "<seaborn.axisgrid.PairGrid at 0x27c7749a970>"
      ]
     },
     "execution_count": 17,
     "metadata": {},
     "output_type": "execute_result"
    },
    {
     "data": {
      "image/png": "[encoded data removed]",
      "text/plain": [
       "<Figure size 690.5x540 with 12 Axes>"
      ]
     },
     "metadata": {
      "needs_background": "light"
     },
     "output_type": "display_data"
    }
   ],
   "source": [
    "#Pairplot using sns\n",
    "sns.pairplot(C_method ,diag_kind='hist' ,hue='Contraceptive_method_used')"
   ]
  },
  {
   "cell_type": "code",
   "execution_count": 18,
   "id": "74454f6e",
   "metadata": {},
   "outputs": [],
   "source": [
    "## Converting the 'salary' Variable into numeric by using the LabelEncoder functionality inside sklearn.\n",
    "from sklearn.preprocessing import LabelEncoder\n",
    "\n",
    "## Defining a Label Encoder object instance\n",
    "LE = LabelEncoder()"
   ]
  },
  {
   "cell_type": "code",
   "execution_count": 19,
   "id": "cda636b0",
   "metadata": {},
   "outputs": [
    {
     "data": {
      "text/html": [
       "<div>\n",
       "<style scoped>\n",
       "    .dataframe tbody tr th:only-of-type {\n",
       "        vertical-align: middle;\n",
       "    }\n",
       "\n",
       "    .dataframe tbody tr th {\n",
       "        vertical-align: top;\n",
       "    }\n",
       "\n",
       "    .dataframe thead th {\n",
       "        text-align: right;\n",
       "    }\n",
       "</style>\n",
       "<table border=\"1\" class=\"dataframe\">\n",
       "  <thead>\n",
       "    <tr style=\"text-align: right;\">\n",
       "      <th></th>\n",
       "      <th>Wife_age</th>\n",
       "      <th>Wife_ education</th>\n",
       "      <th>Husband_education</th>\n",
       "      <th>No_of_children_born</th>\n",
       "      <th>Wife_religion</th>\n",
       "      <th>Wife_Working</th>\n",
       "      <th>Husband_Occupation</th>\n",
       "      <th>Standard_of_living_index</th>\n",
       "      <th>Media_exposure</th>\n",
       "      <th>Contraceptive_method_used</th>\n",
       "    </tr>\n",
       "  </thead>\n",
       "  <tbody>\n",
       "    <tr>\n",
       "      <th>0</th>\n",
       "      <td>24.0</td>\n",
       "      <td>Primary</td>\n",
       "      <td>Secondary</td>\n",
       "      <td>3.0</td>\n",
       "      <td>Scientology</td>\n",
       "      <td>No</td>\n",
       "      <td>2</td>\n",
       "      <td>High</td>\n",
       "      <td>Exposed</td>\n",
       "      <td>0</td>\n",
       "    </tr>\n",
       "    <tr>\n",
       "      <th>1</th>\n",
       "      <td>45.0</td>\n",
       "      <td>Uneducated</td>\n",
       "      <td>Secondary</td>\n",
       "      <td>10.0</td>\n",
       "      <td>Scientology</td>\n",
       "      <td>No</td>\n",
       "      <td>3</td>\n",
       "      <td>Very High</td>\n",
       "      <td>Exposed</td>\n",
       "      <td>0</td>\n",
       "    </tr>\n",
       "    <tr>\n",
       "      <th>2</th>\n",
       "      <td>43.0</td>\n",
       "      <td>Primary</td>\n",
       "      <td>Secondary</td>\n",
       "      <td>7.0</td>\n",
       "      <td>Scientology</td>\n",
       "      <td>No</td>\n",
       "      <td>3</td>\n",
       "      <td>Very High</td>\n",
       "      <td>Exposed</td>\n",
       "      <td>0</td>\n",
       "    </tr>\n",
       "    <tr>\n",
       "      <th>3</th>\n",
       "      <td>42.0</td>\n",
       "      <td>Secondary</td>\n",
       "      <td>Primary</td>\n",
       "      <td>9.0</td>\n",
       "      <td>Scientology</td>\n",
       "      <td>No</td>\n",
       "      <td>3</td>\n",
       "      <td>High</td>\n",
       "      <td>Exposed</td>\n",
       "      <td>0</td>\n",
       "    </tr>\n",
       "    <tr>\n",
       "      <th>4</th>\n",
       "      <td>36.0</td>\n",
       "      <td>Secondary</td>\n",
       "      <td>Secondary</td>\n",
       "      <td>8.0</td>\n",
       "      <td>Scientology</td>\n",
       "      <td>No</td>\n",
       "      <td>3</td>\n",
       "      <td>Low</td>\n",
       "      <td>Exposed</td>\n",
       "      <td>0</td>\n",
       "    </tr>\n",
       "  </tbody>\n",
       "</table>\n",
       "</div>"
      ],
      "text/plain": [
       "   Wife_age Wife_ education Husband_education  No_of_children_born  \\\n",
       "0      24.0         Primary         Secondary                  3.0   \n",
       "1      45.0      Uneducated         Secondary                 10.0   \n",
       "2      43.0         Primary         Secondary                  7.0   \n",
       "3      42.0       Secondary           Primary                  9.0   \n",
       "4      36.0       Secondary         Secondary                  8.0   \n",
       "\n",
       "  Wife_religion Wife_Working  Husband_Occupation Standard_of_living_index  \\\n",
       "0   Scientology           No                   2                     High   \n",
       "1   Scientology           No                   3                Very High   \n",
       "2   Scientology           No                   3                Very High   \n",
       "3   Scientology           No                   3                     High   \n",
       "4   Scientology           No                   3                      Low   \n",
       "\n",
       "  Media_exposure   Contraceptive_method_used  \n",
       "0         Exposed                          0  \n",
       "1         Exposed                          0  \n",
       "2         Exposed                          0  \n",
       "3         Exposed                          0  \n",
       "4         Exposed                          0  "
      ]
     },
     "execution_count": 19,
     "metadata": {},
     "output_type": "execute_result"
    }
   ],
   "source": [
    "## Applying the created Label Encoder object for the target class\n",
    "## Assigning the 0 to <=50k and 1 to >50k\n",
    "\n",
    "C_method['Contraceptive_method_used'] = LE.fit_transform(C_method['Contraceptive_method_used'])\n",
    "C_method.head()"
   ]
  },
  {
   "cell_type": "code",
   "execution_count": 20,
   "id": "f1366523",
   "metadata": {},
   "outputs": [
    {
     "data": {
      "text/html": [
       "<div>\n",
       "<style scoped>\n",
       "    .dataframe tbody tr th:only-of-type {\n",
       "        vertical-align: middle;\n",
       "    }\n",
       "\n",
       "    .dataframe tbody tr th {\n",
       "        vertical-align: top;\n",
       "    }\n",
       "\n",
       "    .dataframe thead th {\n",
       "        text-align: right;\n",
       "    }\n",
       "</style>\n",
       "<table border=\"1\" class=\"dataframe\">\n",
       "  <thead>\n",
       "    <tr style=\"text-align: right;\">\n",
       "      <th></th>\n",
       "      <th>Wife_age</th>\n",
       "      <th>No_of_children_born</th>\n",
       "      <th>Husband_Occupation</th>\n",
       "      <th>Contraceptive_method_used</th>\n",
       "      <th>Wife_ education_Secondary</th>\n",
       "      <th>Wife_ education_Tertiary</th>\n",
       "      <th>Wife_ education_Uneducated</th>\n",
       "      <th>Husband_education_Secondary</th>\n",
       "      <th>Husband_education_Tertiary</th>\n",
       "      <th>Husband_education_Uneducated</th>\n",
       "      <th>Wife_religion_Scientology</th>\n",
       "      <th>Wife_Working_Yes</th>\n",
       "      <th>Standard_of_living_index_Low</th>\n",
       "      <th>Standard_of_living_index_Very High</th>\n",
       "      <th>Standard_of_living_index_Very Low</th>\n",
       "      <th>Media_exposure _Not-Exposed</th>\n",
       "    </tr>\n",
       "  </thead>\n",
       "  <tbody>\n",
       "    <tr>\n",
       "      <th>0</th>\n",
       "      <td>24.0</td>\n",
       "      <td>3.0</td>\n",
       "      <td>2</td>\n",
       "      <td>0</td>\n",
       "      <td>0</td>\n",
       "      <td>0</td>\n",
       "      <td>0</td>\n",
       "      <td>1</td>\n",
       "      <td>0</td>\n",
       "      <td>0</td>\n",
       "      <td>1</td>\n",
       "      <td>0</td>\n",
       "      <td>0</td>\n",
       "      <td>0</td>\n",
       "      <td>0</td>\n",
       "      <td>0</td>\n",
       "    </tr>\n",
       "    <tr>\n",
       "      <th>1</th>\n",
       "      <td>45.0</td>\n",
       "      <td>10.0</td>\n",
       "      <td>3</td>\n",
       "      <td>0</td>\n",
       "      <td>0</td>\n",
       "      <td>0</td>\n",
       "      <td>1</td>\n",
       "      <td>1</td>\n",
       "      <td>0</td>\n",
       "      <td>0</td>\n",
       "      <td>1</td>\n",
       "      <td>0</td>\n",
       "      <td>0</td>\n",
       "      <td>1</td>\n",
       "      <td>0</td>\n",
       "      <td>0</td>\n",
       "    </tr>\n",
       "    <tr>\n",
       "      <th>2</th>\n",
       "      <td>43.0</td>\n",
       "      <td>7.0</td>\n",
       "      <td>3</td>\n",
       "      <td>0</td>\n",
       "      <td>0</td>\n",
       "      <td>0</td>\n",
       "      <td>0</td>\n",
       "      <td>1</td>\n",
       "      <td>0</td>\n",
       "      <td>0</td>\n",
       "      <td>1</td>\n",
       "      <td>0</td>\n",
       "      <td>0</td>\n",
       "      <td>1</td>\n",
       "      <td>0</td>\n",
       "      <td>0</td>\n",
       "    </tr>\n",
       "    <tr>\n",
       "      <th>3</th>\n",
       "      <td>42.0</td>\n",
       "      <td>9.0</td>\n",
       "      <td>3</td>\n",
       "      <td>0</td>\n",
       "      <td>1</td>\n",
       "      <td>0</td>\n",
       "      <td>0</td>\n",
       "      <td>0</td>\n",
       "      <td>0</td>\n",
       "      <td>0</td>\n",
       "      <td>1</td>\n",
       "      <td>0</td>\n",
       "      <td>0</td>\n",
       "      <td>0</td>\n",
       "      <td>0</td>\n",
       "      <td>0</td>\n",
       "    </tr>\n",
       "    <tr>\n",
       "      <th>4</th>\n",
       "      <td>36.0</td>\n",
       "      <td>8.0</td>\n",
       "      <td>3</td>\n",
       "      <td>0</td>\n",
       "      <td>1</td>\n",
       "      <td>0</td>\n",
       "      <td>0</td>\n",
       "      <td>1</td>\n",
       "      <td>0</td>\n",
       "      <td>0</td>\n",
       "      <td>1</td>\n",
       "      <td>0</td>\n",
       "      <td>1</td>\n",
       "      <td>0</td>\n",
       "      <td>0</td>\n",
       "      <td>0</td>\n",
       "    </tr>\n",
       "  </tbody>\n",
       "</table>\n",
       "</div>"
      ],
      "text/plain": [
       "   Wife_age  No_of_children_born  Husband_Occupation  \\\n",
       "0      24.0                  3.0                   2   \n",
       "1      45.0                 10.0                   3   \n",
       "2      43.0                  7.0                   3   \n",
       "3      42.0                  9.0                   3   \n",
       "4      36.0                  8.0                   3   \n",
       "\n",
       "   Contraceptive_method_used  Wife_ education_Secondary  \\\n",
       "0                          0                          0   \n",
       "1                          0                          0   \n",
       "2                          0                          0   \n",
       "3                          0                          1   \n",
       "4                          0                          1   \n",
       "\n",
       "   Wife_ education_Tertiary  Wife_ education_Uneducated  \\\n",
       "0                         0                           0   \n",
       "1                         0                           1   \n",
       "2                         0                           0   \n",
       "3                         0                           0   \n",
       "4                         0                           0   \n",
       "\n",
       "   Husband_education_Secondary  Husband_education_Tertiary  \\\n",
       "0                            1                           0   \n",
       "1                            1                           0   \n",
       "2                            1                           0   \n",
       "3                            0                           0   \n",
       "4                            1                           0   \n",
       "\n",
       "   Husband_education_Uneducated  Wife_religion_Scientology  Wife_Working_Yes  \\\n",
       "0                             0                          1                 0   \n",
       "1                             0                          1                 0   \n",
       "2                             0                          1                 0   \n",
       "3                             0                          1                 0   \n",
       "4                             0                          1                 0   \n",
       "\n",
       "   Standard_of_living_index_Low  Standard_of_living_index_Very High  \\\n",
       "0                             0                                   0   \n",
       "1                             0                                   1   \n",
       "2                             0                                   1   \n",
       "3                             0                                   0   \n",
       "4                             1                                   0   \n",
       "\n",
       "   Standard_of_living_index_Very Low  Media_exposure _Not-Exposed  \n",
       "0                                  0                            0  \n",
       "1                                  0                            0  \n",
       "2                                  0                            0  \n",
       "3                                  0                            0  \n",
       "4                                  0                            0  "
      ]
     },
     "execution_count": 20,
     "metadata": {},
     "output_type": "execute_result"
    }
   ],
   "source": [
    "## Converting the other 'object' type variables as dummy variables\n",
    "\n",
    "C_method_dummy = pd.get_dummies(C_method,drop_first=True)\n",
    "C_method_dummy.head()"
   ]
  },
  {
   "cell_type": "code",
   "execution_count": 21,
   "id": "f4a2bfe1",
   "metadata": {},
   "outputs": [],
   "source": [
    "# Copy all the predictor variables into X dataframe\n",
    "X = C_method_dummy.drop('Contraceptive_method_used', axis=1)\n",
    "\n",
    "# Copy target into the y dataframe. \n",
    "y = C_method_dummy['Contraceptive_method_used']"
   ]
  },
  {
   "cell_type": "code",
   "execution_count": 23,
   "id": "bcf973cd",
   "metadata": {},
   "outputs": [],
   "source": [
    "# Split X and y into training and test set in 70:30 ratio\n",
    "X_train, X_test, y_train, y_test = train_test_split(X, y, test_size=0.30 , random_state=1,stratify=C_method_dummy['Contraceptive_method_used'])"
   ]
  },
  {
   "cell_type": "code",
   "execution_count": 24,
   "id": "b1388042",
   "metadata": {},
   "outputs": [
    {
     "data": {
      "text/plain": [
       "1    0.558974\n",
       "0    0.441026\n",
       "Name: Contraceptive_method_used, dtype: float64"
      ]
     },
     "execution_count": 24,
     "metadata": {},
     "output_type": "execute_result"
    }
   ],
   "source": [
    "y_train.value_counts(1)"
   ]
  },
  {
   "cell_type": "code",
   "execution_count": 25,
   "id": "23abdcba",
   "metadata": {},
   "outputs": [
    {
     "data": {
      "text/plain": [
       "1    0.559809\n",
       "0    0.440191\n",
       "Name: Contraceptive_method_used, dtype: float64"
      ]
     },
     "execution_count": 25,
     "metadata": {},
     "output_type": "execute_result"
    }
   ],
   "source": [
    "y_test.value_counts(1)"
   ]
  },
  {
   "cell_type": "code",
   "execution_count": 26,
   "id": "d5823191",
   "metadata": {},
   "outputs": [
    {
     "name": "stderr",
     "output_type": "stream",
     "text": [
      "[Parallel(n_jobs=2)]: Using backend LokyBackend with 2 concurrent workers.\n",
      "[Parallel(n_jobs=2)]: Done   1 out of   1 | elapsed:    1.7s finished\n"
     ]
    },
    {
     "data": {
      "text/plain": [
       "LogisticRegression(max_iter=10000, n_jobs=2, penalty='none', solver='newton-cg',\n",
       "                   verbose=True)"
      ]
     },
     "execution_count": 26,
     "metadata": {},
     "output_type": "execute_result"
    }
   ],
   "source": [
    "# Fit the Logistic Regression model\n",
    "model = LogisticRegression(solver='newton-cg',max_iter=10000,penalty='none',verbose=True,n_jobs=2)\n",
    "model.fit(X_train, y_train)"
   ]
  },
  {
   "cell_type": "code",
   "execution_count": 27,
   "id": "e22af196",
   "metadata": {},
   "outputs": [],
   "source": [
    "ytrain_predict = model.predict(X_train)\n",
    "ytest_predict = model.predict(X_test)"
   ]
  },
  {
   "cell_type": "code",
   "execution_count": 28,
   "id": "504d35c6",
   "metadata": {},
   "outputs": [
    {
     "data": {
      "text/html": [
       "<div>\n",
       "<style scoped>\n",
       "    .dataframe tbody tr th:only-of-type {\n",
       "        vertical-align: middle;\n",
       "    }\n",
       "\n",
       "    .dataframe tbody tr th {\n",
       "        vertical-align: top;\n",
       "    }\n",
       "\n",
       "    .dataframe thead th {\n",
       "        text-align: right;\n",
       "    }\n",
       "</style>\n",
       "<table border=\"1\" class=\"dataframe\">\n",
       "  <thead>\n",
       "    <tr style=\"text-align: right;\">\n",
       "      <th></th>\n",
       "      <th>0</th>\n",
       "      <th>1</th>\n",
       "    </tr>\n",
       "  </thead>\n",
       "  <tbody>\n",
       "    <tr>\n",
       "      <th>0</th>\n",
       "      <td>0.274512</td>\n",
       "      <td>0.725488</td>\n",
       "    </tr>\n",
       "    <tr>\n",
       "      <th>1</th>\n",
       "      <td>0.694425</td>\n",
       "      <td>0.305575</td>\n",
       "    </tr>\n",
       "    <tr>\n",
       "      <th>2</th>\n",
       "      <td>0.337056</td>\n",
       "      <td>0.662944</td>\n",
       "    </tr>\n",
       "    <tr>\n",
       "      <th>3</th>\n",
       "      <td>0.286788</td>\n",
       "      <td>0.713212</td>\n",
       "    </tr>\n",
       "    <tr>\n",
       "      <th>4</th>\n",
       "      <td>0.233647</td>\n",
       "      <td>0.766353</td>\n",
       "    </tr>\n",
       "  </tbody>\n",
       "</table>\n",
       "</div>"
      ],
      "text/plain": [
       "          0         1\n",
       "0  0.274512  0.725488\n",
       "1  0.694425  0.305575\n",
       "2  0.337056  0.662944\n",
       "3  0.286788  0.713212\n",
       "4  0.233647  0.766353"
      ]
     },
     "execution_count": 28,
     "metadata": {},
     "output_type": "execute_result"
    }
   ],
   "source": [
    "ytest_predict_prob=model.predict_proba(X_test)\n",
    "pd.DataFrame(ytest_predict_prob).head()"
   ]
  },
  {
   "cell_type": "code",
   "execution_count": 29,
   "id": "a025c135",
   "metadata": {},
   "outputs": [
    {
     "data": {
      "text/plain": [
       "0.683076923076923"
      ]
     },
     "execution_count": 29,
     "metadata": {},
     "output_type": "execute_result"
    }
   ],
   "source": [
    "# Accuracy - Training Data\n",
    "model.score(X_train, y_train)"
   ]
  },
  {
   "cell_type": "code",
   "execution_count": 30,
   "id": "a58c590c",
   "metadata": {},
   "outputs": [
    {
     "name": "stdout",
     "output_type": "stream",
     "text": [
      "AUC: 0.722\n"
     ]
    },
    {
     "data": {
      "image/png": "[encoded data removed]",
      "text/plain": [
       "<Figure size 432x288 with 1 Axes>"
      ]
     },
     "metadata": {
      "needs_background": "light"
     },
     "output_type": "display_data"
    }
   ],
   "source": [
    "# predict probabilities\n",
    "probs = model.predict_proba(X_train)\n",
    "# keep probabilities for the positive outcome only\n",
    "probs = probs[:, 1]\n",
    "# calculate AUC\n",
    "auc = roc_auc_score(y_train, probs)\n",
    "print('AUC: %.3f' % auc)\n",
    "# calculate roc curve\n",
    "train_fpr, train_tpr, train_thresholds = roc_curve(y_train, probs)\n",
    "plt.plot([0, 1], [0, 1], linestyle='--')\n",
    "# plot the roc curve for the model\n",
    "plt.plot(train_fpr, train_tpr);"
   ]
  },
  {
   "cell_type": "code",
   "execution_count": 31,
   "id": "752e36b3",
   "metadata": {},
   "outputs": [
    {
     "data": {
      "text/plain": [
       "0.6363636363636364"
      ]
     },
     "execution_count": 31,
     "metadata": {},
     "output_type": "execute_result"
    }
   ],
   "source": [
    "# Accuracy - Test Data\n",
    "model.score(X_test, y_test)"
   ]
  },
  {
   "cell_type": "code",
   "execution_count": 32,
   "id": "bc0bf0b4",
   "metadata": {},
   "outputs": [
    {
     "name": "stdout",
     "output_type": "stream",
     "text": [
      "AUC: 0.722\n"
     ]
    },
    {
     "data": {
      "image/png": "[encoded data removed]",
      "text/plain": [
       "<Figure size 432x288 with 1 Axes>"
      ]
     },
     "metadata": {
      "needs_background": "light"
     },
     "output_type": "display_data"
    }
   ],
   "source": [
    "# predict probabilities\n",
    "probs = model.predict_proba(X_test)\n",
    "# keep probabilities for the positive outcome only\n",
    "probs = probs[:, 1]\n",
    "# calculate AUC\n",
    "test_auc = roc_auc_score(y_test, probs)\n",
    "print('AUC: %.3f' % auc)\n",
    "# calculate roc curve\n",
    "test_fpr, test_tpr, test_thresholds = roc_curve(y_test, probs)\n",
    "plt.plot([0, 1], [0, 1], linestyle='--')\n",
    "# plot the roc curve for the model\n",
    "plt.plot(test_fpr, test_tpr);"
   ]
  },
  {
   "cell_type": "code",
   "execution_count": 33,
   "id": "a98c4b24",
   "metadata": {},
   "outputs": [
    {
     "data": {
      "text/plain": [
       "array([[239, 191],\n",
       "       [118, 427]], dtype=int64)"
      ]
     },
     "execution_count": 33,
     "metadata": {},
     "output_type": "execute_result"
    }
   ],
   "source": [
    "confusion_matrix(y_train, ytrain_predict)"
   ]
  },
  {
   "cell_type": "code",
   "execution_count": 34,
   "id": "15e6ed04",
   "metadata": {},
   "outputs": [
    {
     "name": "stderr",
     "output_type": "stream",
     "text": [
      "C:\\Users\\anand.rj\\Anaconda3\\lib\\site-packages\\sklearn\\utils\\deprecation.py:87: FutureWarning: Function plot_confusion_matrix is deprecated; Function `plot_confusion_matrix` is deprecated in 1.0 and will be removed in 1.2. Use one of the class methods: ConfusionMatrixDisplay.from_predictions or ConfusionMatrixDisplay.from_estimator.\n",
      "  warnings.warn(msg, category=FutureWarning)\n"
     ]
    },
    {
     "data": {
      "image/png": "[encoded data removed]",
      "text/plain": [
       "<Figure size 432x288 with 2 Axes>"
      ]
     },
     "metadata": {
      "needs_background": "light"
     },
     "output_type": "display_data"
    }
   ],
   "source": [
    "plot_confusion_matrix(model,X_train,y_train);"
   ]
  },
  {
   "cell_type": "code",
   "execution_count": 35,
   "id": "1de9d8ea",
   "metadata": {},
   "outputs": [
    {
     "name": "stdout",
     "output_type": "stream",
     "text": [
      "              precision    recall  f1-score   support\n",
      "\n",
      "           0       0.67      0.56      0.61       430\n",
      "           1       0.69      0.78      0.73       545\n",
      "\n",
      "    accuracy                           0.68       975\n",
      "   macro avg       0.68      0.67      0.67       975\n",
      "weighted avg       0.68      0.68      0.68       975\n",
      "\n"
     ]
    }
   ],
   "source": [
    "print(classification_report(y_train, ytrain_predict))"
   ]
  },
  {
   "cell_type": "code",
   "execution_count": 36,
   "id": "f5c26344",
   "metadata": {},
   "outputs": [
    {
     "data": {
      "text/plain": [
       "array([[ 83, 101],\n",
       "       [ 51, 183]], dtype=int64)"
      ]
     },
     "execution_count": 36,
     "metadata": {},
     "output_type": "execute_result"
    }
   ],
   "source": [
    "confusion_matrix(y_test, ytest_predict)"
   ]
  },
  {
   "cell_type": "code",
   "execution_count": 37,
   "id": "84b28d82",
   "metadata": {},
   "outputs": [
    {
     "name": "stderr",
     "output_type": "stream",
     "text": [
      "C:\\Users\\anand.rj\\Anaconda3\\lib\\site-packages\\sklearn\\utils\\deprecation.py:87: FutureWarning: Function plot_confusion_matrix is deprecated; Function `plot_confusion_matrix` is deprecated in 1.0 and will be removed in 1.2. Use one of the class methods: ConfusionMatrixDisplay.from_predictions or ConfusionMatrixDisplay.from_estimator.\n",
      "  warnings.warn(msg, category=FutureWarning)\n"
     ]
    },
    {
     "data": {
      "image/png": "[encoded data removed]",
      "text/plain": [
       "<Figure size 432x288 with 2 Axes>"
      ]
     },
     "metadata": {
      "needs_background": "light"
     },
     "output_type": "display_data"
    }
   ],
   "source": [
    "plot_confusion_matrix(model,X_test,y_test);"
   ]
  },
  {
   "cell_type": "code",
   "execution_count": 38,
   "id": "2fadb044",
   "metadata": {},
   "outputs": [
    {
     "name": "stdout",
     "output_type": "stream",
     "text": [
      "              precision    recall  f1-score   support\n",
      "\n",
      "           0       0.62      0.45      0.52       184\n",
      "           1       0.64      0.78      0.71       234\n",
      "\n",
      "    accuracy                           0.64       418\n",
      "   macro avg       0.63      0.62      0.61       418\n",
      "weighted avg       0.63      0.64      0.63       418\n",
      "\n"
     ]
    }
   ],
   "source": [
    "print(classification_report(y_test, ytest_predict))"
   ]
  },
  {
   "cell_type": "code",
   "execution_count": 39,
   "id": "fcaf0380",
   "metadata": {},
   "outputs": [],
   "source": [
    "grid={'penalty':['l2','none'],\n",
    "      'solver':['sag','lbfgs'],\n",
    "      'tol':[0.0001,0.00001]}"
   ]
  },
  {
   "cell_type": "code",
   "execution_count": 40,
   "id": "190a7bf1",
   "metadata": {},
   "outputs": [],
   "source": [
    "model = LogisticRegression(max_iter=10000,n_jobs=2)"
   ]
  },
  {
   "cell_type": "code",
   "execution_count": 41,
   "id": "a1109564",
   "metadata": {},
   "outputs": [],
   "source": [
    "grid_search = GridSearchCV(estimator = model, param_grid = grid, cv = 3,n_jobs=-1,scoring='f1')"
   ]
  },
  {
   "cell_type": "code",
   "execution_count": 42,
   "id": "eac5630b",
   "metadata": {},
   "outputs": [
    {
     "data": {
      "text/plain": [
       "GridSearchCV(cv=3, estimator=LogisticRegression(max_iter=10000, n_jobs=2),\n",
       "             n_jobs=-1,\n",
       "             param_grid={'penalty': ['l2', 'none'], 'solver': ['sag', 'lbfgs'],\n",
       "                         'tol': [0.0001, 1e-05]},\n",
       "             scoring='f1')"
      ]
     },
     "execution_count": 42,
     "metadata": {},
     "output_type": "execute_result"
    }
   ],
   "source": [
    "grid_search.fit(X_train, y_train)"
   ]
  },
  {
   "cell_type": "code",
   "execution_count": 43,
   "id": "50c1873c",
   "metadata": {},
   "outputs": [
    {
     "name": "stdout",
     "output_type": "stream",
     "text": [
      "{'penalty': 'none', 'solver': 'sag', 'tol': 1e-05} \n",
      "\n",
      "LogisticRegression(max_iter=10000, n_jobs=2, penalty='none', solver='sag',\n",
      "                   tol=1e-05)\n"
     ]
    }
   ],
   "source": [
    "print(grid_search.best_params_,'\\n')\n",
    "print(grid_search.best_estimator_)"
   ]
  },
  {
   "cell_type": "code",
   "execution_count": 44,
   "id": "3c286186",
   "metadata": {},
   "outputs": [],
   "source": [
    "best_model = grid_search.best_estimator_"
   ]
  },
  {
   "cell_type": "code",
   "execution_count": 45,
   "id": "6da0ba64",
   "metadata": {},
   "outputs": [],
   "source": [
    "# Prediction on the training set\n",
    "\n",
    "ytrain_predict = best_model.predict(X_train)\n",
    "ytest_predict = best_model.predict(X_test)"
   ]
  },
  {
   "cell_type": "code",
   "execution_count": 46,
   "id": "57250bac",
   "metadata": {},
   "outputs": [
    {
     "data": {
      "text/html": [
       "<div>\n",
       "<style scoped>\n",
       "    .dataframe tbody tr th:only-of-type {\n",
       "        vertical-align: middle;\n",
       "    }\n",
       "\n",
       "    .dataframe tbody tr th {\n",
       "        vertical-align: top;\n",
       "    }\n",
       "\n",
       "    .dataframe thead th {\n",
       "        text-align: right;\n",
       "    }\n",
       "</style>\n",
       "<table border=\"1\" class=\"dataframe\">\n",
       "  <thead>\n",
       "    <tr style=\"text-align: right;\">\n",
       "      <th></th>\n",
       "      <th>0</th>\n",
       "      <th>1</th>\n",
       "    </tr>\n",
       "  </thead>\n",
       "  <tbody>\n",
       "    <tr>\n",
       "      <th>0</th>\n",
       "      <td>0.275043</td>\n",
       "      <td>0.724957</td>\n",
       "    </tr>\n",
       "    <tr>\n",
       "      <th>1</th>\n",
       "      <td>0.695035</td>\n",
       "      <td>0.304965</td>\n",
       "    </tr>\n",
       "    <tr>\n",
       "      <th>2</th>\n",
       "      <td>0.337206</td>\n",
       "      <td>0.662794</td>\n",
       "    </tr>\n",
       "    <tr>\n",
       "      <th>3</th>\n",
       "      <td>0.287261</td>\n",
       "      <td>0.712739</td>\n",
       "    </tr>\n",
       "    <tr>\n",
       "      <th>4</th>\n",
       "      <td>0.234041</td>\n",
       "      <td>0.765959</td>\n",
       "    </tr>\n",
       "  </tbody>\n",
       "</table>\n",
       "</div>"
      ],
      "text/plain": [
       "          0         1\n",
       "0  0.275043  0.724957\n",
       "1  0.695035  0.304965\n",
       "2  0.337206  0.662794\n",
       "3  0.287261  0.712739\n",
       "4  0.234041  0.765959"
      ]
     },
     "execution_count": 46,
     "metadata": {},
     "output_type": "execute_result"
    }
   ],
   "source": [
    "## Getting the probabilities on the test set\n",
    "\n",
    "ytest_predict_prob=best_model.predict_proba(X_test)\n",
    "pd.DataFrame(ytest_predict_prob).head()"
   ]
  },
  {
   "cell_type": "code",
   "execution_count": 47,
   "id": "4429a0bf",
   "metadata": {},
   "outputs": [
    {
     "name": "stdout",
     "output_type": "stream",
     "text": [
      "              precision    recall  f1-score   support\n",
      "\n",
      "           0       0.67      0.56      0.61       430\n",
      "           1       0.69      0.78      0.73       545\n",
      "\n",
      "    accuracy                           0.68       975\n",
      "   macro avg       0.68      0.67      0.67       975\n",
      "weighted avg       0.68      0.68      0.68       975\n",
      " \n",
      "\n"
     ]
    },
    {
     "name": "stderr",
     "output_type": "stream",
     "text": [
      "C:\\Users\\anand.rj\\Anaconda3\\lib\\site-packages\\sklearn\\utils\\deprecation.py:87: FutureWarning: Function plot_confusion_matrix is deprecated; Function `plot_confusion_matrix` is deprecated in 1.0 and will be removed in 1.2. Use one of the class methods: ConfusionMatrixDisplay.from_predictions or ConfusionMatrixDisplay.from_estimator.\n",
      "  warnings.warn(msg, category=FutureWarning)\n"
     ]
    },
    {
     "data": {
      "image/png": "[encoded data removed]",
      "text/plain": [
       "<Figure size 432x288 with 2 Axes>"
      ]
     },
     "metadata": {
      "needs_background": "light"
     },
     "output_type": "display_data"
    }
   ],
   "source": [
    "## Confusion matrix on the training data\n",
    "\n",
    "plot_confusion_matrix(best_model,X_train,y_train)\n",
    "print(classification_report(y_train, ytrain_predict),'\\n');"
   ]
  },
  {
   "cell_type": "code",
   "execution_count": 48,
   "id": "484d1d5a",
   "metadata": {},
   "outputs": [
    {
     "name": "stdout",
     "output_type": "stream",
     "text": [
      "              precision    recall  f1-score   support\n",
      "\n",
      "           0       0.62      0.45      0.52       184\n",
      "           1       0.64      0.78      0.71       234\n",
      "\n",
      "    accuracy                           0.64       418\n",
      "   macro avg       0.63      0.62      0.61       418\n",
      "weighted avg       0.63      0.64      0.63       418\n",
      " \n",
      "\n"
     ]
    },
    {
     "name": "stderr",
     "output_type": "stream",
     "text": [
      "C:\\Users\\anand.rj\\Anaconda3\\lib\\site-packages\\sklearn\\utils\\deprecation.py:87: FutureWarning: Function plot_confusion_matrix is deprecated; Function `plot_confusion_matrix` is deprecated in 1.0 and will be removed in 1.2. Use one of the class methods: ConfusionMatrixDisplay.from_predictions or ConfusionMatrixDisplay.from_estimator.\n",
      "  warnings.warn(msg, category=FutureWarning)\n"
     ]
    },
    {
     "data": {
      "image/png": "[encoded data removed]",
      "text/plain": [
       "<Figure size 432x288 with 2 Axes>"
      ]
     },
     "metadata": {
      "needs_background": "light"
     },
     "output_type": "display_data"
    }
   ],
   "source": [
    "## Confusion matrix on the test data\n",
    "\n",
    "plot_confusion_matrix(best_model,X_test,y_test)\n",
    "print(classification_report(y_test, ytest_predict),'\\n');"
   ]
  },
  {
   "cell_type": "markdown",
   "id": "1be21f75",
   "metadata": {},
   "source": [
    "# CONCLUSION\n",
    "Note:\n",
    "\n",
    "Precison: tells us how many predictions are actually positive out of all the total positive predicted.\n",
    "\n",
    "Recall: how many observations of positive class are actually predicted as positive. \n",
    "\n",
    "Inferences:\n",
    "For No contraceptive method (Label 0 ):\n",
    "\n",
    "Precision (62%) – 62% of married not use contrceptive method out of all the married women do not use contraceptive method.\n",
    "\n",
    "Recall (45%) – Out of all the married women who do not use contraceptive methods, 45% of womens have been predicted correctly .\n",
    "\n",
    "For contraceptive methods (Label 1 ):\n",
    "\n",
    "Precision (64%) – 64% of women predicted are actually having contraceptive out of all the womens predicted to have contraceptive method.\n",
    "\n",
    "Recall (78%) – Out of all the married actually having contraceptive , 78% of women have been predicted correctly .\n",
    "\n",
    "Overall accuracy of the model – 64 % of total predictions are correct\n",
    "Accuracy, AUC, Precision and Recall for test data is almost inline with training data. This proves no overfitting or underfitting has happened, and overall the model is a good model for classification\n"
   ]
  },
  {
   "cell_type": "markdown",
   "id": "ff17598a",
   "metadata": {},
   "source": [
    "# LDA"
   ]
  },
  {
   "cell_type": "code",
   "execution_count": 1,
   "id": "f74b1f39",
   "metadata": {},
   "outputs": [],
   "source": [
    "#Import all necessary modules\n",
    "import pandas as pd  \n",
    "import numpy as np \n",
    "import matplotlib.pyplot as plt \n",
    "import seaborn as sns\n",
    "from sklearn.discriminant_analysis import LinearDiscriminantAnalysis\n",
    "from sklearn import metrics,model_selection\n",
    "from sklearn.preprocessing import scale"
   ]
  },
  {
   "cell_type": "code",
   "execution_count": 2,
   "id": "a266ba26",
   "metadata": {},
   "outputs": [],
   "source": [
    "cell_df =pd.read_excel(\"Contraceptive_method_dataset.xlsx\")"
   ]
  },
  {
   "cell_type": "markdown",
   "id": "a9ac4a6f",
   "metadata": {},
   "source": [
    "EDA"
   ]
  },
  {
   "cell_type": "code",
   "execution_count": 4,
   "id": "726700e2",
   "metadata": {},
   "outputs": [
    {
     "data": {
      "text/html": [
       "<div>\n",
       "<style scoped>\n",
       "    .dataframe tbody tr th:only-of-type {\n",
       "        vertical-align: middle;\n",
       "    }\n",
       "\n",
       "    .dataframe tbody tr th {\n",
       "        vertical-align: top;\n",
       "    }\n",
       "\n",
       "    .dataframe thead th {\n",
       "        text-align: right;\n",
       "    }\n",
       "</style>\n",
       "<table border=\"1\" class=\"dataframe\">\n",
       "  <thead>\n",
       "    <tr style=\"text-align: right;\">\n",
       "      <th></th>\n",
       "      <th>Wife_age</th>\n",
       "      <th>Wife_ education</th>\n",
       "      <th>Husband_education</th>\n",
       "      <th>No_of_children_born</th>\n",
       "      <th>Wife_religion</th>\n",
       "      <th>Wife_Working</th>\n",
       "      <th>Husband_Occupation</th>\n",
       "      <th>Standard_of_living_index</th>\n",
       "      <th>Media_exposure</th>\n",
       "      <th>Contraceptive_method_used</th>\n",
       "    </tr>\n",
       "  </thead>\n",
       "  <tbody>\n",
       "    <tr>\n",
       "      <th>0</th>\n",
       "      <td>24.0</td>\n",
       "      <td>Primary</td>\n",
       "      <td>Secondary</td>\n",
       "      <td>3.0</td>\n",
       "      <td>Scientology</td>\n",
       "      <td>No</td>\n",
       "      <td>2</td>\n",
       "      <td>High</td>\n",
       "      <td>Exposed</td>\n",
       "      <td>No</td>\n",
       "    </tr>\n",
       "    <tr>\n",
       "      <th>1</th>\n",
       "      <td>45.0</td>\n",
       "      <td>Uneducated</td>\n",
       "      <td>Secondary</td>\n",
       "      <td>10.0</td>\n",
       "      <td>Scientology</td>\n",
       "      <td>No</td>\n",
       "      <td>3</td>\n",
       "      <td>Very High</td>\n",
       "      <td>Exposed</td>\n",
       "      <td>No</td>\n",
       "    </tr>\n",
       "    <tr>\n",
       "      <th>2</th>\n",
       "      <td>43.0</td>\n",
       "      <td>Primary</td>\n",
       "      <td>Secondary</td>\n",
       "      <td>7.0</td>\n",
       "      <td>Scientology</td>\n",
       "      <td>No</td>\n",
       "      <td>3</td>\n",
       "      <td>Very High</td>\n",
       "      <td>Exposed</td>\n",
       "      <td>No</td>\n",
       "    </tr>\n",
       "    <tr>\n",
       "      <th>3</th>\n",
       "      <td>42.0</td>\n",
       "      <td>Secondary</td>\n",
       "      <td>Primary</td>\n",
       "      <td>9.0</td>\n",
       "      <td>Scientology</td>\n",
       "      <td>No</td>\n",
       "      <td>3</td>\n",
       "      <td>High</td>\n",
       "      <td>Exposed</td>\n",
       "      <td>No</td>\n",
       "    </tr>\n",
       "    <tr>\n",
       "      <th>4</th>\n",
       "      <td>36.0</td>\n",
       "      <td>Secondary</td>\n",
       "      <td>Secondary</td>\n",
       "      <td>8.0</td>\n",
       "      <td>Scientology</td>\n",
       "      <td>No</td>\n",
       "      <td>3</td>\n",
       "      <td>Low</td>\n",
       "      <td>Exposed</td>\n",
       "      <td>No</td>\n",
       "    </tr>\n",
       "  </tbody>\n",
       "</table>\n",
       "</div>"
      ],
      "text/plain": [
       "   Wife_age Wife_ education Husband_education  No_of_children_born  \\\n",
       "0      24.0         Primary         Secondary                  3.0   \n",
       "1      45.0      Uneducated         Secondary                 10.0   \n",
       "2      43.0         Primary         Secondary                  7.0   \n",
       "3      42.0       Secondary           Primary                  9.0   \n",
       "4      36.0       Secondary         Secondary                  8.0   \n",
       "\n",
       "  Wife_religion Wife_Working  Husband_Occupation Standard_of_living_index  \\\n",
       "0   Scientology           No                   2                     High   \n",
       "1   Scientology           No                   3                Very High   \n",
       "2   Scientology           No                   3                Very High   \n",
       "3   Scientology           No                   3                     High   \n",
       "4   Scientology           No                   3                      Low   \n",
       "\n",
       "  Media_exposure  Contraceptive_method_used  \n",
       "0         Exposed                        No  \n",
       "1         Exposed                        No  \n",
       "2         Exposed                        No  \n",
       "3         Exposed                        No  \n",
       "4         Exposed                        No  "
      ]
     },
     "execution_count": 4,
     "metadata": {},
     "output_type": "execute_result"
    }
   ],
   "source": [
    "cell_df.head()"
   ]
  },
  {
   "cell_type": "code",
   "execution_count": 5,
   "id": "e45636c4",
   "metadata": {},
   "outputs": [
    {
     "name": "stdout",
     "output_type": "stream",
     "text": [
      "<class 'pandas.core.frame.DataFrame'>\n",
      "RangeIndex: 1473 entries, 0 to 1472\n",
      "Data columns (total 10 columns):\n",
      " #   Column                     Non-Null Count  Dtype  \n",
      "---  ------                     --------------  -----  \n",
      " 0   Wife_age                   1402 non-null   float64\n",
      " 1   Wife_ education            1473 non-null   object \n",
      " 2   Husband_education          1473 non-null   object \n",
      " 3   No_of_children_born        1452 non-null   float64\n",
      " 4   Wife_religion              1473 non-null   object \n",
      " 5   Wife_Working               1473 non-null   object \n",
      " 6   Husband_Occupation         1473 non-null   int64  \n",
      " 7   Standard_of_living_index   1473 non-null   object \n",
      " 8   Media_exposure             1473 non-null   object \n",
      " 9   Contraceptive_method_used  1473 non-null   object \n",
      "dtypes: float64(2), int64(1), object(7)\n",
      "memory usage: 115.2+ KB\n"
     ]
    }
   ],
   "source": [
    "cell_df.info()"
   ]
  },
  {
   "cell_type": "code",
   "execution_count": 6,
   "id": "e78162a0",
   "metadata": {},
   "outputs": [
    {
     "data": {
      "text/html": [
       "<div>\n",
       "<style scoped>\n",
       "    .dataframe tbody tr th:only-of-type {\n",
       "        vertical-align: middle;\n",
       "    }\n",
       "\n",
       "    .dataframe tbody tr th {\n",
       "        vertical-align: top;\n",
       "    }\n",
       "\n",
       "    .dataframe thead th {\n",
       "        text-align: right;\n",
       "    }\n",
       "</style>\n",
       "<table border=\"1\" class=\"dataframe\">\n",
       "  <thead>\n",
       "    <tr style=\"text-align: right;\">\n",
       "      <th></th>\n",
       "      <th>Wife_age</th>\n",
       "      <th>No_of_children_born</th>\n",
       "      <th>Husband_Occupation</th>\n",
       "    </tr>\n",
       "  </thead>\n",
       "  <tbody>\n",
       "    <tr>\n",
       "      <th>count</th>\n",
       "      <td>1402.000000</td>\n",
       "      <td>1452.000000</td>\n",
       "      <td>1473.000000</td>\n",
       "    </tr>\n",
       "    <tr>\n",
       "      <th>mean</th>\n",
       "      <td>32.606277</td>\n",
       "      <td>3.254132</td>\n",
       "      <td>2.137814</td>\n",
       "    </tr>\n",
       "    <tr>\n",
       "      <th>std</th>\n",
       "      <td>8.274927</td>\n",
       "      <td>2.365212</td>\n",
       "      <td>0.864857</td>\n",
       "    </tr>\n",
       "    <tr>\n",
       "      <th>min</th>\n",
       "      <td>16.000000</td>\n",
       "      <td>0.000000</td>\n",
       "      <td>1.000000</td>\n",
       "    </tr>\n",
       "    <tr>\n",
       "      <th>25%</th>\n",
       "      <td>26.000000</td>\n",
       "      <td>1.000000</td>\n",
       "      <td>1.000000</td>\n",
       "    </tr>\n",
       "    <tr>\n",
       "      <th>50%</th>\n",
       "      <td>32.000000</td>\n",
       "      <td>3.000000</td>\n",
       "      <td>2.000000</td>\n",
       "    </tr>\n",
       "    <tr>\n",
       "      <th>75%</th>\n",
       "      <td>39.000000</td>\n",
       "      <td>4.000000</td>\n",
       "      <td>3.000000</td>\n",
       "    </tr>\n",
       "    <tr>\n",
       "      <th>max</th>\n",
       "      <td>49.000000</td>\n",
       "      <td>16.000000</td>\n",
       "      <td>4.000000</td>\n",
       "    </tr>\n",
       "  </tbody>\n",
       "</table>\n",
       "</div>"
      ],
      "text/plain": [
       "          Wife_age  No_of_children_born  Husband_Occupation\n",
       "count  1402.000000          1452.000000         1473.000000\n",
       "mean     32.606277             3.254132            2.137814\n",
       "std       8.274927             2.365212            0.864857\n",
       "min      16.000000             0.000000            1.000000\n",
       "25%      26.000000             1.000000            1.000000\n",
       "50%      32.000000             3.000000            2.000000\n",
       "75%      39.000000             4.000000            3.000000\n",
       "max      49.000000            16.000000            4.000000"
      ]
     },
     "execution_count": 6,
     "metadata": {},
     "output_type": "execute_result"
    }
   ],
   "source": [
    "cell_df.describe()"
   ]
  },
  {
   "cell_type": "markdown",
   "id": "c544c088",
   "metadata": {},
   "source": [
    "# Check for the missing values"
   ]
  },
  {
   "cell_type": "code",
   "execution_count": 7,
   "id": "df646fdc",
   "metadata": {},
   "outputs": [
    {
     "data": {
      "text/plain": [
       "Wife_age                     71\n",
       "Wife_ education               0\n",
       "Husband_education             0\n",
       "No_of_children_born          21\n",
       "Wife_religion                 0\n",
       "Wife_Working                  0\n",
       "Husband_Occupation            0\n",
       "Standard_of_living_index      0\n",
       "Media_exposure                0\n",
       "Contraceptive_method_used     0\n",
       "dtype: int64"
      ]
     },
     "execution_count": 7,
     "metadata": {},
     "output_type": "execute_result"
    }
   ],
   "source": [
    "cell_df.isnull().sum()"
   ]
  },
  {
   "cell_type": "code",
   "execution_count": 8,
   "id": "92a55655",
   "metadata": {},
   "outputs": [
    {
     "name": "stdout",
     "output_type": "stream",
     "text": [
      "Wife_age\n",
      "25.0\n",
      "No_of_children_born\n",
      "2.0\n"
     ]
    },
    {
     "data": {
      "text/plain": [
       "Wife_age                     0\n",
       "Wife_ education              0\n",
       "Husband_education            0\n",
       "No_of_children_born          0\n",
       "Wife_religion                0\n",
       "Wife_Working                 0\n",
       "Husband_Occupation           0\n",
       "Standard_of_living_index     0\n",
       "Media_exposure               0\n",
       "Contraceptive_method_used    0\n",
       "dtype: int64"
      ]
     },
     "execution_count": 8,
     "metadata": {},
     "output_type": "execute_result"
    }
   ],
   "source": [
    "cols = ['Wife_age','No_of_children_born']\n",
    "for column in cols:\n",
    "    print(column)\n",
    "    mode_1 = cell_df[column].mode()[0]\n",
    "    print(mode_1)\n",
    "    cell_df[column].fillna(value=mode_1,inplace=True)\n",
    "    \n",
    "cell_df.isnull().sum()"
   ]
  },
  {
   "cell_type": "code",
   "execution_count": 9,
   "id": "2aa583bb",
   "metadata": {},
   "outputs": [
    {
     "data": {
      "text/plain": [
       "Wife_age                     0\n",
       "Wife_ education              0\n",
       "Husband_education            0\n",
       "No_of_children_born          0\n",
       "Wife_religion                0\n",
       "Wife_Working                 0\n",
       "Husband_Occupation           0\n",
       "Standard_of_living_index     0\n",
       "Media_exposure               0\n",
       "Contraceptive_method_used    0\n",
       "dtype: int64"
      ]
     },
     "execution_count": 9,
     "metadata": {},
     "output_type": "execute_result"
    }
   ],
   "source": [
    "cell_df.isnull().sum()"
   ]
  },
  {
   "cell_type": "code",
   "execution_count": 10,
   "id": "678588f2",
   "metadata": {},
   "outputs": [
    {
     "name": "stdout",
     "output_type": "stream",
     "text": [
      "Number of duplicate rows = 87\n"
     ]
    }
   ],
   "source": [
    "# Are there any duplicates ?\n",
    "dups = cell_df.duplicated()\n",
    "print('Number of duplicate rows = %d' % (dups.sum()))\n",
    "#df[dups]"
   ]
  },
  {
   "cell_type": "code",
   "execution_count": 11,
   "id": "fb50c8f4",
   "metadata": {},
   "outputs": [],
   "source": [
    "cell_df.drop_duplicates(inplace=True) "
   ]
  },
  {
   "cell_type": "code",
   "execution_count": 12,
   "id": "f2c54d6d",
   "metadata": {},
   "outputs": [
    {
     "name": "stdout",
     "output_type": "stream",
     "text": [
      "\n",
      "\n",
      "feature: Wife_ education\n",
      "['Primary', 'Uneducated', 'Secondary', 'Tertiary']\n",
      "Categories (4, object): ['Primary', 'Secondary', 'Tertiary', 'Uneducated']\n",
      "[0 3 1 2]\n",
      "\n",
      "\n",
      "feature: Husband_education\n",
      "['Secondary', 'Primary', 'Tertiary', 'Uneducated']\n",
      "Categories (4, object): ['Primary', 'Secondary', 'Tertiary', 'Uneducated']\n",
      "[1 0 2 3]\n",
      "\n",
      "\n",
      "feature: Wife_religion\n",
      "['Scientology', 'Non-Scientology']\n",
      "Categories (2, object): ['Non-Scientology', 'Scientology']\n",
      "[1 0]\n",
      "\n",
      "\n",
      "feature: Wife_Working\n",
      "['No', 'Yes']\n",
      "Categories (2, object): ['No', 'Yes']\n",
      "[0 1]\n",
      "\n",
      "\n",
      "feature: Standard_of_living_index\n",
      "['High', 'Very High', 'Low', 'Very Low']\n",
      "Categories (4, object): ['High', 'Low', 'Very High', 'Very Low']\n",
      "[0 2 1 3]\n",
      "\n",
      "\n",
      "feature: Media_exposure \n",
      "['Exposed', 'Not-Exposed']\n",
      "Categories (2, object): ['Exposed', 'Not-Exposed']\n",
      "[0 1]\n",
      "\n",
      "\n",
      "feature: Contraceptive_method_used\n",
      "['No', 'Yes']\n",
      "Categories (2, object): ['No', 'Yes']\n",
      "[0 1]\n"
     ]
    }
   ],
   "source": [
    "for feature in cell_df.columns: \n",
    "    if cell_df[feature].dtype == 'object': \n",
    "        print('\\n')\n",
    "        print('feature:',feature)\n",
    "        print(pd.Categorical(cell_df[feature].unique()))\n",
    "        print(pd.Categorical(cell_df[feature].unique()).codes)\n",
    "        cell_df[feature] = pd.Categorical(cell_df[feature]).codes"
   ]
  },
  {
   "cell_type": "markdown",
   "id": "c264c6f8",
   "metadata": {},
   "source": [
    "# Proportion in the target classes"
   ]
  },
  {
   "cell_type": "code",
   "execution_count": 13,
   "id": "6083172b",
   "metadata": {},
   "outputs": [
    {
     "data": {
      "text/plain": [
       "1    0.556999\n",
       "0    0.443001\n",
       "Name: Contraceptive_method_used, dtype: float64"
      ]
     },
     "execution_count": 13,
     "metadata": {},
     "output_type": "execute_result"
    }
   ],
   "source": [
    "cell_df.Contraceptive_method_used.value_counts(normalize=True)"
   ]
  },
  {
   "cell_type": "code",
   "execution_count": 14,
   "id": "72758895",
   "metadata": {},
   "outputs": [],
   "source": [
    "from pylab import rcParams"
   ]
  },
  {
   "cell_type": "code",
   "execution_count": 15,
   "id": "2851a92c",
   "metadata": {},
   "outputs": [],
   "source": [
    "rcParams['figure.figsize'] = 15,8"
   ]
  },
  {
   "cell_type": "code",
   "execution_count": 16,
   "id": "36a32bc0",
   "metadata": {},
   "outputs": [
    {
     "data": {
      "image/png": "[encoded data removed]",
      "text/plain": [
       "<Figure size 1080x576 with 4 Axes>"
      ]
     },
     "metadata": {
      "needs_background": "light"
     },
     "output_type": "display_data"
    }
   ],
   "source": [
    "cell_df[['Wife_age','No_of_children_born','Husband_Occupation']].hist();"
   ]
  },
  {
   "cell_type": "markdown",
   "id": "6a0370be",
   "metadata": {},
   "source": [
    "# Outlier Check"
   ]
  },
  {
   "cell_type": "code",
   "execution_count": 17,
   "id": "db830feb",
   "metadata": {},
   "outputs": [
    {
     "name": "stderr",
     "output_type": "stream",
     "text": [
      "C:\\Users\\anand.rj\\Anaconda3\\lib\\site-packages\\seaborn\\_decorators.py:36: FutureWarning: Pass the following variable as a keyword arg: x. From version 0.12, the only valid positional argument will be `data`, and passing other arguments without an explicit keyword will result in an error or misinterpretation.\n",
      "  warnings.warn(\n"
     ]
    },
    {
     "data": {
      "image/png": "[encoded data removed]",
      "text/plain": [
       "<Figure size 1080x576 with 1 Axes>"
      ]
     },
     "metadata": {
      "needs_background": "light"
     },
     "output_type": "display_data"
    },
    {
     "name": "stderr",
     "output_type": "stream",
     "text": [
      "C:\\Users\\anand.rj\\Anaconda3\\lib\\site-packages\\seaborn\\_decorators.py:36: FutureWarning: Pass the following variable as a keyword arg: x. From version 0.12, the only valid positional argument will be `data`, and passing other arguments without an explicit keyword will result in an error or misinterpretation.\n",
      "  warnings.warn(\n"
     ]
    },
    {
     "data": {
      "image/png": "[encoded data removed]",
      "text/plain": [
       "<Figure size 1080x576 with 1 Axes>"
      ]
     },
     "metadata": {
      "needs_background": "light"
     },
     "output_type": "display_data"
    },
    {
     "name": "stderr",
     "output_type": "stream",
     "text": [
      "C:\\Users\\anand.rj\\Anaconda3\\lib\\site-packages\\seaborn\\_decorators.py:36: FutureWarning: Pass the following variable as a keyword arg: x. From version 0.12, the only valid positional argument will be `data`, and passing other arguments without an explicit keyword will result in an error or misinterpretation.\n",
      "  warnings.warn(\n"
     ]
    },
    {
     "data": {
      "image/png": "[encoded data removed]",
      "text/plain": [
       "<Figure size 1080x576 with 1 Axes>"
      ]
     },
     "metadata": {
      "needs_background": "light"
     },
     "output_type": "display_data"
    }
   ],
   "source": [
    "cols=['Wife_age','No_of_children_born','Husband_Occupation'];\n",
    "\n",
    "for i in cols:\n",
    "    sns.boxplot(cell_df[i])\n",
    "    plt.show()"
   ]
  },
  {
   "cell_type": "markdown",
   "id": "43730022",
   "metadata": {},
   "source": [
    "# Train(70%)-Test(30%)Split"
   ]
  },
  {
   "cell_type": "code",
   "execution_count": 18,
   "id": "b59b5f67",
   "metadata": {},
   "outputs": [],
   "source": [
    "# Creating a copy of the original data frame\n",
    "df = cell_df.copy()"
   ]
  },
  {
   "cell_type": "code",
   "execution_count": 19,
   "id": "2d85596d",
   "metadata": {},
   "outputs": [
    {
     "data": {
      "text/html": [
       "<div>\n",
       "<style scoped>\n",
       "    .dataframe tbody tr th:only-of-type {\n",
       "        vertical-align: middle;\n",
       "    }\n",
       "\n",
       "    .dataframe tbody tr th {\n",
       "        vertical-align: top;\n",
       "    }\n",
       "\n",
       "    .dataframe thead th {\n",
       "        text-align: right;\n",
       "    }\n",
       "</style>\n",
       "<table border=\"1\" class=\"dataframe\">\n",
       "  <thead>\n",
       "    <tr style=\"text-align: right;\">\n",
       "      <th></th>\n",
       "      <th>Wife_age</th>\n",
       "      <th>Wife_ education</th>\n",
       "      <th>Husband_education</th>\n",
       "      <th>No_of_children_born</th>\n",
       "      <th>Wife_religion</th>\n",
       "      <th>Wife_Working</th>\n",
       "      <th>Husband_Occupation</th>\n",
       "      <th>Standard_of_living_index</th>\n",
       "      <th>Media_exposure</th>\n",
       "      <th>Contraceptive_method_used</th>\n",
       "    </tr>\n",
       "  </thead>\n",
       "  <tbody>\n",
       "    <tr>\n",
       "      <th>0</th>\n",
       "      <td>24.0</td>\n",
       "      <td>0</td>\n",
       "      <td>1</td>\n",
       "      <td>3.0</td>\n",
       "      <td>1</td>\n",
       "      <td>0</td>\n",
       "      <td>2</td>\n",
       "      <td>0</td>\n",
       "      <td>0</td>\n",
       "      <td>0</td>\n",
       "    </tr>\n",
       "    <tr>\n",
       "      <th>1</th>\n",
       "      <td>45.0</td>\n",
       "      <td>3</td>\n",
       "      <td>1</td>\n",
       "      <td>10.0</td>\n",
       "      <td>1</td>\n",
       "      <td>0</td>\n",
       "      <td>3</td>\n",
       "      <td>2</td>\n",
       "      <td>0</td>\n",
       "      <td>0</td>\n",
       "    </tr>\n",
       "    <tr>\n",
       "      <th>2</th>\n",
       "      <td>43.0</td>\n",
       "      <td>0</td>\n",
       "      <td>1</td>\n",
       "      <td>7.0</td>\n",
       "      <td>1</td>\n",
       "      <td>0</td>\n",
       "      <td>3</td>\n",
       "      <td>2</td>\n",
       "      <td>0</td>\n",
       "      <td>0</td>\n",
       "    </tr>\n",
       "    <tr>\n",
       "      <th>3</th>\n",
       "      <td>42.0</td>\n",
       "      <td>1</td>\n",
       "      <td>0</td>\n",
       "      <td>9.0</td>\n",
       "      <td>1</td>\n",
       "      <td>0</td>\n",
       "      <td>3</td>\n",
       "      <td>0</td>\n",
       "      <td>0</td>\n",
       "      <td>0</td>\n",
       "    </tr>\n",
       "    <tr>\n",
       "      <th>4</th>\n",
       "      <td>36.0</td>\n",
       "      <td>1</td>\n",
       "      <td>1</td>\n",
       "      <td>8.0</td>\n",
       "      <td>1</td>\n",
       "      <td>0</td>\n",
       "      <td>3</td>\n",
       "      <td>1</td>\n",
       "      <td>0</td>\n",
       "      <td>0</td>\n",
       "    </tr>\n",
       "  </tbody>\n",
       "</table>\n",
       "</div>"
      ],
      "text/plain": [
       "   Wife_age  Wife_ education  Husband_education  No_of_children_born  \\\n",
       "0      24.0                0                  1                  3.0   \n",
       "1      45.0                3                  1                 10.0   \n",
       "2      43.0                0                  1                  7.0   \n",
       "3      42.0                1                  0                  9.0   \n",
       "4      36.0                1                  1                  8.0   \n",
       "\n",
       "   Wife_religion  Wife_Working  Husband_Occupation  Standard_of_living_index  \\\n",
       "0              1             0                   2                         0   \n",
       "1              1             0                   3                         2   \n",
       "2              1             0                   3                         2   \n",
       "3              1             0                   3                         0   \n",
       "4              1             0                   3                         1   \n",
       "\n",
       "   Media_exposure   Contraceptive_method_used  \n",
       "0                0                          0  \n",
       "1                0                          0  \n",
       "2                0                          0  \n",
       "3                0                          0  \n",
       "4                0                          0  "
      ]
     },
     "execution_count": 19,
     "metadata": {},
     "output_type": "execute_result"
    }
   ],
   "source": [
    "df.head()"
   ]
  },
  {
   "cell_type": "code",
   "execution_count": 20,
   "id": "225afcae",
   "metadata": {},
   "outputs": [],
   "source": [
    "X = df.drop('Contraceptive_method_used',axis=1)\n",
    "Y = df.pop('Contraceptive_method_used')"
   ]
  },
  {
   "cell_type": "code",
   "execution_count": 21,
   "id": "edf5b627",
   "metadata": {},
   "outputs": [],
   "source": [
    "X_train,X_test,Y_train,Y_test = model_selection.train_test_split(X,Y,test_size=0.30,random_state=1,stratify = Y)"
   ]
  },
  {
   "cell_type": "code",
   "execution_count": 22,
   "id": "a0c9206c",
   "metadata": {},
   "outputs": [
    {
     "name": "stdout",
     "output_type": "stream",
     "text": [
      "Number of rows and columns of the training set for the independent variables: (970, 9)\n",
      "Number of rows and columns of the training set for the dependent variable: (970,)\n",
      "Number of rows and columns of the test set for the independent variables: (416, 9)\n",
      "Number of rows and columns of the test set for the dependent variable: (416,)\n"
     ]
    }
   ],
   "source": [
    "print('Number of rows and columns of the training set for the independent variables:',X_train.shape)\n",
    "print('Number of rows and columns of the training set for the dependent variable:',Y_train.shape)\n",
    "print('Number of rows and columns of the test set for the independent variables:',X_test.shape)\n",
    "print('Number of rows and columns of the test set for the dependent variable:',Y_test.shape)"
   ]
  },
  {
   "cell_type": "markdown",
   "id": "7d26d463",
   "metadata": {},
   "source": [
    "# LDA Model"
   ]
  },
  {
   "cell_type": "code",
   "execution_count": 23,
   "id": "48602738",
   "metadata": {},
   "outputs": [],
   "source": [
    "#Build LDA Model\n",
    "clf = LinearDiscriminantAnalysis()\n",
    "model=clf.fit(X_train,Y_train)"
   ]
  },
  {
   "cell_type": "code",
   "execution_count": 24,
   "id": "206d5e0a",
   "metadata": {},
   "outputs": [
    {
     "data": {
      "text/plain": [
       "array([2.12191175])"
      ]
     },
     "execution_count": 24,
     "metadata": {},
     "output_type": "execute_result"
    }
   ],
   "source": [
    "#intercept value\n",
    "clf.intercept_ "
   ]
  },
  {
   "cell_type": "code",
   "execution_count": 25,
   "id": "60a1d94a",
   "metadata": {},
   "outputs": [
    {
     "data": {
      "text/plain": [
       "array([[-0.08554918,  0.17491059,  0.29407657,  0.3060997 , -0.77315667,\n",
       "        -0.095835  , -0.03558419,  0.03201073, -1.0081938 ]])"
      ]
     },
     "execution_count": 25,
     "metadata": {},
     "output_type": "execute_result"
    }
   ],
   "source": [
    "#coefficients for the Linear Discriminant Function\n",
    "clf.coef_"
   ]
  },
  {
   "cell_type": "code",
   "execution_count": 26,
   "id": "f58b5108",
   "metadata": {},
   "outputs": [
    {
     "data": {
      "text/plain": [
       "Index(['Wife_age', 'Wife_ education', 'Husband_education',\n",
       "       'No_of_children_born', 'Wife_religion', 'Wife_Working',\n",
       "       'Husband_Occupation', 'Standard_of_living_index', 'Media_exposure '],\n",
       "      dtype='object')"
      ]
     },
     "execution_count": 26,
     "metadata": {},
     "output_type": "execute_result"
    }
   ],
   "source": [
    "X_train.columns"
   ]
  },
  {
   "cell_type": "code",
   "execution_count": 27,
   "id": "ff155362",
   "metadata": {},
   "outputs": [
    {
     "data": {
      "text/plain": [
       "array([[-0.09,  0.17,  0.29,  0.31, -0.77, -0.1 , -0.04,  0.03, -1.01]])"
      ]
     },
     "execution_count": 27,
     "metadata": {},
     "output_type": "execute_result"
    }
   ],
   "source": [
    "a=clf.coef_\n",
    "np.round(a,2) # rounded up coefficients "
   ]
  },
  {
   "cell_type": "code",
   "execution_count": 28,
   "id": "243cd8d3",
   "metadata": {},
   "outputs": [],
   "source": [
    "# Training Data Class Prediction with a cut-off value of 0.5\n",
    "pred_class_train = model.predict(X_train)\n",
    "\n",
    "# Test Data Class Prediction with a cut-off value of 0.5\n",
    "pred_class_test = model.predict(X_test)"
   ]
  },
  {
   "cell_type": "code",
   "execution_count": 29,
   "id": "b778d837",
   "metadata": {},
   "outputs": [
    {
     "data": {
      "image/png": "[encoded data removed]",
      "text/plain": [
       "<Figure size 1080x576 with 4 Axes>"
      ]
     },
     "metadata": {
      "needs_background": "light"
     },
     "output_type": "display_data"
    }
   ],
   "source": [
    "f,a =  plt.subplots(1,2,sharex=True,sharey=True,squeeze=False)\n",
    "\n",
    "#Plotting confusion matrix for the different models for the Training Data\n",
    "\n",
    "plot_0 = sns.heatmap((metrics.confusion_matrix(Y_train,pred_class_train)),annot=True,fmt='.5g',cmap='Greys',ax=a[0][0]);\n",
    "a[0][0].set_title('Training Data')\n",
    "\n",
    "plot_1 = sns.heatmap((metrics.confusion_matrix(Y_test,pred_class_test)),annot=True,fmt='.5g',cmap='Greys',ax=a[0][1]);\n",
    "a[0][1].set_title('Test Data');"
   ]
  },
  {
   "cell_type": "code",
   "execution_count": 30,
   "id": "af6269aa",
   "metadata": {},
   "outputs": [
    {
     "name": "stdout",
     "output_type": "stream",
     "text": [
      "Classification Report of the training data:\n",
      "\n",
      "               precision    recall  f1-score   support\n",
      "\n",
      "           0       0.64      0.47      0.55       430\n",
      "           1       0.65      0.79      0.72       540\n",
      "\n",
      "    accuracy                           0.65       970\n",
      "   macro avg       0.65      0.63      0.63       970\n",
      "weighted avg       0.65      0.65      0.64       970\n",
      " \n",
      "\n",
      "Classification Report of the test data:\n",
      "\n",
      "               precision    recall  f1-score   support\n",
      "\n",
      "           0       0.64      0.43      0.52       184\n",
      "           1       0.64      0.81      0.72       232\n",
      "\n",
      "    accuracy                           0.64       416\n",
      "   macro avg       0.64      0.62      0.62       416\n",
      "weighted avg       0.64      0.64      0.63       416\n",
      " \n",
      "\n"
     ]
    }
   ],
   "source": [
    "print('Classification Report of the training data:\\n\\n',metrics.classification_report(Y_train,pred_class_train),'\\n')\n",
    "print('Classification Report of the test data:\\n\\n',metrics.classification_report(Y_test,pred_class_test),'\\n')"
   ]
  },
  {
   "cell_type": "code",
   "execution_count": 31,
   "id": "37b4e90b",
   "metadata": {},
   "outputs": [],
   "source": [
    "# Training Data Probability Prediction\n",
    "pred_prob_train = model.predict_proba(X_train)\n",
    "\n",
    "# Test Data Probability Prediction\n",
    "pred_prob_test = model.predict_proba(X_test)"
   ]
  },
  {
   "cell_type": "code",
   "execution_count": 32,
   "id": "e949b3b2",
   "metadata": {},
   "outputs": [
    {
     "data": {
      "text/plain": [
       "array([0.66251004, 0.51793477, 0.82172985, 0.64022239, 0.58332255,\n",
       "       0.52603721, 0.58601199, 0.46887319, 0.17219777, 0.77187582,\n",
       "       0.17470455, 0.66883867, 0.664911  , 0.52640946, 0.56294243,\n",
       "       0.68150833, 0.15097366, 0.76062114, 0.21502716, 0.64077855,\n",
       "       0.53936593, 0.45671549, 0.62769273, 0.70943732, 0.39600853,\n",
       "       0.64499514, 0.7657118 , 0.56735476, 0.34668456, 0.43151529,\n",
       "       0.35923579, 0.81470007, 0.54465749, 0.38437153, 0.56954106,\n",
       "       0.69485986, 0.63891018, 0.49040551, 0.69524023, 0.5720721 ,\n",
       "       0.67677625, 0.46542118, 0.67582942, 0.58023652, 0.73715383,\n",
       "       0.68202816, 0.61625037, 0.58367491, 0.54457092, 0.49131114,\n",
       "       0.45956413, 0.65061609, 0.5274188 , 0.70387616, 0.61468865,\n",
       "       0.53796012, 0.62562352, 0.67504604, 0.59261686, 0.54146238,\n",
       "       0.70452168, 0.57247682, 0.77698893, 0.4345579 , 0.2233688 ,\n",
       "       0.61834674, 0.31856081, 0.45970027, 0.70859427, 0.48438137,\n",
       "       0.67973181, 0.52478387, 0.39246168, 0.62750189, 0.72317141,\n",
       "       0.47272456, 0.58444714, 0.56072813, 0.73973329, 0.62040335,\n",
       "       0.74727691, 0.7558475 , 0.74382398, 0.51703144, 0.50801159,\n",
       "       0.45222154, 0.67995504, 0.4294777 , 0.24096228, 0.37258215,\n",
       "       0.50492974, 0.49598383, 0.39348348, 0.26749224, 0.6527933 ,\n",
       "       0.21543534, 0.39897129, 0.62966383, 0.71934861, 0.66147432,\n",
       "       0.57484962, 0.67204925, 0.56822151, 0.8001846 , 0.76037873,\n",
       "       0.51346905, 0.55391522, 0.56934021, 0.29141131, 0.6966783 ,\n",
       "       0.47739003, 0.61428925, 0.2028231 , 0.61415803, 0.67132394,\n",
       "       0.66871658, 0.6085228 , 0.21010681, 0.44826034, 0.70376926,\n",
       "       0.49941427, 0.59552612, 0.50152518, 0.63305473, 0.43825689,\n",
       "       0.87192635, 0.67655185, 0.80086678, 0.58419085, 0.62277106,\n",
       "       0.52036405, 0.66586542, 0.7191415 , 0.69439189, 0.30183132,\n",
       "       0.39667523, 0.18950667, 0.68632132, 0.58374078, 0.64542898,\n",
       "       0.5429346 , 0.48989738, 0.6217347 , 0.47760764, 0.71600667,\n",
       "       0.56966678, 0.64456284, 0.38174444, 0.48238581, 0.56541495,\n",
       "       0.28731118, 0.83090374, 0.55875237, 0.14612489, 0.25044658,\n",
       "       0.41207607, 0.64048707, 0.5055976 , 0.65820093, 0.75042986,\n",
       "       0.67289668, 0.72303099, 0.58653811, 0.68354997, 0.31850132,\n",
       "       0.5348531 , 0.41956679, 0.31058612, 0.18871554, 0.52452447,\n",
       "       0.59248452, 0.47293526, 0.75912994, 0.55140808, 0.2524733 ,\n",
       "       0.73874166, 0.80981368, 0.69501073, 0.53532157, 0.46671964,\n",
       "       0.61907082, 0.42777493, 0.45321568, 0.83358422, 0.45301518,\n",
       "       0.52603721, 0.45631082, 0.65454229, 0.69335676, 0.63827791,\n",
       "       0.39226149, 0.7038086 , 0.33027518, 0.62402825, 0.59675476,\n",
       "       0.67362249, 0.36369429, 0.64322373, 0.45144076, 0.64433998,\n",
       "       0.64787813, 0.92015891, 0.5759438 , 0.49307823, 0.27847185,\n",
       "       0.64150174, 0.59870136, 0.61108483, 0.52812585, 0.52547286,\n",
       "       0.46052939, 0.49320641, 0.49654416, 0.48872973, 0.70561592,\n",
       "       0.79142781, 0.71005815, 0.72637426, 0.8091107 , 0.53837916,\n",
       "       0.67768491, 0.64139896, 0.47441252, 0.69155861, 0.6149026 ,\n",
       "       0.54281825, 0.75655033, 0.67677625, 0.25097005, 0.65866094,\n",
       "       0.67740124, 0.6212078 , 0.65855227, 0.37953628, 0.32302014,\n",
       "       0.56648607, 0.69960083, 0.53640605, 0.41105646, 0.39936966,\n",
       "       0.73652349, 0.50462624, 0.57563494, 0.58784047, 0.72939538,\n",
       "       0.64731378, 0.56940593, 0.5511216 , 0.61364813, 0.31524105,\n",
       "       0.66575132, 0.76554261, 0.72884297, 0.63665455, 0.54896326,\n",
       "       0.93615098, 0.54920542, 0.46732895, 0.26744546, 0.69184266,\n",
       "       0.33279042, 0.5291726 , 0.19847584, 0.27813859, 0.41595636,\n",
       "       0.71875468, 0.63506998, 0.73703792, 0.77584884, 0.66235052,\n",
       "       0.5225314 , 0.37682541, 0.34813728, 0.35479705, 0.58049352,\n",
       "       0.07224855, 0.42602426, 0.3690009 , 0.67398582, 0.76413734,\n",
       "       0.70606382, 0.73608606, 0.85023861, 0.43566343, 0.44644238,\n",
       "       0.58348369, 0.43914855, 0.65778676, 0.66404466, 0.74189917,\n",
       "       0.51871687, 0.1335827 , 0.55169375, 0.60111492, 0.56935892,\n",
       "       0.63495112, 0.51690339, 0.54992332, 0.68062072, 0.55219344,\n",
       "       0.50235843, 0.49359836, 0.80229269, 0.52849559, 0.78669972,\n",
       "       0.48004717, 0.19433145, 0.70410556, 0.4705667 , 0.6106067 ,\n",
       "       0.32054929, 0.28919165, 0.61895278, 0.71397404, 0.74780192,\n",
       "       0.49885471, 0.69599869, 0.51604043, 0.80493131, 0.39382891,\n",
       "       0.5592212 , 0.57181123, 0.77659289, 0.27410899, 0.62774852,\n",
       "       0.81541671, 0.68688061, 0.79433124, 0.59661508, 0.52009259,\n",
       "       0.53138008, 0.791563  , 0.41407523, 0.69428305, 0.33922523,\n",
       "       0.53141088, 0.74745941, 0.29539127, 0.27687697, 0.57626263,\n",
       "       0.7111899 , 0.78321416, 0.3718908 , 0.6910316 , 0.56254863,\n",
       "       0.71013392, 0.69618889, 0.40449295, 0.85774975, 0.53063912,\n",
       "       0.46114742, 0.73418946, 0.37732626, 0.39771924, 0.68315078,\n",
       "       0.65917158, 0.36176778, 0.74927254, 0.79529033, 0.62679314,\n",
       "       0.57682306, 0.61422226, 0.32846152, 0.73369024, 0.69725842,\n",
       "       0.48874368, 0.60136792, 0.60117008, 0.40872043, 0.0752019 ,\n",
       "       0.13779289, 0.57568605, 0.32502001, 0.54547019, 0.6333566 ,\n",
       "       0.7873002 , 0.70049357, 0.79185053, 0.52821172, 0.45169262,\n",
       "       0.82803235, 0.6624586 , 0.24765842, 0.48160575, 0.7168533 ,\n",
       "       0.56320345, 0.49866602, 0.67120849, 0.62565178, 0.55226782,\n",
       "       0.88215893, 0.59242897, 0.65353635, 0.61039018, 0.42307871,\n",
       "       0.38480817, 0.44079072, 0.70855288, 0.78901756, 0.72306873,\n",
       "       0.67373522, 0.65851973, 0.58154745, 0.55149846, 0.46228934,\n",
       "       0.54165774, 0.66793296, 0.59326031, 0.39680792, 0.51434333,\n",
       "       0.49641663, 0.88246115, 0.72380848, 0.34579212, 0.7354916 ,\n",
       "       0.54532225, 0.47588653, 0.81350455, 0.59873613, 0.73368447,\n",
       "       0.90244101, 0.48151049, 0.61125298, 0.73175152, 0.22018138,\n",
       "       0.65411499, 0.20447825, 0.24904144, 0.66814077, 0.36921911,\n",
       "       0.70258052, 0.1459668 , 0.61643644, 0.86225229, 0.16301894,\n",
       "       0.38650351, 0.37176888, 0.49578637, 0.50223023, 0.42946978,\n",
       "       0.70862652, 0.66495566, 0.50391925, 0.74964807, 0.73354359,\n",
       "       0.73369024, 0.76106065, 0.53314577, 0.58049206, 0.32322699,\n",
       "       0.68627373, 0.53703228, 0.70086994, 0.26965519, 0.54037885,\n",
       "       0.70297388, 0.67717059, 0.58127455, 0.14511028, 0.4983599 ,\n",
       "       0.45326278, 0.52573449, 0.57391765, 0.7019979 , 0.57018868,\n",
       "       0.55591702, 0.30167297, 0.77841403, 0.6165399 , 0.83687653,\n",
       "       0.53841648, 0.58460098, 0.47095589, 0.6297834 , 0.90383205,\n",
       "       0.34460626, 0.13831635, 0.71869927, 0.48911903, 0.84484943,\n",
       "       0.54166577, 0.56099953, 0.517158  , 0.45372698, 0.74321106,\n",
       "       0.65452299, 0.59557375, 0.5936606 , 0.57300471, 0.49988289,\n",
       "       0.57951749, 0.40406075, 0.58081786, 0.32917085, 0.63467854,\n",
       "       0.4849798 , 0.84626942, 0.51330408, 0.56259502, 0.26860215,\n",
       "       0.68379787, 0.59273214, 0.62514843, 0.60312795, 0.57446288,\n",
       "       0.72148435, 0.64965845, 0.85917764, 0.32968515, 0.36930217,\n",
       "       0.59971956, 0.58248093, 0.56811414, 0.49329488, 0.71157023,\n",
       "       0.52461918, 0.33883592, 0.58957983, 0.72396516, 0.25695381,\n",
       "       0.75106104, 0.64751902, 0.39785127, 0.49359836, 0.35889801,\n",
       "       0.56119192, 0.44254087, 0.64163483, 0.57888426, 0.21255425,\n",
       "       0.57165612, 0.40300423, 0.32278716, 0.6183113 , 0.3965074 ,\n",
       "       0.15872188, 0.69448255, 0.67452215, 0.47414873, 0.81354077,\n",
       "       0.58398998, 0.5674683 , 0.66454452, 0.69736666, 0.49896669,\n",
       "       0.89481928, 0.6689855 , 0.58637298, 0.51907042, 0.37035408,\n",
       "       0.40042809, 0.64694535, 0.77828389, 0.84990865, 0.62462998,\n",
       "       0.57154353, 0.54763766, 0.68039962, 0.41137114, 0.28094607,\n",
       "       0.65997396, 0.77658164, 0.2601936 , 0.63114089, 0.56835752,\n",
       "       0.78549301, 0.62754595, 0.51038843, 0.47508611, 0.76316734,\n",
       "       0.78038618, 0.28422144, 0.75667948, 0.48649199, 0.72702336,\n",
       "       0.77433477, 0.73791176, 0.71223875, 0.71659602, 0.72848666,\n",
       "       0.53029414, 0.13353562, 0.67624186, 0.41982234, 0.874797  ,\n",
       "       0.49002553, 0.65298657, 0.62366381, 0.50811843, 0.29989716,\n",
       "       0.43948609, 0.22710173, 0.53420925, 0.36399381, 0.62132847,\n",
       "       0.34832991, 0.59442006, 0.69411785, 0.26175617, 0.59531955,\n",
       "       0.61296555, 0.15115274, 0.77999653, 0.32565042, 0.52508665,\n",
       "       0.78457763, 0.48234049, 0.68798759, 0.55914243, 0.43203376,\n",
       "       0.72660203, 0.65669691, 0.77062947, 0.61242598, 0.6597901 ,\n",
       "       0.57422722, 0.47296473, 0.70628311, 0.13307849, 0.44419078,\n",
       "       0.7362858 , 0.84217481, 0.81332027, 0.70107111, 0.72788785,\n",
       "       0.38153441, 0.71536894, 0.51005407, 0.32681548, 0.72735868,\n",
       "       0.77584161, 0.73850493, 0.49876325, 0.45104924, 0.58139217,\n",
       "       0.66002753, 0.62888441, 0.56873198, 0.54555347, 0.83254276,\n",
       "       0.60423745, 0.41005975, 0.76349268, 0.60087894, 0.57472428,\n",
       "       0.46400659, 0.57258935, 0.1689851 , 0.63669885, 0.68822856,\n",
       "       0.67327929, 0.45003766, 0.60565491, 0.62678418, 0.49897995,\n",
       "       0.61829244, 0.75246795, 0.84411229, 0.37482984, 0.48103994,\n",
       "       0.725718  , 0.81724191, 0.11040381, 0.67713586, 0.40581805,\n",
       "       0.4351746 , 0.82812004, 0.51434483, 0.38143425, 0.27176589,\n",
       "       0.42672673, 0.38195795, 0.55136428, 0.49336338, 0.73899866,\n",
       "       0.38607602, 0.4717207 , 0.80640097, 0.36221356, 0.43139599,\n",
       "       0.65523598, 0.63358693, 0.68440835, 0.69666987, 0.58173641,\n",
       "       0.79848944, 0.82919839, 0.63197821, 0.40328141, 0.46860974,\n",
       "       0.49733835, 0.80450682, 0.59261895, 0.75021619, 0.44112056,\n",
       "       0.51339101, 0.40259333, 0.31314501, 0.24709565, 0.65298657,\n",
       "       0.22592701, 0.73728344, 0.12662767, 0.31948505, 0.75608723,\n",
       "       0.78786061, 0.33810609, 0.63518882, 0.71788763, 0.60021046,\n",
       "       0.62791239, 0.35960454, 0.50249404, 0.68351678, 0.62144911,\n",
       "       0.88500789, 0.63298356, 0.66955138, 0.75250692, 0.76088609,\n",
       "       0.73523868, 0.52922992, 0.07904367, 0.77552804, 0.58162095,\n",
       "       0.67331104, 0.25777249, 0.68049257, 0.39051477, 0.47090892,\n",
       "       0.5516916 , 0.49924444, 0.27646125, 0.47742229, 0.61931266,\n",
       "       0.56934952, 0.68259133, 0.24615357, 0.92963811, 0.67475379,\n",
       "       0.46726073, 0.44744446, 0.59408886, 0.57723635, 0.49606457,\n",
       "       0.37758874, 0.6554763 , 0.75620353, 0.71638944, 0.535665  ,\n",
       "       0.64296063, 0.90503932, 0.40116901, 0.54044907, 0.26474703,\n",
       "       0.78346024, 0.11485934, 0.71663851, 0.55491671, 0.59189882,\n",
       "       0.57165612, 0.68629911, 0.38715409, 0.59457989, 0.65546764,\n",
       "       0.65120371, 0.77448866, 0.65071321, 0.5272616 , 0.82165599,\n",
       "       0.65396702, 0.28105557, 0.75255795, 0.77628007, 0.3263348 ,\n",
       "       0.70175805, 0.31362731, 0.45372698, 0.71836433, 0.28999775,\n",
       "       0.61296555, 0.55195474, 0.63181508, 0.21598858, 0.71566107,\n",
       "       0.54082534, 0.55199402, 0.67182316, 0.37766697, 0.59123261,\n",
       "       0.57981332, 0.40438868, 0.8033112 , 0.69975073, 0.47444341,\n",
       "       0.82063971, 0.30301855, 0.62257474, 0.68368698, 0.55643711,\n",
       "       0.56709506, 0.62031034, 0.61709651, 0.46631188, 0.60205625,\n",
       "       0.73008331, 0.37329237, 0.66296453, 0.66154894, 0.52508665,\n",
       "       0.56947313, 0.45944769, 0.31280604, 0.5112526 , 0.80903148,\n",
       "       0.70418626, 0.43497178, 0.78660278, 0.73568162, 0.69406715,\n",
       "       0.4504662 , 0.15016886, 0.63006644, 0.63330115, 0.84302293,\n",
       "       0.50813977, 0.21659432, 0.18854816, 0.68899666, 0.8140046 ,\n",
       "       0.33197359, 0.37639291, 0.64752039, 0.63901964, 0.66890653,\n",
       "       0.18231924, 0.15888545, 0.61650123, 0.49974728, 0.47447049,\n",
       "       0.63863028, 0.41587762, 0.43097781, 0.66055675, 0.66798524,\n",
       "       0.38806938, 0.5396281 , 0.61649289, 0.53736345, 0.69108695,\n",
       "       0.64743085, 0.54159847, 0.49495276, 0.55568412, 0.57543296,\n",
       "       0.72122315, 0.64837178, 0.2082219 , 0.32661993, 0.66713922,\n",
       "       0.2264534 , 0.25937437, 0.65686633, 0.79078565, 0.5263708 ,\n",
       "       0.6253591 , 0.52735049, 0.95715602, 0.65465823, 0.53515263,\n",
       "       0.34344399, 0.26964623, 0.47200501, 0.89719334, 0.42169064,\n",
       "       0.54636147, 0.61834674, 0.65224564, 0.32352683, 0.5686775 ,\n",
       "       0.48060817, 0.32609318, 0.22628624, 0.65058793, 0.09280255,\n",
       "       0.51702994, 0.30676989, 0.50569699, 0.56373306, 0.53753121,\n",
       "       0.61139889, 0.39675995, 0.48506494, 0.42624731, 0.60991446,\n",
       "       0.71381996, 0.55744543, 0.19841586, 0.63615293, 0.65182733,\n",
       "       0.48196891, 0.75288541, 0.06821184, 0.72139139, 0.57726658,\n",
       "       0.62023818, 0.49918475, 0.37881168, 0.32020916, 0.55900657,\n",
       "       0.74590074, 0.45311962, 0.56280831, 0.59989079, 0.29629778,\n",
       "       0.39539968, 0.51627444, 0.68060217, 0.73211403, 0.58974144,\n",
       "       0.43544488, 0.58896213, 0.64792113, 0.59700154, 0.31983111,\n",
       "       0.61841347, 0.60979245, 0.76805614, 0.65287036, 0.59353689,\n",
       "       0.53249868, 0.607492  , 0.68673671, 0.74009569, 0.53834837,\n",
       "       0.71305802, 0.67554593, 0.85380384, 0.22465669, 0.65513356,\n",
       "       0.40234667, 0.67979335, 0.67638095, 0.67969077, 0.36394907,\n",
       "       0.78113911, 0.69446503, 0.58313014, 0.64775308, 0.07211542,\n",
       "       0.76475377, 0.55398294, 0.44973062, 0.48649199, 0.61501418,\n",
       "       0.66265827, 0.52936574, 0.584354  , 0.90930528, 0.36982642,\n",
       "       0.47063498, 0.64458239, 0.43139451, 0.32132939, 0.6006633 ,\n",
       "       0.58740941, 0.59353689, 0.28130619, 0.44610524, 0.8662737 ])"
      ]
     },
     "execution_count": 32,
     "metadata": {},
     "output_type": "execute_result"
    }
   ],
   "source": [
    "pred_prob_train[:,1]"
   ]
  },
  {
   "cell_type": "code",
   "execution_count": 33,
   "id": "7bca7999",
   "metadata": {},
   "outputs": [
    {
     "name": "stdout",
     "output_type": "stream",
     "text": [
      "AUC for the Training Data: 0.691\n",
      "AUC for the Test Data: 0.640\n"
     ]
    },
    {
     "data": {
      "image/png": "[encoded data removed]",
      "text/plain": [
       "<Figure size 1080x576 with 1 Axes>"
      ]
     },
     "metadata": {
      "needs_background": "light"
     },
     "output_type": "display_data"
    }
   ],
   "source": [
    "# AUC and ROC for the training data\n",
    "\n",
    "# calculate AUC\n",
    "auc = metrics.roc_auc_score(Y_train,pred_prob_train[:,1])\n",
    "print('AUC for the Training Data: %.3f' % auc)\n",
    "\n",
    "#  calculate roc curve\n",
    "fpr, tpr, thresholds = metrics.roc_curve(Y_train,pred_prob_train[:,1])\n",
    "plt.plot([0, 1], [0, 1], linestyle='--')\n",
    "# plot the roc curve for the model\n",
    "plt.plot(fpr, tpr, marker='.',label = 'Training Data')\n",
    "\n",
    "\n",
    "# AUC and ROC for the test data\n",
    "\n",
    "# calculate AUC\n",
    "auc = metrics.roc_auc_score(Y_test,pred_prob_test[:,1])\n",
    "print('AUC for the Test Data: %.3f' % auc)\n",
    "\n",
    "#  calculate roc curve\n",
    "fpr, tpr, thresholds = metrics.roc_curve(Y_test,pred_prob_test[:,1])\n",
    "plt.plot([0, 1], [0, 1], linestyle='--')\n",
    "# plot the roc curve for the model\n",
    "plt.plot(fpr, tpr, marker='.',label='Test Data')\n",
    "# show the plot\n",
    "plt.legend(loc='best')\n",
    "plt.show()"
   ]
  },
  {
   "cell_type": "markdown",
   "id": "7505c735",
   "metadata": {},
   "source": [
    "# Conclusion"
   ]
  },
  {
   "cell_type": "markdown",
   "id": "fdfe34f3",
   "metadata": {},
   "source": [
    "The model accuracy on the training as well as the test set is about 64%, which is roughly the same proportion as the class 0 and class 1 observations in the dataset. This model is affected by a class imbalance problem. Since we only have 1473 observations, if re-build the same LDA model with more number of data points, an even better model could be built.\n",
    "\n",
    "Please do go ahead ad try to build other classification algorithms learnt so far in the course and compare the performances of those."
   ]
  },
  {
   "cell_type": "markdown",
   "id": "06634f88",
   "metadata": {},
   "source": [
    "# Inference"
   ]
  },
  {
   "cell_type": "markdown",
   "id": "aa0705fb",
   "metadata": {},
   "source": [
    "Note :\n",
    "\n",
    "                                                 Precison : tells us how many predictions are actually positive\n",
    "\n",
    "                                                            out of all the total positive predicted.\n",
    "\n",
    "                                                 Recall   : how many observations of positive class are actually \n",
    "\n",
    "                                                            predicted as positive. "
   ]
  },
  {
   "cell_type": "markdown",
   "id": "37736afa",
   "metadata": {},
   "source": [
    "Inferences using the default value 0.5 for cut-off for test data\n",
    "\n",
    "For {Customer who didnot Churn (Label 0 )}:\n",
    "\n",
    "Precision (64%) – 64% of the married women not use Contraceptive method,out of all the married women.\n",
    "\n",
    "Recall (43%) – Out of all the women who will not use contraceptive method , 43% of women are not using the contraceptive method .\n",
    "\n",
    "For {Customer who did Churn (Label 1 )}:\n",
    "\n",
    "Precision (64%) – 64% of women who used contraceptive method are correctly predicted ,out of all the married women who used contraceptive method that are predicted .\n",
    "\n",
    "Recall (81%) – Out of all the married women who used contraceptive methods , 81% of married women who did used contraceptive methods have been predicted correctly .\n",
    "\n",
    "Overall accuracy of the model – 85 % of total predictions are correct\n",
    "\n",
    "Accuracy, AUC, Precision and Recall for test data is almost inline with training data. This proves no overfitting or underfitting has happened, and overall the model is a good model for classification\n",
    "\n",
    "END"
   ]
  },
  {
   "cell_type": "markdown",
   "id": "1053e370",
   "metadata": {},
   "source": [
    "# CART"
   ]
  },
  {
   "cell_type": "code",
   "execution_count": 34,
   "id": "be6ea519",
   "metadata": {},
   "outputs": [],
   "source": [
    "import numpy as np\n",
    "import pandas as pd\n",
    "from sklearn.tree import DecisionTreeClassifier"
   ]
  },
  {
   "cell_type": "code",
   "execution_count": 35,
   "id": "d898b175",
   "metadata": {},
   "outputs": [],
   "source": [
    "data_df =pd.read_excel(\"Contraceptive_method_dataset.xlsx\")"
   ]
  },
  {
   "cell_type": "markdown",
   "id": "ea03889f",
   "metadata": {},
   "source": [
    "Checking the data"
   ]
  },
  {
   "cell_type": "code",
   "execution_count": 36,
   "id": "0bab49ac",
   "metadata": {},
   "outputs": [
    {
     "data": {
      "text/html": [
       "<div>\n",
       "<style scoped>\n",
       "    .dataframe tbody tr th:only-of-type {\n",
       "        vertical-align: middle;\n",
       "    }\n",
       "\n",
       "    .dataframe tbody tr th {\n",
       "        vertical-align: top;\n",
       "    }\n",
       "\n",
       "    .dataframe thead th {\n",
       "        text-align: right;\n",
       "    }\n",
       "</style>\n",
       "<table border=\"1\" class=\"dataframe\">\n",
       "  <thead>\n",
       "    <tr style=\"text-align: right;\">\n",
       "      <th></th>\n",
       "      <th>Wife_age</th>\n",
       "      <th>Wife_ education</th>\n",
       "      <th>Husband_education</th>\n",
       "      <th>No_of_children_born</th>\n",
       "      <th>Wife_religion</th>\n",
       "      <th>Wife_Working</th>\n",
       "      <th>Husband_Occupation</th>\n",
       "      <th>Standard_of_living_index</th>\n",
       "      <th>Media_exposure</th>\n",
       "      <th>Contraceptive_method_used</th>\n",
       "    </tr>\n",
       "  </thead>\n",
       "  <tbody>\n",
       "    <tr>\n",
       "      <th>0</th>\n",
       "      <td>24.0</td>\n",
       "      <td>Primary</td>\n",
       "      <td>Secondary</td>\n",
       "      <td>3.0</td>\n",
       "      <td>Scientology</td>\n",
       "      <td>No</td>\n",
       "      <td>2</td>\n",
       "      <td>High</td>\n",
       "      <td>Exposed</td>\n",
       "      <td>No</td>\n",
       "    </tr>\n",
       "    <tr>\n",
       "      <th>1</th>\n",
       "      <td>45.0</td>\n",
       "      <td>Uneducated</td>\n",
       "      <td>Secondary</td>\n",
       "      <td>10.0</td>\n",
       "      <td>Scientology</td>\n",
       "      <td>No</td>\n",
       "      <td>3</td>\n",
       "      <td>Very High</td>\n",
       "      <td>Exposed</td>\n",
       "      <td>No</td>\n",
       "    </tr>\n",
       "    <tr>\n",
       "      <th>2</th>\n",
       "      <td>43.0</td>\n",
       "      <td>Primary</td>\n",
       "      <td>Secondary</td>\n",
       "      <td>7.0</td>\n",
       "      <td>Scientology</td>\n",
       "      <td>No</td>\n",
       "      <td>3</td>\n",
       "      <td>Very High</td>\n",
       "      <td>Exposed</td>\n",
       "      <td>No</td>\n",
       "    </tr>\n",
       "    <tr>\n",
       "      <th>3</th>\n",
       "      <td>42.0</td>\n",
       "      <td>Secondary</td>\n",
       "      <td>Primary</td>\n",
       "      <td>9.0</td>\n",
       "      <td>Scientology</td>\n",
       "      <td>No</td>\n",
       "      <td>3</td>\n",
       "      <td>High</td>\n",
       "      <td>Exposed</td>\n",
       "      <td>No</td>\n",
       "    </tr>\n",
       "    <tr>\n",
       "      <th>4</th>\n",
       "      <td>36.0</td>\n",
       "      <td>Secondary</td>\n",
       "      <td>Secondary</td>\n",
       "      <td>8.0</td>\n",
       "      <td>Scientology</td>\n",
       "      <td>No</td>\n",
       "      <td>3</td>\n",
       "      <td>Low</td>\n",
       "      <td>Exposed</td>\n",
       "      <td>No</td>\n",
       "    </tr>\n",
       "  </tbody>\n",
       "</table>\n",
       "</div>"
      ],
      "text/plain": [
       "   Wife_age Wife_ education Husband_education  No_of_children_born  \\\n",
       "0      24.0         Primary         Secondary                  3.0   \n",
       "1      45.0      Uneducated         Secondary                 10.0   \n",
       "2      43.0         Primary         Secondary                  7.0   \n",
       "3      42.0       Secondary           Primary                  9.0   \n",
       "4      36.0       Secondary         Secondary                  8.0   \n",
       "\n",
       "  Wife_religion Wife_Working  Husband_Occupation Standard_of_living_index  \\\n",
       "0   Scientology           No                   2                     High   \n",
       "1   Scientology           No                   3                Very High   \n",
       "2   Scientology           No                   3                Very High   \n",
       "3   Scientology           No                   3                     High   \n",
       "4   Scientology           No                   3                      Low   \n",
       "\n",
       "  Media_exposure  Contraceptive_method_used  \n",
       "0         Exposed                        No  \n",
       "1         Exposed                        No  \n",
       "2         Exposed                        No  \n",
       "3         Exposed                        No  \n",
       "4         Exposed                        No  "
      ]
     },
     "execution_count": 36,
     "metadata": {},
     "output_type": "execute_result"
    }
   ],
   "source": [
    "data_df.head()"
   ]
  },
  {
   "cell_type": "code",
   "execution_count": 37,
   "id": "53f5ac1f",
   "metadata": {},
   "outputs": [
    {
     "data": {
      "text/plain": [
       "(1473, 10)"
      ]
     },
     "execution_count": 37,
     "metadata": {},
     "output_type": "execute_result"
    }
   ],
   "source": [
    "data_df.shape"
   ]
  },
  {
   "cell_type": "code",
   "execution_count": 38,
   "id": "d2210ab7",
   "metadata": {},
   "outputs": [
    {
     "name": "stdout",
     "output_type": "stream",
     "text": [
      "<class 'pandas.core.frame.DataFrame'>\n",
      "RangeIndex: 1473 entries, 0 to 1472\n",
      "Data columns (total 10 columns):\n",
      " #   Column                     Non-Null Count  Dtype  \n",
      "---  ------                     --------------  -----  \n",
      " 0   Wife_age                   1402 non-null   float64\n",
      " 1   Wife_ education            1473 non-null   object \n",
      " 2   Husband_education          1473 non-null   object \n",
      " 3   No_of_children_born        1452 non-null   float64\n",
      " 4   Wife_religion              1473 non-null   object \n",
      " 5   Wife_Working               1473 non-null   object \n",
      " 6   Husband_Occupation         1473 non-null   int64  \n",
      " 7   Standard_of_living_index   1473 non-null   object \n",
      " 8   Media_exposure             1473 non-null   object \n",
      " 9   Contraceptive_method_used  1473 non-null   object \n",
      "dtypes: float64(2), int64(1), object(7)\n",
      "memory usage: 115.2+ KB\n"
     ]
    }
   ],
   "source": [
    "data_df.info()"
   ]
  },
  {
   "cell_type": "code",
   "execution_count": 39,
   "id": "6e34ff7d",
   "metadata": {},
   "outputs": [
    {
     "name": "stdout",
     "output_type": "stream",
     "text": [
      "Wife_age\n",
      "25.0\n",
      "No_of_children_born\n",
      "2.0\n"
     ]
    },
    {
     "data": {
      "text/plain": [
       "Wife_age                     0\n",
       "Wife_ education              0\n",
       "Husband_education            0\n",
       "No_of_children_born          0\n",
       "Wife_religion                0\n",
       "Wife_Working                 0\n",
       "Husband_Occupation           0\n",
       "Standard_of_living_index     0\n",
       "Media_exposure               0\n",
       "Contraceptive_method_used    0\n",
       "dtype: int64"
      ]
     },
     "execution_count": 39,
     "metadata": {},
     "output_type": "execute_result"
    }
   ],
   "source": [
    "cols = ['Wife_age','No_of_children_born']\n",
    "for column in cols:\n",
    "    print(column)\n",
    "    mode_1 = data_df[column].mode()[0]\n",
    "    print(mode_1)\n",
    "    data_df[column].fillna(value=mode_1,inplace=True)\n",
    "    \n",
    "data_df.isnull().sum()"
   ]
  },
  {
   "cell_type": "code",
   "execution_count": 40,
   "id": "2cd368f3",
   "metadata": {},
   "outputs": [
    {
     "name": "stdout",
     "output_type": "stream",
     "text": [
      "Number of duplicate rows = 87\n"
     ]
    }
   ],
   "source": [
    "# Are there any duplicates ?\n",
    "dups = data_df.duplicated()\n",
    "print('Number of duplicate rows = %d' % (dups.sum()))\n",
    "#df[dups]"
   ]
  },
  {
   "cell_type": "code",
   "execution_count": 41,
   "id": "841d1775",
   "metadata": {},
   "outputs": [],
   "source": [
    "data_df.drop_duplicates(inplace=True) "
   ]
  },
  {
   "cell_type": "code",
   "execution_count": 42,
   "id": "bc38099b",
   "metadata": {},
   "outputs": [
    {
     "name": "stdout",
     "output_type": "stream",
     "text": [
      "\n",
      "\n",
      "feature: Wife_ education\n",
      "['Primary', 'Uneducated', 'Secondary', 'Tertiary']\n",
      "Categories (4, object): ['Primary', 'Secondary', 'Tertiary', 'Uneducated']\n",
      "[0 3 1 2]\n",
      "\n",
      "\n",
      "feature: Husband_education\n",
      "['Secondary', 'Primary', 'Tertiary', 'Uneducated']\n",
      "Categories (4, object): ['Primary', 'Secondary', 'Tertiary', 'Uneducated']\n",
      "[1 0 2 3]\n",
      "\n",
      "\n",
      "feature: Wife_religion\n",
      "['Scientology', 'Non-Scientology']\n",
      "Categories (2, object): ['Non-Scientology', 'Scientology']\n",
      "[1 0]\n",
      "\n",
      "\n",
      "feature: Wife_Working\n",
      "['No', 'Yes']\n",
      "Categories (2, object): ['No', 'Yes']\n",
      "[0 1]\n",
      "\n",
      "\n",
      "feature: Standard_of_living_index\n",
      "['High', 'Very High', 'Low', 'Very Low']\n",
      "Categories (4, object): ['High', 'Low', 'Very High', 'Very Low']\n",
      "[0 2 1 3]\n",
      "\n",
      "\n",
      "feature: Media_exposure \n",
      "['Exposed', 'Not-Exposed']\n",
      "Categories (2, object): ['Exposed', 'Not-Exposed']\n",
      "[0 1]\n",
      "\n",
      "\n",
      "feature: Contraceptive_method_used\n",
      "['No', 'Yes']\n",
      "Categories (2, object): ['No', 'Yes']\n",
      "[0 1]\n"
     ]
    }
   ],
   "source": [
    "for feature in data_df.columns: \n",
    "    if data_df[feature].dtype == 'object': \n",
    "        print('\\n')\n",
    "        print('feature:',feature)\n",
    "        print(pd.Categorical(data_df[feature].unique()))\n",
    "        print(pd.Categorical(data_df[feature].unique()).codes)\n",
    "        data_df[feature] = pd.Categorical(data_df[feature]).codes"
   ]
  },
  {
   "cell_type": "code",
   "execution_count": 43,
   "id": "829bab69",
   "metadata": {},
   "outputs": [
    {
     "name": "stdout",
     "output_type": "stream",
     "text": [
      "<class 'pandas.core.frame.DataFrame'>\n",
      "Int64Index: 1386 entries, 0 to 1472\n",
      "Data columns (total 10 columns):\n",
      " #   Column                     Non-Null Count  Dtype  \n",
      "---  ------                     --------------  -----  \n",
      " 0   Wife_age                   1386 non-null   float64\n",
      " 1   Wife_ education            1386 non-null   int8   \n",
      " 2   Husband_education          1386 non-null   int8   \n",
      " 3   No_of_children_born        1386 non-null   float64\n",
      " 4   Wife_religion              1386 non-null   int8   \n",
      " 5   Wife_Working               1386 non-null   int8   \n",
      " 6   Husband_Occupation         1386 non-null   int64  \n",
      " 7   Standard_of_living_index   1386 non-null   int8   \n",
      " 8   Media_exposure             1386 non-null   int8   \n",
      " 9   Contraceptive_method_used  1386 non-null   int8   \n",
      "dtypes: float64(2), int64(1), int8(7)\n",
      "memory usage: 52.8 KB\n"
     ]
    }
   ],
   "source": [
    "data_df.info()"
   ]
  },
  {
   "cell_type": "code",
   "execution_count": 44,
   "id": "7c9c87ff",
   "metadata": {},
   "outputs": [
    {
     "data": {
      "text/html": [
       "<div>\n",
       "<style scoped>\n",
       "    .dataframe tbody tr th:only-of-type {\n",
       "        vertical-align: middle;\n",
       "    }\n",
       "\n",
       "    .dataframe tbody tr th {\n",
       "        vertical-align: top;\n",
       "    }\n",
       "\n",
       "    .dataframe thead th {\n",
       "        text-align: right;\n",
       "    }\n",
       "</style>\n",
       "<table border=\"1\" class=\"dataframe\">\n",
       "  <thead>\n",
       "    <tr style=\"text-align: right;\">\n",
       "      <th></th>\n",
       "      <th>Wife_age</th>\n",
       "      <th>Wife_ education</th>\n",
       "      <th>Husband_education</th>\n",
       "      <th>No_of_children_born</th>\n",
       "      <th>Wife_religion</th>\n",
       "      <th>Wife_Working</th>\n",
       "      <th>Husband_Occupation</th>\n",
       "      <th>Standard_of_living_index</th>\n",
       "      <th>Media_exposure</th>\n",
       "      <th>Contraceptive_method_used</th>\n",
       "    </tr>\n",
       "  </thead>\n",
       "  <tbody>\n",
       "    <tr>\n",
       "      <th>0</th>\n",
       "      <td>24.0</td>\n",
       "      <td>0</td>\n",
       "      <td>1</td>\n",
       "      <td>3.0</td>\n",
       "      <td>1</td>\n",
       "      <td>0</td>\n",
       "      <td>2</td>\n",
       "      <td>0</td>\n",
       "      <td>0</td>\n",
       "      <td>0</td>\n",
       "    </tr>\n",
       "    <tr>\n",
       "      <th>1</th>\n",
       "      <td>45.0</td>\n",
       "      <td>3</td>\n",
       "      <td>1</td>\n",
       "      <td>10.0</td>\n",
       "      <td>1</td>\n",
       "      <td>0</td>\n",
       "      <td>3</td>\n",
       "      <td>2</td>\n",
       "      <td>0</td>\n",
       "      <td>0</td>\n",
       "    </tr>\n",
       "    <tr>\n",
       "      <th>2</th>\n",
       "      <td>43.0</td>\n",
       "      <td>0</td>\n",
       "      <td>1</td>\n",
       "      <td>7.0</td>\n",
       "      <td>1</td>\n",
       "      <td>0</td>\n",
       "      <td>3</td>\n",
       "      <td>2</td>\n",
       "      <td>0</td>\n",
       "      <td>0</td>\n",
       "    </tr>\n",
       "    <tr>\n",
       "      <th>3</th>\n",
       "      <td>42.0</td>\n",
       "      <td>1</td>\n",
       "      <td>0</td>\n",
       "      <td>9.0</td>\n",
       "      <td>1</td>\n",
       "      <td>0</td>\n",
       "      <td>3</td>\n",
       "      <td>0</td>\n",
       "      <td>0</td>\n",
       "      <td>0</td>\n",
       "    </tr>\n",
       "    <tr>\n",
       "      <th>4</th>\n",
       "      <td>36.0</td>\n",
       "      <td>1</td>\n",
       "      <td>1</td>\n",
       "      <td>8.0</td>\n",
       "      <td>1</td>\n",
       "      <td>0</td>\n",
       "      <td>3</td>\n",
       "      <td>1</td>\n",
       "      <td>0</td>\n",
       "      <td>0</td>\n",
       "    </tr>\n",
       "  </tbody>\n",
       "</table>\n",
       "</div>"
      ],
      "text/plain": [
       "   Wife_age  Wife_ education  Husband_education  No_of_children_born  \\\n",
       "0      24.0                0                  1                  3.0   \n",
       "1      45.0                3                  1                 10.0   \n",
       "2      43.0                0                  1                  7.0   \n",
       "3      42.0                1                  0                  9.0   \n",
       "4      36.0                1                  1                  8.0   \n",
       "\n",
       "   Wife_religion  Wife_Working  Husband_Occupation  Standard_of_living_index  \\\n",
       "0              1             0                   2                         0   \n",
       "1              1             0                   3                         2   \n",
       "2              1             0                   3                         2   \n",
       "3              1             0                   3                         0   \n",
       "4              1             0                   3                         1   \n",
       "\n",
       "   Media_exposure   Contraceptive_method_used  \n",
       "0                0                          0  \n",
       "1                0                          0  \n",
       "2                0                          0  \n",
       "3                0                          0  \n",
       "4                0                          0  "
      ]
     },
     "execution_count": 44,
     "metadata": {},
     "output_type": "execute_result"
    }
   ],
   "source": [
    "data_df.head()"
   ]
  },
  {
   "cell_type": "markdown",
   "id": "b805b516",
   "metadata": {},
   "source": [
    "# Extracting the target columns intoseperate vectors for training set and test set"
   ]
  },
  {
   "cell_type": "code",
   "execution_count": 45,
   "id": "91f979d7",
   "metadata": {},
   "outputs": [
    {
     "data": {
      "text/html": [
       "<div>\n",
       "<style scoped>\n",
       "    .dataframe tbody tr th:only-of-type {\n",
       "        vertical-align: middle;\n",
       "    }\n",
       "\n",
       "    .dataframe tbody tr th {\n",
       "        vertical-align: top;\n",
       "    }\n",
       "\n",
       "    .dataframe thead th {\n",
       "        text-align: right;\n",
       "    }\n",
       "</style>\n",
       "<table border=\"1\" class=\"dataframe\">\n",
       "  <thead>\n",
       "    <tr style=\"text-align: right;\">\n",
       "      <th></th>\n",
       "      <th>Wife_age</th>\n",
       "      <th>Wife_ education</th>\n",
       "      <th>Husband_education</th>\n",
       "      <th>No_of_children_born</th>\n",
       "      <th>Wife_religion</th>\n",
       "      <th>Wife_Working</th>\n",
       "      <th>Husband_Occupation</th>\n",
       "      <th>Standard_of_living_index</th>\n",
       "      <th>Media_exposure</th>\n",
       "    </tr>\n",
       "  </thead>\n",
       "  <tbody>\n",
       "    <tr>\n",
       "      <th>0</th>\n",
       "      <td>24.0</td>\n",
       "      <td>0</td>\n",
       "      <td>1</td>\n",
       "      <td>3.0</td>\n",
       "      <td>1</td>\n",
       "      <td>0</td>\n",
       "      <td>2</td>\n",
       "      <td>0</td>\n",
       "      <td>0</td>\n",
       "    </tr>\n",
       "    <tr>\n",
       "      <th>1</th>\n",
       "      <td>45.0</td>\n",
       "      <td>3</td>\n",
       "      <td>1</td>\n",
       "      <td>10.0</td>\n",
       "      <td>1</td>\n",
       "      <td>0</td>\n",
       "      <td>3</td>\n",
       "      <td>2</td>\n",
       "      <td>0</td>\n",
       "    </tr>\n",
       "    <tr>\n",
       "      <th>2</th>\n",
       "      <td>43.0</td>\n",
       "      <td>0</td>\n",
       "      <td>1</td>\n",
       "      <td>7.0</td>\n",
       "      <td>1</td>\n",
       "      <td>0</td>\n",
       "      <td>3</td>\n",
       "      <td>2</td>\n",
       "      <td>0</td>\n",
       "    </tr>\n",
       "    <tr>\n",
       "      <th>3</th>\n",
       "      <td>42.0</td>\n",
       "      <td>1</td>\n",
       "      <td>0</td>\n",
       "      <td>9.0</td>\n",
       "      <td>1</td>\n",
       "      <td>0</td>\n",
       "      <td>3</td>\n",
       "      <td>0</td>\n",
       "      <td>0</td>\n",
       "    </tr>\n",
       "    <tr>\n",
       "      <th>4</th>\n",
       "      <td>36.0</td>\n",
       "      <td>1</td>\n",
       "      <td>1</td>\n",
       "      <td>8.0</td>\n",
       "      <td>1</td>\n",
       "      <td>0</td>\n",
       "      <td>3</td>\n",
       "      <td>1</td>\n",
       "      <td>0</td>\n",
       "    </tr>\n",
       "  </tbody>\n",
       "</table>\n",
       "</div>"
      ],
      "text/plain": [
       "   Wife_age  Wife_ education  Husband_education  No_of_children_born  \\\n",
       "0      24.0                0                  1                  3.0   \n",
       "1      45.0                3                  1                 10.0   \n",
       "2      43.0                0                  1                  7.0   \n",
       "3      42.0                1                  0                  9.0   \n",
       "4      36.0                1                  1                  8.0   \n",
       "\n",
       "   Wife_religion  Wife_Working  Husband_Occupation  Standard_of_living_index  \\\n",
       "0              1             0                   2                         0   \n",
       "1              1             0                   3                         2   \n",
       "2              1             0                   3                         2   \n",
       "3              1             0                   3                         0   \n",
       "4              1             0                   3                         1   \n",
       "\n",
       "   Media_exposure   \n",
       "0                0  \n",
       "1                0  \n",
       "2                0  \n",
       "3                0  \n",
       "4                0  "
      ]
     },
     "execution_count": 45,
     "metadata": {},
     "output_type": "execute_result"
    }
   ],
   "source": [
    "X = data_df.drop(\"Contraceptive_method_used\", axis=1)\n",
    "\n",
    "y = data_df.pop(\"Contraceptive_method_used\")\n",
    "\n",
    "X.head()"
   ]
  },
  {
   "cell_type": "markdown",
   "id": "faf9dd59",
   "metadata": {},
   "source": [
    "# Splitting data into training and test set"
   ]
  },
  {
   "cell_type": "code",
   "execution_count": 46,
   "id": "7d6a7beb",
   "metadata": {},
   "outputs": [],
   "source": [
    "from sklearn.model_selection import train_test_split\n",
    "\n",
    "X_train, X_test, train_labels, test_labels = train_test_split(X, y, test_size=.30, random_state=1)"
   ]
  },
  {
   "cell_type": "markdown",
   "id": "5a87de77",
   "metadata": {},
   "source": [
    "# Checking the dimensions of the training and test data"
   ]
  },
  {
   "cell_type": "code",
   "execution_count": 47,
   "id": "f29623cc",
   "metadata": {},
   "outputs": [
    {
     "name": "stdout",
     "output_type": "stream",
     "text": [
      "X_train (970, 9)\n",
      "X_test (416, 9)\n",
      "train_labels (970,)\n",
      "test_labels (416,)\n",
      "Total Obs 11548\n"
     ]
    }
   ],
   "source": [
    "print('X_train',X_train.shape)\n",
    "print('X_test',X_test.shape)\n",
    "print('train_labels',train_labels.shape)\n",
    "print('test_labels',test_labels.shape)\n",
    "print('Total Obs',8083+3465)"
   ]
  },
  {
   "cell_type": "markdown",
   "id": "cd767876",
   "metadata": {},
   "source": [
    "# Building a decision Tree Classifier"
   ]
  },
  {
   "cell_type": "code",
   "execution_count": 48,
   "id": "6adeaeef",
   "metadata": {},
   "outputs": [],
   "source": [
    "# Initialise a Decision Tree Classifier\n",
    "dt_model = DecisionTreeClassifier(criterion = 'gini', random_state=1)"
   ]
  },
  {
   "cell_type": "code",
   "execution_count": 49,
   "id": "53f64566",
   "metadata": {},
   "outputs": [
    {
     "data": {
      "text/plain": [
       "DecisionTreeClassifier(random_state=1)"
      ]
     },
     "execution_count": 49,
     "metadata": {},
     "output_type": "execute_result"
    }
   ],
   "source": [
    "# Fit the model\n",
    "dt_model.fit(X_train, train_labels)"
   ]
  },
  {
   "cell_type": "code",
   "execution_count": 50,
   "id": "2550760b",
   "metadata": {},
   "outputs": [],
   "source": [
    "from sklearn import tree\n",
    "\n",
    "train_char_label = ['No', 'Yes']\n",
    "ld_Tree_File = open('ld_Tree_File.dot','w')\n",
    "dot_data = tree.export_graphviz(dt_model, \n",
    "                                out_file=ld_Tree_File, \n",
    "                                feature_names = list(X_train), \n",
    "                                class_names = list(train_char_label))\n",
    "\n",
    "ld_Tree_File.close()"
   ]
  },
  {
   "cell_type": "code",
   "execution_count": 51,
   "id": "8dc345b0",
   "metadata": {},
   "outputs": [
    {
     "name": "stdout",
     "output_type": "stream",
     "text": [
      "                               Imp\n",
      "Wife_age                  0.327824\n",
      "No_of_children_born       0.242561\n",
      "Wife_ education           0.120340\n",
      "Standard_of_living_index  0.080073\n",
      "Husband_Occupation        0.069282\n",
      "Wife_religion             0.048915\n",
      "Husband_education         0.047297\n",
      "Wife_Working              0.047073\n",
      "Media_exposure            0.016635\n"
     ]
    }
   ],
   "source": [
    "print (pd.DataFrame(dt_model.feature_importances_, columns = [\"Imp\"], index = X_train.columns).sort_values('Imp',ascending=False))"
   ]
  },
  {
   "cell_type": "markdown",
   "id": "1c56ab48",
   "metadata": {},
   "source": [
    "# Predicting Test data"
   ]
  },
  {
   "cell_type": "code",
   "execution_count": 52,
   "id": "d1eba37f",
   "metadata": {},
   "outputs": [],
   "source": [
    "y_predict = dt_model.predict(X_test)"
   ]
  },
  {
   "cell_type": "code",
   "execution_count": 53,
   "id": "bacc3cf4",
   "metadata": {},
   "outputs": [
    {
     "data": {
      "text/plain": [
       "(416,)"
      ]
     },
     "execution_count": 53,
     "metadata": {},
     "output_type": "execute_result"
    }
   ],
   "source": [
    "y_predict.shape"
   ]
  },
  {
   "cell_type": "markdown",
   "id": "9b06fa80",
   "metadata": {},
   "source": [
    "# Regularising the decision"
   ]
  },
  {
   "cell_type": "code",
   "execution_count": 54,
   "id": "5148987e",
   "metadata": {},
   "outputs": [
    {
     "data": {
      "text/plain": [
       "DecisionTreeClassifier(max_depth=30, min_samples_leaf=100,\n",
       "                       min_samples_split=1000, random_state=1)"
      ]
     },
     "execution_count": 54,
     "metadata": {},
     "output_type": "execute_result"
    }
   ],
   "source": [
    "reg_dt_model = DecisionTreeClassifier(criterion = 'gini', max_depth = 30,min_samples_leaf=100,min_samples_split=1000,random_state=1)\n",
    "reg_dt_model.fit(X_train, train_labels)"
   ]
  },
  {
   "cell_type": "markdown",
   "id": "4753cc9c",
   "metadata": {},
   "source": [
    "# Generating New Tree"
   ]
  },
  {
   "cell_type": "code",
   "execution_count": 55,
   "id": "b1039966",
   "metadata": {},
   "outputs": [],
   "source": [
    "ld_tree_regularized = open('ld_tree_regularized.dot','w')\n",
    "dot_data = tree.export_graphviz(reg_dt_model, out_file= ld_tree_regularized , feature_names = list(X_train), class_names = list(train_char_label))\n",
    "\n",
    "ld_tree_regularized.close()\n",
    "dot_data"
   ]
  },
  {
   "cell_type": "markdown",
   "id": "08211460",
   "metadata": {},
   "source": [
    "# Variable importance"
   ]
  },
  {
   "cell_type": "code",
   "execution_count": 56,
   "id": "d664b630",
   "metadata": {},
   "outputs": [
    {
     "name": "stdout",
     "output_type": "stream",
     "text": [
      "                          Imp\n",
      "Wife_age                  0.0\n",
      "Wife_ education           0.0\n",
      "Husband_education         0.0\n",
      "No_of_children_born       0.0\n",
      "Wife_religion             0.0\n",
      "Wife_Working              0.0\n",
      "Husband_Occupation        0.0\n",
      "Standard_of_living_index  0.0\n",
      "Media_exposure            0.0\n"
     ]
    }
   ],
   "source": [
    "print (pd.DataFrame(reg_dt_model.feature_importances_, columns = [\"Imp\"], index = X_train.columns).sort_values('Imp',ascending=False))"
   ]
  },
  {
   "cell_type": "markdown",
   "id": "51d1f62a",
   "metadata": {},
   "source": [
    "# Predicting on training and test dataset"
   ]
  },
  {
   "cell_type": "code",
   "execution_count": 57,
   "id": "48ce9ecb",
   "metadata": {},
   "outputs": [],
   "source": [
    "ytrain_predict = reg_dt_model.predict(X_train)\n",
    "ytest_predict = reg_dt_model.predict(X_test)"
   ]
  },
  {
   "cell_type": "code",
   "execution_count": 58,
   "id": "ebf3627f",
   "metadata": {},
   "outputs": [
    {
     "name": "stdout",
     "output_type": "stream",
     "text": [
      "ytrain_predict (970,)\n",
      "ytest_predict (416,)\n"
     ]
    }
   ],
   "source": [
    "print('ytrain_predict',ytrain_predict.shape)\n",
    "print('ytest_predict',ytest_predict.shape)"
   ]
  },
  {
   "cell_type": "markdown",
   "id": "e3ec8ac9",
   "metadata": {},
   "source": [
    "# Getting the predicted classes"
   ]
  },
  {
   "cell_type": "code",
   "execution_count": 60,
   "id": "39993220",
   "metadata": {},
   "outputs": [
    {
     "data": {
      "text/plain": [
       "array([[0.4371134, 0.5628866],\n",
       "       [0.4371134, 0.5628866],\n",
       "       [0.4371134, 0.5628866],\n",
       "       [0.4371134, 0.5628866],\n",
       "       [0.4371134, 0.5628866],\n",
       "       [0.4371134, 0.5628866],\n",
       "       [0.4371134, 0.5628866],\n",
       "       [0.4371134, 0.5628866],\n",
       "       [0.4371134, 0.5628866],\n",
       "       [0.4371134, 0.5628866],\n",
       "       [0.4371134, 0.5628866],\n",
       "       [0.4371134, 0.5628866],\n",
       "       [0.4371134, 0.5628866],\n",
       "       [0.4371134, 0.5628866],\n",
       "       [0.4371134, 0.5628866],\n",
       "       [0.4371134, 0.5628866],\n",
       "       [0.4371134, 0.5628866],\n",
       "       [0.4371134, 0.5628866],\n",
       "       [0.4371134, 0.5628866],\n",
       "       [0.4371134, 0.5628866],\n",
       "       [0.4371134, 0.5628866],\n",
       "       [0.4371134, 0.5628866],\n",
       "       [0.4371134, 0.5628866],\n",
       "       [0.4371134, 0.5628866],\n",
       "       [0.4371134, 0.5628866],\n",
       "       [0.4371134, 0.5628866],\n",
       "       [0.4371134, 0.5628866],\n",
       "       [0.4371134, 0.5628866],\n",
       "       [0.4371134, 0.5628866],\n",
       "       [0.4371134, 0.5628866],\n",
       "       [0.4371134, 0.5628866],\n",
       "       [0.4371134, 0.5628866],\n",
       "       [0.4371134, 0.5628866],\n",
       "       [0.4371134, 0.5628866],\n",
       "       [0.4371134, 0.5628866],\n",
       "       [0.4371134, 0.5628866],\n",
       "       [0.4371134, 0.5628866],\n",
       "       [0.4371134, 0.5628866],\n",
       "       [0.4371134, 0.5628866],\n",
       "       [0.4371134, 0.5628866],\n",
       "       [0.4371134, 0.5628866],\n",
       "       [0.4371134, 0.5628866],\n",
       "       [0.4371134, 0.5628866],\n",
       "       [0.4371134, 0.5628866],\n",
       "       [0.4371134, 0.5628866],\n",
       "       [0.4371134, 0.5628866],\n",
       "       [0.4371134, 0.5628866],\n",
       "       [0.4371134, 0.5628866],\n",
       "       [0.4371134, 0.5628866],\n",
       "       [0.4371134, 0.5628866],\n",
       "       [0.4371134, 0.5628866],\n",
       "       [0.4371134, 0.5628866],\n",
       "       [0.4371134, 0.5628866],\n",
       "       [0.4371134, 0.5628866],\n",
       "       [0.4371134, 0.5628866],\n",
       "       [0.4371134, 0.5628866],\n",
       "       [0.4371134, 0.5628866],\n",
       "       [0.4371134, 0.5628866],\n",
       "       [0.4371134, 0.5628866],\n",
       "       [0.4371134, 0.5628866],\n",
       "       [0.4371134, 0.5628866],\n",
       "       [0.4371134, 0.5628866],\n",
       "       [0.4371134, 0.5628866],\n",
       "       [0.4371134, 0.5628866],\n",
       "       [0.4371134, 0.5628866],\n",
       "       [0.4371134, 0.5628866],\n",
       "       [0.4371134, 0.5628866],\n",
       "       [0.4371134, 0.5628866],\n",
       "       [0.4371134, 0.5628866],\n",
       "       [0.4371134, 0.5628866],\n",
       "       [0.4371134, 0.5628866],\n",
       "       [0.4371134, 0.5628866],\n",
       "       [0.4371134, 0.5628866],\n",
       "       [0.4371134, 0.5628866],\n",
       "       [0.4371134, 0.5628866],\n",
       "       [0.4371134, 0.5628866],\n",
       "       [0.4371134, 0.5628866],\n",
       "       [0.4371134, 0.5628866],\n",
       "       [0.4371134, 0.5628866],\n",
       "       [0.4371134, 0.5628866],\n",
       "       [0.4371134, 0.5628866],\n",
       "       [0.4371134, 0.5628866],\n",
       "       [0.4371134, 0.5628866],\n",
       "       [0.4371134, 0.5628866],\n",
       "       [0.4371134, 0.5628866],\n",
       "       [0.4371134, 0.5628866],\n",
       "       [0.4371134, 0.5628866],\n",
       "       [0.4371134, 0.5628866],\n",
       "       [0.4371134, 0.5628866],\n",
       "       [0.4371134, 0.5628866],\n",
       "       [0.4371134, 0.5628866],\n",
       "       [0.4371134, 0.5628866],\n",
       "       [0.4371134, 0.5628866],\n",
       "       [0.4371134, 0.5628866],\n",
       "       [0.4371134, 0.5628866],\n",
       "       [0.4371134, 0.5628866],\n",
       "       [0.4371134, 0.5628866],\n",
       "       [0.4371134, 0.5628866],\n",
       "       [0.4371134, 0.5628866],\n",
       "       [0.4371134, 0.5628866],\n",
       "       [0.4371134, 0.5628866],\n",
       "       [0.4371134, 0.5628866],\n",
       "       [0.4371134, 0.5628866],\n",
       "       [0.4371134, 0.5628866],\n",
       "       [0.4371134, 0.5628866],\n",
       "       [0.4371134, 0.5628866],\n",
       "       [0.4371134, 0.5628866],\n",
       "       [0.4371134, 0.5628866],\n",
       "       [0.4371134, 0.5628866],\n",
       "       [0.4371134, 0.5628866],\n",
       "       [0.4371134, 0.5628866],\n",
       "       [0.4371134, 0.5628866],\n",
       "       [0.4371134, 0.5628866],\n",
       "       [0.4371134, 0.5628866],\n",
       "       [0.4371134, 0.5628866],\n",
       "       [0.4371134, 0.5628866],\n",
       "       [0.4371134, 0.5628866],\n",
       "       [0.4371134, 0.5628866],\n",
       "       [0.4371134, 0.5628866],\n",
       "       [0.4371134, 0.5628866],\n",
       "       [0.4371134, 0.5628866],\n",
       "       [0.4371134, 0.5628866],\n",
       "       [0.4371134, 0.5628866],\n",
       "       [0.4371134, 0.5628866],\n",
       "       [0.4371134, 0.5628866],\n",
       "       [0.4371134, 0.5628866],\n",
       "       [0.4371134, 0.5628866],\n",
       "       [0.4371134, 0.5628866],\n",
       "       [0.4371134, 0.5628866],\n",
       "       [0.4371134, 0.5628866],\n",
       "       [0.4371134, 0.5628866],\n",
       "       [0.4371134, 0.5628866],\n",
       "       [0.4371134, 0.5628866],\n",
       "       [0.4371134, 0.5628866],\n",
       "       [0.4371134, 0.5628866],\n",
       "       [0.4371134, 0.5628866],\n",
       "       [0.4371134, 0.5628866],\n",
       "       [0.4371134, 0.5628866],\n",
       "       [0.4371134, 0.5628866],\n",
       "       [0.4371134, 0.5628866],\n",
       "       [0.4371134, 0.5628866],\n",
       "       [0.4371134, 0.5628866],\n",
       "       [0.4371134, 0.5628866],\n",
       "       [0.4371134, 0.5628866],\n",
       "       [0.4371134, 0.5628866],\n",
       "       [0.4371134, 0.5628866],\n",
       "       [0.4371134, 0.5628866],\n",
       "       [0.4371134, 0.5628866],\n",
       "       [0.4371134, 0.5628866],\n",
       "       [0.4371134, 0.5628866],\n",
       "       [0.4371134, 0.5628866],\n",
       "       [0.4371134, 0.5628866],\n",
       "       [0.4371134, 0.5628866],\n",
       "       [0.4371134, 0.5628866],\n",
       "       [0.4371134, 0.5628866],\n",
       "       [0.4371134, 0.5628866],\n",
       "       [0.4371134, 0.5628866],\n",
       "       [0.4371134, 0.5628866],\n",
       "       [0.4371134, 0.5628866],\n",
       "       [0.4371134, 0.5628866],\n",
       "       [0.4371134, 0.5628866],\n",
       "       [0.4371134, 0.5628866],\n",
       "       [0.4371134, 0.5628866],\n",
       "       [0.4371134, 0.5628866],\n",
       "       [0.4371134, 0.5628866],\n",
       "       [0.4371134, 0.5628866],\n",
       "       [0.4371134, 0.5628866],\n",
       "       [0.4371134, 0.5628866],\n",
       "       [0.4371134, 0.5628866],\n",
       "       [0.4371134, 0.5628866],\n",
       "       [0.4371134, 0.5628866],\n",
       "       [0.4371134, 0.5628866],\n",
       "       [0.4371134, 0.5628866],\n",
       "       [0.4371134, 0.5628866],\n",
       "       [0.4371134, 0.5628866],\n",
       "       [0.4371134, 0.5628866],\n",
       "       [0.4371134, 0.5628866],\n",
       "       [0.4371134, 0.5628866],\n",
       "       [0.4371134, 0.5628866],\n",
       "       [0.4371134, 0.5628866],\n",
       "       [0.4371134, 0.5628866],\n",
       "       [0.4371134, 0.5628866],\n",
       "       [0.4371134, 0.5628866],\n",
       "       [0.4371134, 0.5628866],\n",
       "       [0.4371134, 0.5628866],\n",
       "       [0.4371134, 0.5628866],\n",
       "       [0.4371134, 0.5628866],\n",
       "       [0.4371134, 0.5628866],\n",
       "       [0.4371134, 0.5628866],\n",
       "       [0.4371134, 0.5628866],\n",
       "       [0.4371134, 0.5628866],\n",
       "       [0.4371134, 0.5628866],\n",
       "       [0.4371134, 0.5628866],\n",
       "       [0.4371134, 0.5628866],\n",
       "       [0.4371134, 0.5628866],\n",
       "       [0.4371134, 0.5628866],\n",
       "       [0.4371134, 0.5628866],\n",
       "       [0.4371134, 0.5628866],\n",
       "       [0.4371134, 0.5628866],\n",
       "       [0.4371134, 0.5628866],\n",
       "       [0.4371134, 0.5628866],\n",
       "       [0.4371134, 0.5628866],\n",
       "       [0.4371134, 0.5628866],\n",
       "       [0.4371134, 0.5628866],\n",
       "       [0.4371134, 0.5628866],\n",
       "       [0.4371134, 0.5628866],\n",
       "       [0.4371134, 0.5628866],\n",
       "       [0.4371134, 0.5628866],\n",
       "       [0.4371134, 0.5628866],\n",
       "       [0.4371134, 0.5628866],\n",
       "       [0.4371134, 0.5628866],\n",
       "       [0.4371134, 0.5628866],\n",
       "       [0.4371134, 0.5628866],\n",
       "       [0.4371134, 0.5628866],\n",
       "       [0.4371134, 0.5628866],\n",
       "       [0.4371134, 0.5628866],\n",
       "       [0.4371134, 0.5628866],\n",
       "       [0.4371134, 0.5628866],\n",
       "       [0.4371134, 0.5628866],\n",
       "       [0.4371134, 0.5628866],\n",
       "       [0.4371134, 0.5628866],\n",
       "       [0.4371134, 0.5628866],\n",
       "       [0.4371134, 0.5628866],\n",
       "       [0.4371134, 0.5628866],\n",
       "       [0.4371134, 0.5628866],\n",
       "       [0.4371134, 0.5628866],\n",
       "       [0.4371134, 0.5628866],\n",
       "       [0.4371134, 0.5628866],\n",
       "       [0.4371134, 0.5628866],\n",
       "       [0.4371134, 0.5628866],\n",
       "       [0.4371134, 0.5628866],\n",
       "       [0.4371134, 0.5628866],\n",
       "       [0.4371134, 0.5628866],\n",
       "       [0.4371134, 0.5628866],\n",
       "       [0.4371134, 0.5628866],\n",
       "       [0.4371134, 0.5628866],\n",
       "       [0.4371134, 0.5628866],\n",
       "       [0.4371134, 0.5628866],\n",
       "       [0.4371134, 0.5628866],\n",
       "       [0.4371134, 0.5628866],\n",
       "       [0.4371134, 0.5628866],\n",
       "       [0.4371134, 0.5628866],\n",
       "       [0.4371134, 0.5628866],\n",
       "       [0.4371134, 0.5628866],\n",
       "       [0.4371134, 0.5628866],\n",
       "       [0.4371134, 0.5628866],\n",
       "       [0.4371134, 0.5628866],\n",
       "       [0.4371134, 0.5628866],\n",
       "       [0.4371134, 0.5628866],\n",
       "       [0.4371134, 0.5628866],\n",
       "       [0.4371134, 0.5628866],\n",
       "       [0.4371134, 0.5628866],\n",
       "       [0.4371134, 0.5628866],\n",
       "       [0.4371134, 0.5628866],\n",
       "       [0.4371134, 0.5628866],\n",
       "       [0.4371134, 0.5628866],\n",
       "       [0.4371134, 0.5628866],\n",
       "       [0.4371134, 0.5628866],\n",
       "       [0.4371134, 0.5628866],\n",
       "       [0.4371134, 0.5628866],\n",
       "       [0.4371134, 0.5628866],\n",
       "       [0.4371134, 0.5628866],\n",
       "       [0.4371134, 0.5628866],\n",
       "       [0.4371134, 0.5628866],\n",
       "       [0.4371134, 0.5628866],\n",
       "       [0.4371134, 0.5628866],\n",
       "       [0.4371134, 0.5628866],\n",
       "       [0.4371134, 0.5628866],\n",
       "       [0.4371134, 0.5628866],\n",
       "       [0.4371134, 0.5628866],\n",
       "       [0.4371134, 0.5628866],\n",
       "       [0.4371134, 0.5628866],\n",
       "       [0.4371134, 0.5628866],\n",
       "       [0.4371134, 0.5628866],\n",
       "       [0.4371134, 0.5628866],\n",
       "       [0.4371134, 0.5628866],\n",
       "       [0.4371134, 0.5628866],\n",
       "       [0.4371134, 0.5628866],\n",
       "       [0.4371134, 0.5628866],\n",
       "       [0.4371134, 0.5628866],\n",
       "       [0.4371134, 0.5628866],\n",
       "       [0.4371134, 0.5628866],\n",
       "       [0.4371134, 0.5628866],\n",
       "       [0.4371134, 0.5628866],\n",
       "       [0.4371134, 0.5628866],\n",
       "       [0.4371134, 0.5628866],\n",
       "       [0.4371134, 0.5628866],\n",
       "       [0.4371134, 0.5628866],\n",
       "       [0.4371134, 0.5628866],\n",
       "       [0.4371134, 0.5628866],\n",
       "       [0.4371134, 0.5628866],\n",
       "       [0.4371134, 0.5628866],\n",
       "       [0.4371134, 0.5628866],\n",
       "       [0.4371134, 0.5628866],\n",
       "       [0.4371134, 0.5628866],\n",
       "       [0.4371134, 0.5628866],\n",
       "       [0.4371134, 0.5628866],\n",
       "       [0.4371134, 0.5628866],\n",
       "       [0.4371134, 0.5628866],\n",
       "       [0.4371134, 0.5628866],\n",
       "       [0.4371134, 0.5628866],\n",
       "       [0.4371134, 0.5628866],\n",
       "       [0.4371134, 0.5628866],\n",
       "       [0.4371134, 0.5628866],\n",
       "       [0.4371134, 0.5628866],\n",
       "       [0.4371134, 0.5628866],\n",
       "       [0.4371134, 0.5628866],\n",
       "       [0.4371134, 0.5628866],\n",
       "       [0.4371134, 0.5628866],\n",
       "       [0.4371134, 0.5628866],\n",
       "       [0.4371134, 0.5628866],\n",
       "       [0.4371134, 0.5628866],\n",
       "       [0.4371134, 0.5628866],\n",
       "       [0.4371134, 0.5628866],\n",
       "       [0.4371134, 0.5628866],\n",
       "       [0.4371134, 0.5628866],\n",
       "       [0.4371134, 0.5628866],\n",
       "       [0.4371134, 0.5628866],\n",
       "       [0.4371134, 0.5628866],\n",
       "       [0.4371134, 0.5628866],\n",
       "       [0.4371134, 0.5628866],\n",
       "       [0.4371134, 0.5628866],\n",
       "       [0.4371134, 0.5628866],\n",
       "       [0.4371134, 0.5628866],\n",
       "       [0.4371134, 0.5628866],\n",
       "       [0.4371134, 0.5628866],\n",
       "       [0.4371134, 0.5628866],\n",
       "       [0.4371134, 0.5628866],\n",
       "       [0.4371134, 0.5628866],\n",
       "       [0.4371134, 0.5628866],\n",
       "       [0.4371134, 0.5628866],\n",
       "       [0.4371134, 0.5628866],\n",
       "       [0.4371134, 0.5628866],\n",
       "       [0.4371134, 0.5628866],\n",
       "       [0.4371134, 0.5628866],\n",
       "       [0.4371134, 0.5628866],\n",
       "       [0.4371134, 0.5628866],\n",
       "       [0.4371134, 0.5628866],\n",
       "       [0.4371134, 0.5628866],\n",
       "       [0.4371134, 0.5628866],\n",
       "       [0.4371134, 0.5628866],\n",
       "       [0.4371134, 0.5628866],\n",
       "       [0.4371134, 0.5628866],\n",
       "       [0.4371134, 0.5628866],\n",
       "       [0.4371134, 0.5628866],\n",
       "       [0.4371134, 0.5628866],\n",
       "       [0.4371134, 0.5628866],\n",
       "       [0.4371134, 0.5628866],\n",
       "       [0.4371134, 0.5628866],\n",
       "       [0.4371134, 0.5628866],\n",
       "       [0.4371134, 0.5628866],\n",
       "       [0.4371134, 0.5628866],\n",
       "       [0.4371134, 0.5628866],\n",
       "       [0.4371134, 0.5628866],\n",
       "       [0.4371134, 0.5628866],\n",
       "       [0.4371134, 0.5628866],\n",
       "       [0.4371134, 0.5628866],\n",
       "       [0.4371134, 0.5628866],\n",
       "       [0.4371134, 0.5628866],\n",
       "       [0.4371134, 0.5628866],\n",
       "       [0.4371134, 0.5628866],\n",
       "       [0.4371134, 0.5628866],\n",
       "       [0.4371134, 0.5628866],\n",
       "       [0.4371134, 0.5628866],\n",
       "       [0.4371134, 0.5628866],\n",
       "       [0.4371134, 0.5628866],\n",
       "       [0.4371134, 0.5628866],\n",
       "       [0.4371134, 0.5628866],\n",
       "       [0.4371134, 0.5628866],\n",
       "       [0.4371134, 0.5628866],\n",
       "       [0.4371134, 0.5628866],\n",
       "       [0.4371134, 0.5628866],\n",
       "       [0.4371134, 0.5628866],\n",
       "       [0.4371134, 0.5628866],\n",
       "       [0.4371134, 0.5628866],\n",
       "       [0.4371134, 0.5628866],\n",
       "       [0.4371134, 0.5628866],\n",
       "       [0.4371134, 0.5628866],\n",
       "       [0.4371134, 0.5628866],\n",
       "       [0.4371134, 0.5628866],\n",
       "       [0.4371134, 0.5628866],\n",
       "       [0.4371134, 0.5628866],\n",
       "       [0.4371134, 0.5628866],\n",
       "       [0.4371134, 0.5628866],\n",
       "       [0.4371134, 0.5628866],\n",
       "       [0.4371134, 0.5628866],\n",
       "       [0.4371134, 0.5628866],\n",
       "       [0.4371134, 0.5628866],\n",
       "       [0.4371134, 0.5628866],\n",
       "       [0.4371134, 0.5628866],\n",
       "       [0.4371134, 0.5628866],\n",
       "       [0.4371134, 0.5628866],\n",
       "       [0.4371134, 0.5628866],\n",
       "       [0.4371134, 0.5628866],\n",
       "       [0.4371134, 0.5628866],\n",
       "       [0.4371134, 0.5628866],\n",
       "       [0.4371134, 0.5628866],\n",
       "       [0.4371134, 0.5628866],\n",
       "       [0.4371134, 0.5628866],\n",
       "       [0.4371134, 0.5628866],\n",
       "       [0.4371134, 0.5628866],\n",
       "       [0.4371134, 0.5628866],\n",
       "       [0.4371134, 0.5628866],\n",
       "       [0.4371134, 0.5628866],\n",
       "       [0.4371134, 0.5628866],\n",
       "       [0.4371134, 0.5628866],\n",
       "       [0.4371134, 0.5628866],\n",
       "       [0.4371134, 0.5628866],\n",
       "       [0.4371134, 0.5628866],\n",
       "       [0.4371134, 0.5628866],\n",
       "       [0.4371134, 0.5628866],\n",
       "       [0.4371134, 0.5628866],\n",
       "       [0.4371134, 0.5628866],\n",
       "       [0.4371134, 0.5628866],\n",
       "       [0.4371134, 0.5628866],\n",
       "       [0.4371134, 0.5628866]])"
      ]
     },
     "execution_count": 60,
     "metadata": {},
     "output_type": "execute_result"
    }
   ],
   "source": [
    "ytest_predict_prob=reg_dt_model.predict_proba(X_test)\n",
    "ytest_predict_prob"
   ]
  },
  {
   "cell_type": "code",
   "execution_count": 61,
   "id": "9efe225c",
   "metadata": {},
   "outputs": [
    {
     "data": {
      "text/html": [
       "<div>\n",
       "<style scoped>\n",
       "    .dataframe tbody tr th:only-of-type {\n",
       "        vertical-align: middle;\n",
       "    }\n",
       "\n",
       "    .dataframe tbody tr th {\n",
       "        vertical-align: top;\n",
       "    }\n",
       "\n",
       "    .dataframe thead th {\n",
       "        text-align: right;\n",
       "    }\n",
       "</style>\n",
       "<table border=\"1\" class=\"dataframe\">\n",
       "  <thead>\n",
       "    <tr style=\"text-align: right;\">\n",
       "      <th></th>\n",
       "      <th>0</th>\n",
       "      <th>1</th>\n",
       "    </tr>\n",
       "  </thead>\n",
       "  <tbody>\n",
       "    <tr>\n",
       "      <th>0</th>\n",
       "      <td>0.437113</td>\n",
       "      <td>0.562887</td>\n",
       "    </tr>\n",
       "    <tr>\n",
       "      <th>1</th>\n",
       "      <td>0.437113</td>\n",
       "      <td>0.562887</td>\n",
       "    </tr>\n",
       "    <tr>\n",
       "      <th>2</th>\n",
       "      <td>0.437113</td>\n",
       "      <td>0.562887</td>\n",
       "    </tr>\n",
       "    <tr>\n",
       "      <th>3</th>\n",
       "      <td>0.437113</td>\n",
       "      <td>0.562887</td>\n",
       "    </tr>\n",
       "    <tr>\n",
       "      <th>4</th>\n",
       "      <td>0.437113</td>\n",
       "      <td>0.562887</td>\n",
       "    </tr>\n",
       "  </tbody>\n",
       "</table>\n",
       "</div>"
      ],
      "text/plain": [
       "          0         1\n",
       "0  0.437113  0.562887\n",
       "1  0.437113  0.562887\n",
       "2  0.437113  0.562887\n",
       "3  0.437113  0.562887\n",
       "4  0.437113  0.562887"
      ]
     },
     "execution_count": 61,
     "metadata": {},
     "output_type": "execute_result"
    }
   ],
   "source": [
    " pd.DataFrame(ytest_predict_prob).head()"
   ]
  },
  {
   "cell_type": "markdown",
   "id": "23e08263",
   "metadata": {},
   "source": [
    "# Model Evaluation"
   ]
  },
  {
   "cell_type": "markdown",
   "id": "e4af4c86",
   "metadata": {},
   "source": [
    "# Measuring AUC-ROC Curve"
   ]
  },
  {
   "cell_type": "code",
   "execution_count": 62,
   "id": "236cbf38",
   "metadata": {},
   "outputs": [],
   "source": [
    "import matplotlib.pyplot as plt"
   ]
  },
  {
   "cell_type": "markdown",
   "id": "ba0ffaa2",
   "metadata": {},
   "source": [
    "# AUC and ROC for the training data"
   ]
  },
  {
   "cell_type": "code",
   "execution_count": 63,
   "id": "bc5f9702",
   "metadata": {},
   "outputs": [
    {
     "name": "stdout",
     "output_type": "stream",
     "text": [
      "AUC: 0.500\n"
     ]
    },
    {
     "data": {
      "image/png": "[encoded data removed]",
      "text/plain": [
       "<Figure size 1080x576 with 1 Axes>"
      ]
     },
     "metadata": {
      "needs_background": "light"
     },
     "output_type": "display_data"
    }
   ],
   "source": [
    "# predict probabilities\n",
    "probs = reg_dt_model.predict_proba(X_train)\n",
    "# keep probabilities for the positive outcome only\n",
    "probs = probs[:, 1]\n",
    "# calculate AUC\n",
    "from sklearn.metrics import roc_auc_score\n",
    "auc = roc_auc_score(train_labels, probs)\n",
    "print('AUC: %.3f' % auc)\n",
    "# calculate roc curve\n",
    "from sklearn.metrics import roc_curve\n",
    "fpr, tpr, thresholds = roc_curve(train_labels, probs)\n",
    "plt.plot([0, 1], [0, 1], linestyle='--')\n",
    "# plot the roc curve for the model\n",
    "plt.plot(fpr, tpr, marker='.')\n",
    "# show the plot\n",
    "plt.show()"
   ]
  },
  {
   "cell_type": "markdown",
   "id": "0268fec9",
   "metadata": {},
   "source": [
    "# AUC and ROC for the test data"
   ]
  },
  {
   "cell_type": "code",
   "execution_count": 64,
   "id": "c9747727",
   "metadata": {},
   "outputs": [
    {
     "name": "stdout",
     "output_type": "stream",
     "text": [
      "AUC: 0.500\n"
     ]
    },
    {
     "data": {
      "image/png": "[encoded data removed]",
      "text/plain": [
       "<Figure size 1080x576 with 1 Axes>"
      ]
     },
     "metadata": {
      "needs_background": "light"
     },
     "output_type": "display_data"
    }
   ],
   "source": [
    "# predict probabilities\n",
    "probs = reg_dt_model.predict_proba(X_test)\n",
    "# keep probabilities for the positive outcome only\n",
    "probs = probs[:, 1]\n",
    "# calculate AUC\n",
    "from sklearn.metrics import roc_auc_score\n",
    "auc = roc_auc_score(test_labels, probs)\n",
    "print('AUC: %.3f' % auc)\n",
    "# calculate roc curve\n",
    "from sklearn.metrics import roc_curve\n",
    "fpr, tpr, thresholds = roc_curve(test_labels, probs)\n",
    "plt.plot([0, 1], [0, 1], linestyle='--')\n",
    "# plot the roc curve for the model\n",
    "plt.plot(fpr, tpr, marker='.')\n",
    "# show the plot\n",
    "plt.show()"
   ]
  },
  {
   "cell_type": "markdown",
   "id": "a01fcf18",
   "metadata": {},
   "source": [
    "# Confusion matrix for the training data"
   ]
  },
  {
   "cell_type": "code",
   "execution_count": 65,
   "id": "ce2283b7",
   "metadata": {},
   "outputs": [],
   "source": [
    "from sklearn.metrics import classification_report,confusion_matrix"
   ]
  },
  {
   "cell_type": "code",
   "execution_count": 66,
   "id": "6f00c41f",
   "metadata": {},
   "outputs": [
    {
     "data": {
      "text/plain": [
       "array([[  0, 424],\n",
       "       [  0, 546]], dtype=int64)"
      ]
     },
     "execution_count": 66,
     "metadata": {},
     "output_type": "execute_result"
    }
   ],
   "source": [
    "confusion_matrix(train_labels, ytrain_predict)"
   ]
  },
  {
   "cell_type": "code",
   "execution_count": 67,
   "id": "fbf7c636",
   "metadata": {},
   "outputs": [
    {
     "data": {
      "text/plain": [
       "0.5628865979381443"
      ]
     },
     "execution_count": 67,
     "metadata": {},
     "output_type": "execute_result"
    }
   ],
   "source": [
    "#Train Data Accuracy\n",
    "reg_dt_model.score(X_train,train_labels) "
   ]
  },
  {
   "cell_type": "code",
   "execution_count": 68,
   "id": "6494da95",
   "metadata": {},
   "outputs": [
    {
     "name": "stdout",
     "output_type": "stream",
     "text": [
      "0.5628865979381443\n"
     ]
    }
   ],
   "source": [
    "print((0+546)/(0+424+0+546))"
   ]
  },
  {
   "cell_type": "code",
   "execution_count": 69,
   "id": "96f9cd63",
   "metadata": {},
   "outputs": [
    {
     "name": "stdout",
     "output_type": "stream",
     "text": [
      "              precision    recall  f1-score   support\n",
      "\n",
      "           0       0.00      0.00      0.00       424\n",
      "           1       0.56      1.00      0.72       546\n",
      "\n",
      "    accuracy                           0.56       970\n",
      "   macro avg       0.28      0.50      0.36       970\n",
      "weighted avg       0.32      0.56      0.41       970\n",
      "\n"
     ]
    },
    {
     "name": "stderr",
     "output_type": "stream",
     "text": [
      "C:\\Users\\anand.rj\\Anaconda3\\lib\\site-packages\\sklearn\\metrics\\_classification.py:1318: UndefinedMetricWarning: Precision and F-score are ill-defined and being set to 0.0 in labels with no predicted samples. Use `zero_division` parameter to control this behavior.\n",
      "  _warn_prf(average, modifier, msg_start, len(result))\n",
      "C:\\Users\\anand.rj\\Anaconda3\\lib\\site-packages\\sklearn\\metrics\\_classification.py:1318: UndefinedMetricWarning: Precision and F-score are ill-defined and being set to 0.0 in labels with no predicted samples. Use `zero_division` parameter to control this behavior.\n",
      "  _warn_prf(average, modifier, msg_start, len(result))\n",
      "C:\\Users\\anand.rj\\Anaconda3\\lib\\site-packages\\sklearn\\metrics\\_classification.py:1318: UndefinedMetricWarning: Precision and F-score are ill-defined and being set to 0.0 in labels with no predicted samples. Use `zero_division` parameter to control this behavior.\n",
      "  _warn_prf(average, modifier, msg_start, len(result))\n"
     ]
    }
   ],
   "source": [
    "print(classification_report(train_labels, ytrain_predict))"
   ]
  },
  {
   "cell_type": "markdown",
   "id": "3a352de7",
   "metadata": {},
   "source": [
    "# Confusion matrix for test data"
   ]
  },
  {
   "cell_type": "code",
   "execution_count": 70,
   "id": "662ebcf5",
   "metadata": {},
   "outputs": [
    {
     "data": {
      "text/plain": [
       "array([[  0, 190],\n",
       "       [  0, 226]], dtype=int64)"
      ]
     },
     "execution_count": 70,
     "metadata": {},
     "output_type": "execute_result"
    }
   ],
   "source": [
    "confusion_matrix(test_labels, ytest_predict)"
   ]
  },
  {
   "cell_type": "code",
   "execution_count": 71,
   "id": "fd8dbf27",
   "metadata": {},
   "outputs": [
    {
     "data": {
      "text/plain": [
       "0.5432692307692307"
      ]
     },
     "execution_count": 71,
     "metadata": {},
     "output_type": "execute_result"
    }
   ],
   "source": [
    "#Test Data Accuracy\n",
    "reg_dt_model.score(X_test,test_labels)"
   ]
  },
  {
   "cell_type": "code",
   "execution_count": 72,
   "id": "bbd9d2fd",
   "metadata": {},
   "outputs": [
    {
     "name": "stdout",
     "output_type": "stream",
     "text": [
      "              precision    recall  f1-score   support\n",
      "\n",
      "           0       0.00      0.00      0.00       190\n",
      "           1       0.54      1.00      0.70       226\n",
      "\n",
      "    accuracy                           0.54       416\n",
      "   macro avg       0.27      0.50      0.35       416\n",
      "weighted avg       0.30      0.54      0.38       416\n",
      "\n"
     ]
    },
    {
     "name": "stderr",
     "output_type": "stream",
     "text": [
      "C:\\Users\\anand.rj\\Anaconda3\\lib\\site-packages\\sklearn\\metrics\\_classification.py:1318: UndefinedMetricWarning: Precision and F-score are ill-defined and being set to 0.0 in labels with no predicted samples. Use `zero_division` parameter to control this behavior.\n",
      "  _warn_prf(average, modifier, msg_start, len(result))\n",
      "C:\\Users\\anand.rj\\Anaconda3\\lib\\site-packages\\sklearn\\metrics\\_classification.py:1318: UndefinedMetricWarning: Precision and F-score are ill-defined and being set to 0.0 in labels with no predicted samples. Use `zero_division` parameter to control this behavior.\n",
      "  _warn_prf(average, modifier, msg_start, len(result))\n",
      "C:\\Users\\anand.rj\\Anaconda3\\lib\\site-packages\\sklearn\\metrics\\_classification.py:1318: UndefinedMetricWarning: Precision and F-score are ill-defined and being set to 0.0 in labels with no predicted samples. Use `zero_division` parameter to control this behavior.\n",
      "  _warn_prf(average, modifier, msg_start, len(result))\n"
     ]
    }
   ],
   "source": [
    "print(classification_report(test_labels, ytest_predict))"
   ]
  },
  {
   "cell_type": "markdown",
   "id": "3d8b9988",
   "metadata": {},
   "source": [
    "Conclusion \n",
    "Accuracy on the Training Data: 56% \n",
    "Accuracy on the Test Data: 54%\n",
    "\n",
    "AUC on the Training Data: 50% \n",
    "AUC on the Test: 50%\n",
    "\n",
    "Accuracy, AUC, Precision and Recall for test data is almost inline with training data. This proves no overfitting or underfitting has happened, and overall the model is a good model for classification.\n",
    "\n",
    "Since the model only has 1473 entries the accuracy is lesser. Maybe if we train and test the model with the higher dataset. It will provide a much better result."
   ]
  }
 ],
 "metadata": {
  "kernelspec": {
   "display_name": "Python 3 (ipykernel)",
   "language": "python",
   "name": "python3"
  },
  "language_info": {
   "codemirror_mode": {
    "name": "ipython",
    "version": 3
   },
   "file_extension": ".py",
   "mimetype": "text/x-python",
   "name": "python",
   "nbconvert_exporter": "python",
   "pygments_lexer": "ipython3",
   "version": "3.9.12"
  }
 },
 "nbformat": 4,
 "nbformat_minor": 5
}
